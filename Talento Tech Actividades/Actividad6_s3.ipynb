{
 "cells": [
  {
   "cell_type": "markdown",
   "metadata": {},
   "source": [
    "# Actividad\n",
    "## Sesion 11\n",
    "### Plotting and visualization"
   ]
  },
  {
   "cell_type": "code",
   "execution_count": 1,
   "metadata": {},
   "outputs": [],
   "source": [
    "import matplotlib.pyplot as plt\n",
    "import pandas as pd\n",
    "import numpy as np"
   ]
  },
  {
   "cell_type": "code",
   "execution_count": null,
   "metadata": {},
   "outputs": [],
   "source": [
    "data = pd.read_csv(r'C:\\Users\\EMMY\\Desktop\\Talento Tech\\Analisis de datos\\Mision 1\\Clases\\DB\\Exportaciones_agr_colas_no_tradicionales_y_tradicionales_20240925.csv')\n",
    "df = data\n",
    "df.head()"
   ]
  },
  {
   "cell_type": "code",
   "execution_count": null,
   "metadata": {},
   "outputs": [],
   "source": [
    "df.info()"
   ]
  },
  {
   "cell_type": "code",
   "execution_count": null,
   "metadata": {},
   "outputs": [],
   "source": [
    "# 1. Genera un boxplot para la variable ‘Exportaciones en volumen (Toneladas)’.\n",
    "df['Exportaciones en volumen (Toneladas)'].plot(kind='box')"
   ]
  },
  {
   "cell_type": "code",
   "execution_count": null,
   "metadata": {},
   "outputs": [],
   "source": [
    "# 2. Genera un histograma para la variable ‘Exportaciones en valor (Miles USD FOB)’\n",
    "df['Exportaciones en valor (Miles USD FOB)'].plot(kind='hist')"
   ]
  },
  {
   "cell_type": "code",
   "execution_count": null,
   "metadata": {},
   "outputs": [],
   "source": [
    "# 3. Genera un gráfico de densidad para la variable ‘Exportaciones en valor (Miles USD FOB)’.\n",
    "df['Exportaciones en valor (Miles USD FOB)'].plot(kind='density')"
   ]
  },
  {
   "cell_type": "code",
   "execution_count": null,
   "metadata": {},
   "outputs": [],
   "source": [
    "# 4. Genera un histograma para la variable ‘Exportaciones en volumen (Toneladas)’.\n",
    "df['Exportaciones en volumen (Toneladas)'].plot(kind='hist')"
   ]
  },
  {
   "cell_type": "code",
   "execution_count": null,
   "metadata": {},
   "outputs": [],
   "source": [
    "# 5. Genera un gráfico de densidad para la variable ‘Exportaciones en volumen (Toneladas)’. \n",
    "df['Exportaciones en volumen (Toneladas)'].plot(kind='density')"
   ]
  },
  {
   "cell_type": "code",
   "execution_count": null,
   "metadata": {},
   "outputs": [],
   "source": [
    "# 6. Genera un boxplot para la variable ‘Exportaciones en valor (Miles USD FOB)’ agrupado por ‘Departamento’.\n",
    "df.plot(kind='box', column= 'Exportaciones en valor (Miles USD FOB)', by= 'Departamento')"
   ]
  },
  {
   "cell_type": "code",
   "execution_count": null,
   "metadata": {},
   "outputs": [],
   "source": [
    "# 7. Genera un gráfico de densidad para la variable ‘Año’.\n",
    "df['Año'].plot(kind='density')"
   ]
  },
  {
   "cell_type": "code",
   "execution_count": null,
   "metadata": {},
   "outputs": [],
   "source": [
    "# 8. Genera un boxplot para la variable ‘Exportaciones en volumen (Toneladas)’ agrupado por ‘País’\n",
    "df.plot(kind='box', column= 'Exportaciones en volumen (Toneladas)', by= 'Pais')"
   ]
  },
  {
   "cell_type": "code",
   "execution_count": null,
   "metadata": {},
   "outputs": [],
   "source": [
    "plt.figure(figsize=(14, 9))\n",
    "df['Pais'].value_counts()[:10].plot(kind='barh')"
   ]
  },
  {
   "cell_type": "code",
   "execution_count": null,
   "metadata": {},
   "outputs": [],
   "source": [
    "df.plot.scatter(x='Exportaciones en valor (Miles USD FOB)', y='Exportaciones en volumen (Toneladas)', title= 'Gráfico de dispersión', color= 'Lightgreen')"
   ]
  },
  {
   "cell_type": "code",
   "execution_count": null,
   "metadata": {},
   "outputs": [],
   "source": [
    "df['Exportaciones en volumen (Toneladas)'].plot(kind='box')"
   ]
  },
  {
   "cell_type": "code",
   "execution_count": null,
   "metadata": {},
   "outputs": [],
   "source": [
    "df['Exportaciones en volumen (Toneladas)'].plot(kind='hist')"
   ]
  }
 ],
 "metadata": {
  "kernelspec": {
   "display_name": "Python 3",
   "language": "python",
   "name": "python3"
  },
  "language_info": {
   "codemirror_mode": {
    "name": "ipython",
    "version": 3
   },
   "file_extension": ".py",
   "mimetype": "text/x-python",
   "name": "python",
   "nbconvert_exporter": "python",
   "pygments_lexer": "ipython3",
   "version": "3.11.5"
  }
 },
 "nbformat": 4,
 "nbformat_minor": 2
}
