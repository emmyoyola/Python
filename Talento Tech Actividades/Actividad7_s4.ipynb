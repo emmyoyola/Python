{
 "cells": [
  {
   "cell_type": "markdown",
   "metadata": {},
   "source": [
    "# Análisis de la biodiversidad en colombia\n",
    "Teniendo en cuenta la base de datos biodiversidad_colombia.csv, que describe información relacionada\n",
    "con la biodiversidad en diferentes regiones de Colombia, con las siguientes variables:\n",
    "* **Región:** Indica la región geográfica (Amazonas, Orinoquía, Pacífico, Andes) donde se realizó la\n",
    "observación.\n",
    "* **Ecosistema:** Tipo de ecosistema (Bosque, Humedal, Sabana).\n",
    "* **Especie:** Clasificación de la especie (Mamífero, Ave, Reptil, Anfibio).\n",
    "* **Abundancia:** Número estimado de individuos por especie.\n",
    "* **Cobertura:** Porcentaje de cobertura de la vegetación en la zona.\n",
    "* **Investigadores:** Número de investigadores trabajando en la zona.\n",
    "* **Altitud** (altura en metros sobre el nivel del mar).\n",
    "* **TemperaturaMedia** (en grados Celsius)\n",
    "* **PrecipitacionAnual** (en milímetros)."
   ]
  },
  {
   "cell_type": "markdown",
   "metadata": {},
   "source": [
    "## Preguntas\n",
    "1. ¿El tamaño de la muestra es?\n",
    "2. ¿Cuántos valores faltantes hay en la variable Ecosistema?\n",
    "3. ¿Cuál es la varianza de la variable TemperaturaMedia?\n",
    "4. ¿Cuál es la media de la variable Investigadores?\n",
    "5. ¿Cuál es la categoría que más se repite en la variable Region?\n",
    "6. ¿Cuál es la media de la abundancia de la especie Ave?\n",
    "7. ¿Cuál es el valor máximo de la variable Investigadores?\n",
    "8. ¿Cuál es el valor mínimo de la variable TemperaturaMedia?\n",
    "9. ¿Cuál es el porcentaje de datos faltantes en la variable Especie?\n",
    "10. ¿Cuál es la desviación estándar de la variable TemperaturaMedia?\n",
    "\n",
    "###### ***Nota*** Responde a las preguntas creando un notebook basado en los datos del archivo *biodiversidad_colombia.csv*"
   ]
  },
  {
   "cell_type": "markdown",
   "metadata": {},
   "source": [
    "#### Importación de librerias"
   ]
  },
  {
   "cell_type": "code",
   "execution_count": 2,
   "metadata": {},
   "outputs": [],
   "source": [
    "import pandas as pd\n",
    "import numpy as np\n",
    "import seaborn as sns                      \n",
    "import matplotlib.pyplot as plt \n",
    "from sklearn.preprocessing import MinMaxScaler, StandardScaler"
   ]
  },
  {
   "cell_type": "code",
   "execution_count": 3,
   "metadata": {},
   "outputs": [],
   "source": [
    "scaler_min_max = MinMaxScaler()\n",
    "scaler_standard = StandardScaler()"
   ]
  },
  {
   "cell_type": "markdown",
   "metadata": {},
   "source": [
    "#### Lectura de datos"
   ]
  },
  {
   "cell_type": "code",
   "execution_count": 4,
   "metadata": {},
   "outputs": [
    {
     "data": {
      "text/html": [
       "<div>\n",
       "<style scoped>\n",
       "    .dataframe tbody tr th:only-of-type {\n",
       "        vertical-align: middle;\n",
       "    }\n",
       "\n",
       "    .dataframe tbody tr th {\n",
       "        vertical-align: top;\n",
       "    }\n",
       "\n",
       "    .dataframe thead th {\n",
       "        text-align: right;\n",
       "    }\n",
       "</style>\n",
       "<table border=\"1\" class=\"dataframe\">\n",
       "  <thead>\n",
       "    <tr style=\"text-align: right;\">\n",
       "      <th></th>\n",
       "      <th>Region</th>\n",
       "      <th>Ecosistema</th>\n",
       "      <th>Especie</th>\n",
       "      <th>Abundancia</th>\n",
       "      <th>Cobertura</th>\n",
       "      <th>Investigadores</th>\n",
       "      <th>Altitud</th>\n",
       "      <th>TemperaturaMedia</th>\n",
       "      <th>PrecipitacionAnual</th>\n",
       "    </tr>\n",
       "  </thead>\n",
       "  <tbody>\n",
       "    <tr>\n",
       "      <th>0</th>\n",
       "      <td>Amazonas</td>\n",
       "      <td>Bosque</td>\n",
       "      <td>Ave</td>\n",
       "      <td>1683</td>\n",
       "      <td>65.6</td>\n",
       "      <td>22.0</td>\n",
       "      <td>2013.5</td>\n",
       "      <td>27.7</td>\n",
       "      <td>1886</td>\n",
       "    </tr>\n",
       "    <tr>\n",
       "      <th>1</th>\n",
       "      <td>Orinoquía</td>\n",
       "      <td>Humedal</td>\n",
       "      <td>Ave</td>\n",
       "      <td>1545</td>\n",
       "      <td>17.9</td>\n",
       "      <td>7.0</td>\n",
       "      <td>812.2</td>\n",
       "      <td>13.1</td>\n",
       "      <td>2546</td>\n",
       "    </tr>\n",
       "    <tr>\n",
       "      <th>2</th>\n",
       "      <td>Amazonas</td>\n",
       "      <td>Humedal</td>\n",
       "      <td>Reptil</td>\n",
       "      <td>1623</td>\n",
       "      <td>50.2</td>\n",
       "      <td>13.0</td>\n",
       "      <td>112.4</td>\n",
       "      <td>24.6</td>\n",
       "      <td>2171</td>\n",
       "    </tr>\n",
       "    <tr>\n",
       "      <th>3</th>\n",
       "      <td>Orinoquía</td>\n",
       "      <td>Sabana</td>\n",
       "      <td>Ave</td>\n",
       "      <td>1333</td>\n",
       "      <td>40.2</td>\n",
       "      <td>35.0</td>\n",
       "      <td>2488.8</td>\n",
       "      <td>23.6</td>\n",
       "      <td>1733</td>\n",
       "    </tr>\n",
       "    <tr>\n",
       "      <th>4</th>\n",
       "      <td>Amazonas</td>\n",
       "      <td>Bosque</td>\n",
       "      <td>Mamífero</td>\n",
       "      <td>1643</td>\n",
       "      <td>46.5</td>\n",
       "      <td>35.0</td>\n",
       "      <td>2792.8</td>\n",
       "      <td>25.5</td>\n",
       "      <td>1401</td>\n",
       "    </tr>\n",
       "  </tbody>\n",
       "</table>\n",
       "</div>"
      ],
      "text/plain": [
       "      Region Ecosistema   Especie  Abundancia  Cobertura  Investigadores  \\\n",
       "0   Amazonas     Bosque       Ave        1683       65.6            22.0   \n",
       "1  Orinoquía    Humedal       Ave        1545       17.9             7.0   \n",
       "2   Amazonas    Humedal    Reptil        1623       50.2            13.0   \n",
       "3  Orinoquía     Sabana       Ave        1333       40.2            35.0   \n",
       "4   Amazonas     Bosque  Mamífero        1643       46.5            35.0   \n",
       "\n",
       "   Altitud  TemperaturaMedia  PrecipitacionAnual  \n",
       "0   2013.5              27.7                1886  \n",
       "1    812.2              13.1                2546  \n",
       "2    112.4              24.6                2171  \n",
       "3   2488.8              23.6                1733  \n",
       "4   2792.8              25.5                1401  "
      ]
     },
     "execution_count": 4,
     "metadata": {},
     "output_type": "execute_result"
    }
   ],
   "source": [
    "data = pd.read_csv(r'C:\\Users\\EMMY\\Desktop\\Talento Tech\\Analisis de datos\\Mision 2\\Clases\\DB\\biodiversidad_colombia.csv', sep= ';', decimal=',')\n",
    "df = data\n",
    "df.head()"
   ]
  },
  {
   "cell_type": "code",
   "execution_count": 5,
   "metadata": {},
   "outputs": [
    {
     "name": "stdout",
     "output_type": "stream",
     "text": [
      "<class 'pandas.core.frame.DataFrame'>\n",
      "RangeIndex: 100 entries, 0 to 99\n",
      "Data columns (total 9 columns):\n",
      " #   Column              Non-Null Count  Dtype  \n",
      "---  ------              --------------  -----  \n",
      " 0   Region              97 non-null     object \n",
      " 1   Ecosistema          82 non-null     object \n",
      " 2   Especie             95 non-null     object \n",
      " 3   Abundancia          100 non-null    int64  \n",
      " 4   Cobertura           100 non-null    float64\n",
      " 5   Investigadores      91 non-null     float64\n",
      " 6   Altitud             100 non-null    float64\n",
      " 7   TemperaturaMedia    100 non-null    float64\n",
      " 8   PrecipitacionAnual  100 non-null    int64  \n",
      "dtypes: float64(4), int64(2), object(3)\n",
      "memory usage: 7.2+ KB\n"
     ]
    }
   ],
   "source": [
    "df.info()"
   ]
  },
  {
   "cell_type": "markdown",
   "metadata": {},
   "source": [
    "### 1. ¿El tamaño de la muestra es?"
   ]
  },
  {
   "cell_type": "code",
   "execution_count": 6,
   "metadata": {},
   "outputs": [
    {
     "name": "stdout",
     "output_type": "stream",
     "text": [
      "El tamaño de la muestra es 100\n"
     ]
    }
   ],
   "source": [
    "print(f'El tamaño de la muestra es {df.shape[0]}')"
   ]
  },
  {
   "cell_type": "markdown",
   "metadata": {},
   "source": [
    "### 2. ¿Cuántos valores faltantes hay en la variable Ecosistema?"
   ]
  },
  {
   "cell_type": "code",
   "execution_count": 7,
   "metadata": {},
   "outputs": [
    {
     "name": "stdout",
     "output_type": "stream",
     "text": [
      "En la variable Ecosistema hay 18 valores faltantes\n"
     ]
    }
   ],
   "source": [
    "print(f\"En la variable Ecosistema hay {df['Ecosistema'].isna().sum()} valores faltantes\") # Se deben usar distintos tipos de comillas"
   ]
  },
  {
   "cell_type": "markdown",
   "metadata": {},
   "source": [
    "### 3. ¿Cuál es la varianza de la variable TemperaturaMedia?"
   ]
  },
  {
   "cell_type": "code",
   "execution_count": 8,
   "metadata": {},
   "outputs": [
    {
     "name": "stdout",
     "output_type": "stream",
     "text": [
      "La varianza de la variable TemperaturaMedia es: 26.6\n"
     ]
    }
   ],
   "source": [
    "print(f'La varianza de la variable TemperaturaMedia es: {df[\"TemperaturaMedia\"].var().round(2)}')"
   ]
  },
  {
   "cell_type": "markdown",
   "metadata": {},
   "source": [
    "### 4. ¿Cuál es la media de la variable Investigadores?"
   ]
  },
  {
   "cell_type": "code",
   "execution_count": 9,
   "metadata": {},
   "outputs": [
    {
     "name": "stdout",
     "output_type": "stream",
     "text": [
      "La media de la variable Investigadores es: 26.48\n"
     ]
    }
   ],
   "source": [
    "print(f\"La media de la variable Investigadores es: {df['Investigadores'].mean().round(2)}\")"
   ]
  },
  {
   "cell_type": "markdown",
   "metadata": {},
   "source": [
    "### 5. ¿Cuál es la categoría que más se repite en la variable Region?"
   ]
  },
  {
   "cell_type": "code",
   "execution_count": 17,
   "metadata": {},
   "outputs": [
    {
     "name": "stdout",
     "output_type": "stream",
     "text": [
      "La categoría que más se repite en la variable Región es: Amazonas\n"
     ]
    }
   ],
   "source": [
    "print(f\"La categoría que más se repite en la variable Región es: {df['Region'].mode().iloc[0]}\") # .iloc[0] para retornar \"Amazonas\" sin el índice ni el tipo de dato"
   ]
  },
  {
   "cell_type": "markdown",
   "metadata": {},
   "source": [
    "### 6. ¿Cuál es la media de la abundancia de la especie Ave?"
   ]
  },
  {
   "cell_type": "code",
   "execution_count": 11,
   "metadata": {},
   "outputs": [
    {
     "name": "stdout",
     "output_type": "stream",
     "text": [
      "La media de la abundancia de la especie Ave es: 1641.2\n"
     ]
    }
   ],
   "source": [
    "df.groupby('Especie')['Abundancia'].mean() # Retorna todas las especies\n",
    "\n",
    "print(f\"La media de la abundancia de la especie Ave es: {df[df['Especie'] == 'Ave']['Abundancia'].mean()}\")"
   ]
  },
  {
   "cell_type": "markdown",
   "metadata": {},
   "source": [
    "### 7. ¿Cuál es el valor máximo de la variable Investigadores?"
   ]
  },
  {
   "cell_type": "code",
   "execution_count": 12,
   "metadata": {},
   "outputs": [
    {
     "name": "stdout",
     "output_type": "stream",
     "text": [
      "El valor máximo de la variable Investigadores es: 50.0\n"
     ]
    }
   ],
   "source": [
    "print(f\"El valor máximo de la variable Investigadores es: {df['Investigadores'].max()}\")"
   ]
  },
  {
   "cell_type": "markdown",
   "metadata": {},
   "source": [
    "### 8. ¿Cuál es el valor mínimo de la variable TemperaturaMedia?"
   ]
  },
  {
   "cell_type": "code",
   "execution_count": 13,
   "metadata": {},
   "outputs": [
    {
     "name": "stdout",
     "output_type": "stream",
     "text": [
      "El valor mínimo de la variable TemperaturaMedia es: 13.0\n"
     ]
    }
   ],
   "source": [
    "print(f\"El valor mínimo de la variable TemperaturaMedia es: {df['TemperaturaMedia'].min()}\")"
   ]
  },
  {
   "cell_type": "markdown",
   "metadata": {},
   "source": [
    "### 9. ¿Cuál es el porcentaje de datos faltantes en la variable Especie?"
   ]
  },
  {
   "cell_type": "code",
   "execution_count": 14,
   "metadata": {},
   "outputs": [
    {
     "name": "stdout",
     "output_type": "stream",
     "text": [
      "El porcentaje de datos faltantes en la variable Especie es 5.0%\n"
     ]
    }
   ],
   "source": [
    "Especie_NaN = df['Especie'].isna().sum()\n",
    "Tot = df.shape[0]\n",
    "print(f\"El porcentaje de datos faltantes en la variable Especie es {(Especie_NaN/Tot)*100}%\")"
   ]
  },
  {
   "cell_type": "markdown",
   "metadata": {},
   "source": [
    "### 10. ¿Cuál es la desviación estándar de la variable TemperaturaMedia?"
   ]
  },
  {
   "cell_type": "code",
   "execution_count": 15,
   "metadata": {},
   "outputs": [
    {
     "name": "stdout",
     "output_type": "stream",
     "text": [
      "La desviación estándar de la variable TemperaturaMedia es: 5.16\n"
     ]
    }
   ],
   "source": [
    "print(f\"La desviación estándar de la variable TemperaturaMedia es: {df['TemperaturaMedia'].std().round(2)}\")"
   ]
  }
 ],
 "metadata": {
  "kernelspec": {
   "display_name": "Python 3",
   "language": "python",
   "name": "python3"
  },
  "language_info": {
   "codemirror_mode": {
    "name": "ipython",
    "version": 3
   },
   "file_extension": ".py",
   "mimetype": "text/x-python",
   "name": "python",
   "nbconvert_exporter": "python",
   "pygments_lexer": "ipython3",
   "version": "3.11.5"
  }
 },
 "nbformat": 4,
 "nbformat_minor": 2
}
