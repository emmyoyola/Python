{
 "cells": [
  {
   "cell_type": "markdown",
   "metadata": {},
   "source": [
    "# Limpieza y unión de datos"
   ]
  },
  {
   "cell_type": "markdown",
   "metadata": {},
   "source": [
    "## Instalación de librerías"
   ]
  },
  {
   "cell_type": "code",
   "execution_count": 1,
   "metadata": {},
   "outputs": [],
   "source": [
    "import pandas as pd\n",
    "import geopandas as gpd"
   ]
  },
  {
   "cell_type": "markdown",
   "metadata": {},
   "source": [
    "## Carga de datos"
   ]
  },
  {
   "cell_type": "code",
   "execution_count": 2,
   "metadata": {},
   "outputs": [],
   "source": [
    "datos = pd.read_csv(r'C:\\Users\\EMMY\\Desktop\\Proyecto\\Limpieza\\datos.csv')"
   ]
  },
  {
   "cell_type": "markdown",
   "metadata": {},
   "source": [
    "## Agregar subregiones"
   ]
  },
  {
   "cell_type": "code",
   "execution_count": 3,
   "metadata": {},
   "outputs": [
    {
     "name": "stdout",
     "output_type": "stream",
     "text": [
      "Index(['OBJECTID', 'COD_SUBREG', 'NOM_SUBREG', 'COD_DEPTO', 'ShapeSTAre',\n",
      "       'ShapeSTLen', 'geometry'],\n",
      "      dtype='object')\n",
      "Index(['dpto_ccdgo', 'mpio_ccdgo', 'mpio_cdpmp', 'dpto_cnmbr', 'mpio_cnmbr',\n",
      "       'mpio_crslc', 'mpio_tipo', 'mpio_narea', 'mpio_nano', 'shape_Leng',\n",
      "       'shape_Area', 'geometry'],\n",
      "      dtype='object')\n"
     ]
    }
   ],
   "source": [
    "# Subregiones\n",
    "subregiones_shapefile = r'C:\\Users\\EMMY\\Desktop\\Proyecto\\DB Original\\Subregiones_-_Provincias_de_Colombia\\Subregiones_-_Provincias_de_Colombia.shp'\n",
    "sub = gpd.read_file(subregiones_shapefile)\n",
    "\n",
    "# Municipios\n",
    "municipios_shapefile = r'C:\\Users\\EMMY\\Desktop\\Proyecto\\DB Original\\MGN2023_MPIO_POLITICO\\MGN_ADM_MPIO_GRAFICO.shp'\n",
    "mun = gpd.read_file(municipios_shapefile)\n",
    "\n",
    "# Ver las columnas de los archivos\n",
    "print(sub.columns)\n",
    "print(mun.columns)"
   ]
  },
  {
   "cell_type": "code",
   "execution_count": 4,
   "metadata": {},
   "outputs": [
    {
     "data": {
      "text/html": [
       "<div>\n",
       "<style scoped>\n",
       "    .dataframe tbody tr th:only-of-type {\n",
       "        vertical-align: middle;\n",
       "    }\n",
       "\n",
       "    .dataframe tbody tr th {\n",
       "        vertical-align: top;\n",
       "    }\n",
       "\n",
       "    .dataframe thead th {\n",
       "        text-align: right;\n",
       "    }\n",
       "</style>\n",
       "<table border=\"1\" class=\"dataframe\">\n",
       "  <thead>\n",
       "    <tr style=\"text-align: right;\">\n",
       "      <th></th>\n",
       "      <th>dpto_ccdgo</th>\n",
       "      <th>mpio_ccdgo</th>\n",
       "      <th>mpio_cdpmp</th>\n",
       "      <th>dpto_cnmbr</th>\n",
       "      <th>mpio_cnmbr</th>\n",
       "      <th>mpio_crslc</th>\n",
       "      <th>mpio_tipo</th>\n",
       "      <th>mpio_narea</th>\n",
       "      <th>mpio_nano</th>\n",
       "      <th>shape_Leng</th>\n",
       "      <th>shape_Area</th>\n",
       "      <th>geometry</th>\n",
       "    </tr>\n",
       "  </thead>\n",
       "  <tbody>\n",
       "    <tr>\n",
       "      <th>0</th>\n",
       "      <td>05</td>\n",
       "      <td>001</td>\n",
       "      <td>05001</td>\n",
       "      <td>ANTIOQUIA</td>\n",
       "      <td>MEDELLÍN</td>\n",
       "      <td>1965</td>\n",
       "      <td>MUNICIPIO</td>\n",
       "      <td>374.834005</td>\n",
       "      <td>2023</td>\n",
       "      <td>1.03538</td>\n",
       "      <td>0.030608</td>\n",
       "      <td>POLYGON ((-75.66974 6.3736, -75.66965 6.3736, ...</td>\n",
       "    </tr>\n",
       "  </tbody>\n",
       "</table>\n",
       "</div>"
      ],
      "text/plain": [
       "  dpto_ccdgo mpio_ccdgo mpio_cdpmp dpto_cnmbr mpio_cnmbr mpio_crslc  \\\n",
       "0         05        001      05001  ANTIOQUIA   MEDELLÍN       1965   \n",
       "\n",
       "   mpio_tipo  mpio_narea  mpio_nano  shape_Leng  shape_Area  \\\n",
       "0  MUNICIPIO  374.834005       2023     1.03538    0.030608   \n",
       "\n",
       "                                            geometry  \n",
       "0  POLYGON ((-75.66974 6.3736, -75.66965 6.3736, ...  "
      ]
     },
     "execution_count": 4,
     "metadata": {},
     "output_type": "execute_result"
    }
   ],
   "source": [
    "mun.head(1)"
   ]
  },
  {
   "cell_type": "markdown",
   "metadata": {},
   "source": [
    "### Eliminar columnas innecesarias"
   ]
  },
  {
   "cell_type": "code",
   "execution_count": 5,
   "metadata": {},
   "outputs": [],
   "source": [
    "sub = sub.drop(columns= ['OBJECTID', 'COD_SUBREG', 'ShapeSTAre', 'ShapeSTLen'])"
   ]
  },
  {
   "cell_type": "code",
   "execution_count": 6,
   "metadata": {},
   "outputs": [],
   "source": [
    "mun = mun.drop(columns= ['mpio_ccdgo', 'mpio_crslc', 'mpio_tipo', 'mpio_narea', 'mpio_nano', 'shape_Leng', 'shape_Area'])"
   ]
  },
  {
   "cell_type": "markdown",
   "metadata": {},
   "source": [
    "### Extraer los registros de Bolívar y Córdoba"
   ]
  },
  {
   "cell_type": "code",
   "execution_count": 7,
   "metadata": {},
   "outputs": [
    {
     "data": {
      "text/plain": [
       "['13', '23']"
      ]
     },
     "execution_count": 7,
     "metadata": {},
     "output_type": "execute_result"
    }
   ],
   "source": [
    "departamento = ['13', '23']\n",
    "departamento"
   ]
  },
  {
   "cell_type": "code",
   "execution_count": 8,
   "metadata": {},
   "outputs": [],
   "source": [
    "# Filtrar los archivos shp para los registros de Córdoba y Bolívar\n",
    "\n",
    "sub1 = sub[sub['COD_DEPTO'].isin(departamento)].reset_index() #Departamentos\n",
    "mun1 = mun[mun['dpto_ccdgo'].isin(departamento)].reset_index() #Municipios"
   ]
  },
  {
   "cell_type": "code",
   "execution_count": null,
   "metadata": {},
   "outputs": [
    {
     "name": "stdout",
     "output_type": "stream",
     "text": [
      "existen 76 municipios en el archivo datos\n"
     ]
    }
   ],
   "source": [
    "print(f'existen {datos['codigo_dane_municipio'].nunique()} municipios en el archivo datos')"
   ]
  },
  {
   "cell_type": "code",
   "execution_count": 10,
   "metadata": {},
   "outputs": [
    {
     "name": "stdout",
     "output_type": "stream",
     "text": [
      "sub1 tiene 13 registros y 13 subregiones diferentes\n"
     ]
    }
   ],
   "source": [
    "print(f'sub1 tiene {sub1.shape[0]} registros y {sub1['NOM_SUBREG'].nunique()} subregiones diferentes')"
   ]
  },
  {
   "cell_type": "code",
   "execution_count": 11,
   "metadata": {},
   "outputs": [
    {
     "name": "stdout",
     "output_type": "stream",
     "text": [
      "mun1 tiene 76 registros y 76 municipios diferentes\n"
     ]
    }
   ],
   "source": [
    "print(f'mun1 tiene {mun1.shape[0]} registros y {mun1['mpio_cnmbr'].nunique()} municipios diferentes')"
   ]
  },
  {
   "cell_type": "markdown",
   "metadata": {},
   "source": [
    "### Unir los 2 archivos shp"
   ]
  },
  {
   "cell_type": "code",
   "execution_count": 12,
   "metadata": {},
   "outputs": [],
   "source": [
    "# Asegurarse de que ambos GeoDataFrames tengan el mismo sistema de coordenadas\n",
    "sub1 = sub1.to_crs(mun1.crs)"
   ]
  },
  {
   "cell_type": "code",
   "execution_count": 13,
   "metadata": {},
   "outputs": [],
   "source": [
    "# Realizar una unión espacial para agregar la subregión a cada municipio\n",
    "mun2 =  gpd.sjoin(mun1, sub1[['NOM_SUBREG', 'geometry']], how='left', predicate='intersects')"
   ]
  },
  {
   "cell_type": "code",
   "execution_count": 14,
   "metadata": {},
   "outputs": [
    {
     "name": "stdout",
     "output_type": "stream",
     "text": [
      "<class 'geopandas.geodataframe.GeoDataFrame'>\n",
      "Index: 158 entries, 0 to 75\n",
      "Data columns (total 8 columns):\n",
      " #   Column       Non-Null Count  Dtype   \n",
      "---  ------       --------------  -----   \n",
      " 0   index        158 non-null    int64   \n",
      " 1   dpto_ccdgo   158 non-null    object  \n",
      " 2   mpio_cdpmp   158 non-null    object  \n",
      " 3   dpto_cnmbr   158 non-null    object  \n",
      " 4   mpio_cnmbr   158 non-null    object  \n",
      " 5   geometry     158 non-null    geometry\n",
      " 6   index_right  158 non-null    int64   \n",
      " 7   NOM_SUBREG   158 non-null    object  \n",
      "dtypes: geometry(1), int64(2), object(5)\n",
      "memory usage: 11.1+ KB\n"
     ]
    }
   ],
   "source": [
    "# Verificamos que no existen valores nulos\n",
    "mun2.info()"
   ]
  },
  {
   "cell_type": "markdown",
   "metadata": {},
   "source": [
    "Al inspeccionar el DataFrame mun2 con el método .info(), se observa que el número de registros aumentó de 76 a 158. Esto ocurre porque, según las coordenadas de latitud y longitud, algunos municipios están asociados a más de una subregión. Para optimizar el análisis, se seleccionará la subregión que ocupe la mayor proporción del área en cada municipio."
   ]
  },
  {
   "cell_type": "code",
   "execution_count": 15,
   "metadata": {},
   "outputs": [],
   "source": [
    "# Asegurarte de reproyectar tus datos a un CRS proyectado\n",
    "mun1 = mun1.to_crs('EPSG:3116')\n",
    "sub1 = sub1.to_crs('EPSG:3116')\n",
    "\n",
    "# Realizar la unión espacial con todas las subregiones\n",
    "mun3 = gpd.sjoin(mun1, sub1[['NOM_SUBREG', 'geometry']], how='left', predicate='intersects')"
   ]
  },
  {
   "cell_type": "code",
   "execution_count": 16,
   "metadata": {},
   "outputs": [],
   "source": [
    "mun3 = mun3.drop(columns=['index', 'index_right'])"
   ]
  },
  {
   "cell_type": "code",
   "execution_count": 17,
   "metadata": {},
   "outputs": [],
   "source": [
    "# Calcular el área de intersección para los municipios que tienen intersección\n",
    "mun3['area_intersection'] = mun3.apply(\n",
    "    lambda row: row.geometry.intersection(sub1.loc[sub1['NOM_SUBREG'] == row.NOM_SUBREG, 'geometry'].values[0]).area\n",
    "    if pd.notna(row.NOM_SUBREG) else 0, axis=1\n",
    ")"
   ]
  },
  {
   "cell_type": "code",
   "execution_count": 18,
   "metadata": {},
   "outputs": [
    {
     "data": {
      "text/plain": [
       "Index(['index', 'dpto_ccdgo', 'mpio_cdpmp', 'dpto_cnmbr', 'mpio_cnmbr',\n",
       "       'geometry', 'NOM_SUBREG', 'area_intersection'],\n",
       "      dtype='object')"
      ]
     },
     "execution_count": 18,
     "metadata": {},
     "output_type": "execute_result"
    }
   ],
   "source": [
    "mun3 = mun3.reset_index()\n",
    "mun3.columns"
   ]
  },
  {
   "cell_type": "code",
   "execution_count": 19,
   "metadata": {},
   "outputs": [
    {
     "data": {
      "text/plain": [
       "Index(['dpto_ccdgo', 'mpio_cdpmp', 'dpto_cnmbr', 'mpio_cnmbr', 'geometry',\n",
       "       'NOM_SUBREG', 'area_intersection'],\n",
       "      dtype='object')"
      ]
     },
     "execution_count": 19,
     "metadata": {},
     "output_type": "execute_result"
    }
   ],
   "source": [
    "mun3 = mun3.drop(columns= 'index')\n",
    "mun3.columns"
   ]
  },
  {
   "cell_type": "code",
   "execution_count": 20,
   "metadata": {},
   "outputs": [
    {
     "data": {
      "text/html": [
       "<div>\n",
       "<style scoped>\n",
       "    .dataframe tbody tr th:only-of-type {\n",
       "        vertical-align: middle;\n",
       "    }\n",
       "\n",
       "    .dataframe tbody tr th {\n",
       "        vertical-align: top;\n",
       "    }\n",
       "\n",
       "    .dataframe thead th {\n",
       "        text-align: right;\n",
       "    }\n",
       "</style>\n",
       "<table border=\"1\" class=\"dataframe\">\n",
       "  <thead>\n",
       "    <tr style=\"text-align: right;\">\n",
       "      <th></th>\n",
       "      <th>dpto_ccdgo</th>\n",
       "      <th>mpio_cdpmp</th>\n",
       "      <th>dpto_cnmbr</th>\n",
       "      <th>mpio_cnmbr</th>\n",
       "      <th>geometry</th>\n",
       "      <th>NOM_SUBREG</th>\n",
       "      <th>area_intersection</th>\n",
       "    </tr>\n",
       "  </thead>\n",
       "  <tbody>\n",
       "    <tr>\n",
       "      <th>0</th>\n",
       "      <td>13</td>\n",
       "      <td>13001</td>\n",
       "      <td>BOLÍVAR</td>\n",
       "      <td>CARTAGENA DE INDIAS</td>\n",
       "      <td>MULTIPOLYGON (((769766.263 1530601.606, 769799...</td>\n",
       "      <td>DIQUE BOLIVARENSE</td>\n",
       "      <td>5.666435e+08</td>\n",
       "    </tr>\n",
       "    <tr>\n",
       "      <th>1</th>\n",
       "      <td>13</td>\n",
       "      <td>13006</td>\n",
       "      <td>BOLÍVAR</td>\n",
       "      <td>ACHÍ</td>\n",
       "      <td>POLYGON ((949670.931 1469163.561, 949682.178 1...</td>\n",
       "      <td>MOJANA BOLIVARENSE</td>\n",
       "      <td>9.489217e+08</td>\n",
       "    </tr>\n",
       "    <tr>\n",
       "      <th>3</th>\n",
       "      <td>13</td>\n",
       "      <td>13030</td>\n",
       "      <td>BOLÍVAR</td>\n",
       "      <td>ALTOS DEL ROSARIO</td>\n",
       "      <td>POLYGON ((996092.313 1469127.072, 996099.736 1...</td>\n",
       "      <td>LOBA</td>\n",
       "      <td>3.031439e+08</td>\n",
       "    </tr>\n",
       "    <tr>\n",
       "      <th>4</th>\n",
       "      <td>13</td>\n",
       "      <td>13042</td>\n",
       "      <td>BOLÍVAR</td>\n",
       "      <td>ARENAL</td>\n",
       "      <td>POLYGON ((1021697.028 1428592.627, 1021697.017...</td>\n",
       "      <td>MAGDALENA MEDIO BOLIVARENSE</td>\n",
       "      <td>4.602459e+08</td>\n",
       "    </tr>\n",
       "    <tr>\n",
       "      <th>8</th>\n",
       "      <td>13</td>\n",
       "      <td>13052</td>\n",
       "      <td>BOLÍVAR</td>\n",
       "      <td>ARJONA</td>\n",
       "      <td>POLYGON ((866038.263 1635342.895, 866063.189 1...</td>\n",
       "      <td>DIQUE BOLIVARENSE</td>\n",
       "      <td>5.871317e+08</td>\n",
       "    </tr>\n",
       "    <tr>\n",
       "      <th>...</th>\n",
       "      <td>...</td>\n",
       "      <td>...</td>\n",
       "      <td>...</td>\n",
       "      <td>...</td>\n",
       "      <td>...</td>\n",
       "      <td>...</td>\n",
       "      <td>...</td>\n",
       "    </tr>\n",
       "    <tr>\n",
       "      <th>146</th>\n",
       "      <td>23</td>\n",
       "      <td>23682</td>\n",
       "      <td>CÓRDOBA</td>\n",
       "      <td>SAN JOSÉ DE URÉ</td>\n",
       "      <td>POLYGON ((840485.581 1370652.785, 840590.527 1...</td>\n",
       "      <td>SAN JORGE</td>\n",
       "      <td>5.254161e+08</td>\n",
       "    </tr>\n",
       "    <tr>\n",
       "      <th>148</th>\n",
       "      <td>23</td>\n",
       "      <td>23686</td>\n",
       "      <td>CÓRDOBA</td>\n",
       "      <td>SAN PELAYO</td>\n",
       "      <td>POLYGON ((796652.476 1495620.852, 796655.896 1...</td>\n",
       "      <td>SINÚ MEDIO</td>\n",
       "      <td>4.398211e+08</td>\n",
       "    </tr>\n",
       "    <tr>\n",
       "      <th>151</th>\n",
       "      <td>23</td>\n",
       "      <td>23807</td>\n",
       "      <td>CÓRDOBA</td>\n",
       "      <td>TIERRALTA</td>\n",
       "      <td>POLYGON ((791532.867 1413292.089, 792521.486 1...</td>\n",
       "      <td>ALTO SINÚ</td>\n",
       "      <td>4.915535e+09</td>\n",
       "    </tr>\n",
       "    <tr>\n",
       "      <th>154</th>\n",
       "      <td>23</td>\n",
       "      <td>23815</td>\n",
       "      <td>CÓRDOBA</td>\n",
       "      <td>TUCHÍN</td>\n",
       "      <td>POLYGON ((843961.394 1518775.038, 843980.196 1...</td>\n",
       "      <td>SABANAS</td>\n",
       "      <td>1.026547e+08</td>\n",
       "    </tr>\n",
       "    <tr>\n",
       "      <th>156</th>\n",
       "      <td>23</td>\n",
       "      <td>23855</td>\n",
       "      <td>CÓRDOBA</td>\n",
       "      <td>VALENCIA</td>\n",
       "      <td>POLYGON ((768997.813 1421129.933, 769037.649 1...</td>\n",
       "      <td>ALTO SINÚ</td>\n",
       "      <td>9.169526e+08</td>\n",
       "    </tr>\n",
       "  </tbody>\n",
       "</table>\n",
       "<p>76 rows × 7 columns</p>\n",
       "</div>"
      ],
      "text/plain": [
       "    dpto_ccdgo mpio_cdpmp dpto_cnmbr           mpio_cnmbr  \\\n",
       "0           13      13001    BOLÍVAR  CARTAGENA DE INDIAS   \n",
       "1           13      13006    BOLÍVAR                 ACHÍ   \n",
       "3           13      13030    BOLÍVAR    ALTOS DEL ROSARIO   \n",
       "4           13      13042    BOLÍVAR               ARENAL   \n",
       "8           13      13052    BOLÍVAR               ARJONA   \n",
       "..         ...        ...        ...                  ...   \n",
       "146         23      23682    CÓRDOBA      SAN JOSÉ DE URÉ   \n",
       "148         23      23686    CÓRDOBA           SAN PELAYO   \n",
       "151         23      23807    CÓRDOBA            TIERRALTA   \n",
       "154         23      23815    CÓRDOBA               TUCHÍN   \n",
       "156         23      23855    CÓRDOBA             VALENCIA   \n",
       "\n",
       "                                              geometry  \\\n",
       "0    MULTIPOLYGON (((769766.263 1530601.606, 769799...   \n",
       "1    POLYGON ((949670.931 1469163.561, 949682.178 1...   \n",
       "3    POLYGON ((996092.313 1469127.072, 996099.736 1...   \n",
       "4    POLYGON ((1021697.028 1428592.627, 1021697.017...   \n",
       "8    POLYGON ((866038.263 1635342.895, 866063.189 1...   \n",
       "..                                                 ...   \n",
       "146  POLYGON ((840485.581 1370652.785, 840590.527 1...   \n",
       "148  POLYGON ((796652.476 1495620.852, 796655.896 1...   \n",
       "151  POLYGON ((791532.867 1413292.089, 792521.486 1...   \n",
       "154  POLYGON ((843961.394 1518775.038, 843980.196 1...   \n",
       "156  POLYGON ((768997.813 1421129.933, 769037.649 1...   \n",
       "\n",
       "                      NOM_SUBREG  area_intersection  \n",
       "0              DIQUE BOLIVARENSE       5.666435e+08  \n",
       "1             MOJANA BOLIVARENSE       9.489217e+08  \n",
       "3                           LOBA       3.031439e+08  \n",
       "4    MAGDALENA MEDIO BOLIVARENSE       4.602459e+08  \n",
       "8              DIQUE BOLIVARENSE       5.871317e+08  \n",
       "..                           ...                ...  \n",
       "146                    SAN JORGE       5.254161e+08  \n",
       "148                   SINÚ MEDIO       4.398211e+08  \n",
       "151                    ALTO SINÚ       4.915535e+09  \n",
       "154                      SABANAS       1.026547e+08  \n",
       "156                    ALTO SINÚ       9.169526e+08  \n",
       "\n",
       "[76 rows x 7 columns]"
      ]
     },
     "execution_count": 20,
     "metadata": {},
     "output_type": "execute_result"
    }
   ],
   "source": [
    "# Seleccionar el registro con el área de intersección más grande por municipio\n",
    "mun3_max_area = mun3.loc[mun3.groupby('mpio_cdpmp')['area_intersection'].idxmax()]\n",
    "mun3_max_area"
   ]
  },
  {
   "cell_type": "code",
   "execution_count": 21,
   "metadata": {},
   "outputs": [],
   "source": [
    "# Resetear el índice\n",
    "mun3 = mun3_max_area.reset_index(drop=True)"
   ]
  },
  {
   "cell_type": "code",
   "execution_count": 22,
   "metadata": {},
   "outputs": [],
   "source": [
    "# Si un municipio no tiene intersección, sus columnas de subregión quedan como NaN\n",
    "mun3 = mun3[['mpio_cdpmp', 'mpio_cnmbr', 'NOM_SUBREG']]"
   ]
  },
  {
   "cell_type": "code",
   "execution_count": 23,
   "metadata": {},
   "outputs": [
    {
     "data": {
      "text/plain": [
       "(76, 3)"
      ]
     },
     "execution_count": 23,
     "metadata": {},
     "output_type": "execute_result"
    }
   ],
   "source": [
    "mun3.shape"
   ]
  },
  {
   "cell_type": "code",
   "execution_count": 24,
   "metadata": {},
   "outputs": [
    {
     "name": "stdout",
     "output_type": "stream",
     "text": [
      "<class 'pandas.core.frame.DataFrame'>\n",
      "RangeIndex: 76 entries, 0 to 75\n",
      "Data columns (total 3 columns):\n",
      " #   Column      Non-Null Count  Dtype \n",
      "---  ------      --------------  ----- \n",
      " 0   mpio_cdpmp  76 non-null     object\n",
      " 1   mpio_cnmbr  76 non-null     object\n",
      " 2   NOM_SUBREG  76 non-null     object\n",
      "dtypes: object(3)\n",
      "memory usage: 1.9+ KB\n"
     ]
    }
   ],
   "source": [
    "mun3.info()"
   ]
  },
  {
   "cell_type": "code",
   "execution_count": 25,
   "metadata": {},
   "outputs": [
    {
     "data": {
      "text/plain": [
       "76"
      ]
     },
     "execution_count": 25,
     "metadata": {},
     "output_type": "execute_result"
    }
   ],
   "source": [
    "mun3['mpio_cdpmp'].nunique()"
   ]
  },
  {
   "cell_type": "code",
   "execution_count": 26,
   "metadata": {},
   "outputs": [
    {
     "data": {
      "text/plain": [
       "13"
      ]
     },
     "execution_count": 26,
     "metadata": {},
     "output_type": "execute_result"
    }
   ],
   "source": [
    "mun3['NOM_SUBREG'].nunique()"
   ]
  },
  {
   "cell_type": "code",
   "execution_count": 27,
   "metadata": {},
   "outputs": [
    {
     "data": {
      "text/plain": [
       "Index(['mpio_cdpmp', 'mpio_cnmbr', 'NOM_SUBREG'], dtype='object')"
      ]
     },
     "execution_count": 27,
     "metadata": {},
     "output_type": "execute_result"
    }
   ],
   "source": [
    "mun3.columns"
   ]
  },
  {
   "cell_type": "code",
   "execution_count": 28,
   "metadata": {},
   "outputs": [
    {
     "data": {
      "text/plain": [
       "Index(['codigo_dane_departamento', 'departamento', 'codigo_dane_municipio',\n",
       "       'municipio', 'grupo_cultivo', 'subgrupo', 'cultivo',\n",
       "       'desagregacion_cultivo', 'año', 'periodo', 'area_sembrada',\n",
       "       'area_cosechada', 'produccion', 'rendimiento', 'ciclo_cultivo'],\n",
       "      dtype='object')"
      ]
     },
     "execution_count": 28,
     "metadata": {},
     "output_type": "execute_result"
    }
   ],
   "source": [
    "datos.columns"
   ]
  },
  {
   "cell_type": "code",
   "execution_count": 29,
   "metadata": {},
   "outputs": [
    {
     "data": {
      "text/html": [
       "<div>\n",
       "<style scoped>\n",
       "    .dataframe tbody tr th:only-of-type {\n",
       "        vertical-align: middle;\n",
       "    }\n",
       "\n",
       "    .dataframe tbody tr th {\n",
       "        vertical-align: top;\n",
       "    }\n",
       "\n",
       "    .dataframe thead th {\n",
       "        text-align: right;\n",
       "    }\n",
       "</style>\n",
       "<table border=\"1\" class=\"dataframe\">\n",
       "  <thead>\n",
       "    <tr style=\"text-align: right;\">\n",
       "      <th></th>\n",
       "      <th>codigo_dane_municipio</th>\n",
       "      <th>mpio_cnmbr</th>\n",
       "      <th>NOM_SUBREG</th>\n",
       "    </tr>\n",
       "  </thead>\n",
       "  <tbody>\n",
       "    <tr>\n",
       "      <th>0</th>\n",
       "      <td>13001</td>\n",
       "      <td>CARTAGENA DE INDIAS</td>\n",
       "      <td>DIQUE BOLIVARENSE</td>\n",
       "    </tr>\n",
       "    <tr>\n",
       "      <th>1</th>\n",
       "      <td>13006</td>\n",
       "      <td>ACHÍ</td>\n",
       "      <td>MOJANA BOLIVARENSE</td>\n",
       "    </tr>\n",
       "    <tr>\n",
       "      <th>2</th>\n",
       "      <td>13030</td>\n",
       "      <td>ALTOS DEL ROSARIO</td>\n",
       "      <td>LOBA</td>\n",
       "    </tr>\n",
       "    <tr>\n",
       "      <th>3</th>\n",
       "      <td>13042</td>\n",
       "      <td>ARENAL</td>\n",
       "      <td>MAGDALENA MEDIO BOLIVARENSE</td>\n",
       "    </tr>\n",
       "    <tr>\n",
       "      <th>4</th>\n",
       "      <td>13052</td>\n",
       "      <td>ARJONA</td>\n",
       "      <td>DIQUE BOLIVARENSE</td>\n",
       "    </tr>\n",
       "    <tr>\n",
       "      <th>...</th>\n",
       "      <td>...</td>\n",
       "      <td>...</td>\n",
       "      <td>...</td>\n",
       "    </tr>\n",
       "    <tr>\n",
       "      <th>71</th>\n",
       "      <td>23682</td>\n",
       "      <td>SAN JOSÉ DE URÉ</td>\n",
       "      <td>SAN JORGE</td>\n",
       "    </tr>\n",
       "    <tr>\n",
       "      <th>72</th>\n",
       "      <td>23686</td>\n",
       "      <td>SAN PELAYO</td>\n",
       "      <td>SINÚ MEDIO</td>\n",
       "    </tr>\n",
       "    <tr>\n",
       "      <th>73</th>\n",
       "      <td>23807</td>\n",
       "      <td>TIERRALTA</td>\n",
       "      <td>ALTO SINÚ</td>\n",
       "    </tr>\n",
       "    <tr>\n",
       "      <th>74</th>\n",
       "      <td>23815</td>\n",
       "      <td>TUCHÍN</td>\n",
       "      <td>SABANAS</td>\n",
       "    </tr>\n",
       "    <tr>\n",
       "      <th>75</th>\n",
       "      <td>23855</td>\n",
       "      <td>VALENCIA</td>\n",
       "      <td>ALTO SINÚ</td>\n",
       "    </tr>\n",
       "  </tbody>\n",
       "</table>\n",
       "<p>76 rows × 3 columns</p>\n",
       "</div>"
      ],
      "text/plain": [
       "   codigo_dane_municipio           mpio_cnmbr                   NOM_SUBREG\n",
       "0                  13001  CARTAGENA DE INDIAS            DIQUE BOLIVARENSE\n",
       "1                  13006                 ACHÍ           MOJANA BOLIVARENSE\n",
       "2                  13030    ALTOS DEL ROSARIO                         LOBA\n",
       "3                  13042               ARENAL  MAGDALENA MEDIO BOLIVARENSE\n",
       "4                  13052               ARJONA            DIQUE BOLIVARENSE\n",
       "..                   ...                  ...                          ...\n",
       "71                 23682      SAN JOSÉ DE URÉ                    SAN JORGE\n",
       "72                 23686           SAN PELAYO                   SINÚ MEDIO\n",
       "73                 23807            TIERRALTA                    ALTO SINÚ\n",
       "74                 23815               TUCHÍN                      SABANAS\n",
       "75                 23855             VALENCIA                    ALTO SINÚ\n",
       "\n",
       "[76 rows x 3 columns]"
      ]
     },
     "execution_count": 29,
     "metadata": {},
     "output_type": "execute_result"
    }
   ],
   "source": [
    "mun3.columns = ['codigo_dane_municipio', 'mpio_cnmbr', 'NOM_SUBREG']\n",
    "mun3"
   ]
  },
  {
   "cell_type": "code",
   "execution_count": 30,
   "metadata": {},
   "outputs": [],
   "source": [
    "mun3 = mun3.sort_values('mpio_cnmbr').reset_index()"
   ]
  },
  {
   "cell_type": "code",
   "execution_count": 31,
   "metadata": {},
   "outputs": [
    {
     "data": {
      "text/plain": [
       "index                     int64\n",
       "codigo_dane_municipio    object\n",
       "mpio_cnmbr               object\n",
       "NOM_SUBREG               object\n",
       "dtype: object"
      ]
     },
     "execution_count": 31,
     "metadata": {},
     "output_type": "execute_result"
    }
   ],
   "source": [
    "mun3.dtypes"
   ]
  },
  {
   "cell_type": "code",
   "execution_count": 32,
   "metadata": {},
   "outputs": [
    {
     "data": {
      "text/plain": [
       "codigo_dane_municipio    object\n",
       "mpio_cnmbr               object\n",
       "NOM_SUBREG               object\n",
       "dtype: object"
      ]
     },
     "execution_count": 32,
     "metadata": {},
     "output_type": "execute_result"
    }
   ],
   "source": [
    "mun3 = mun3.drop(columns='index')\n",
    "mun3.dtypes"
   ]
  },
  {
   "cell_type": "markdown",
   "metadata": {},
   "source": [
    "### Unir subregiones a data"
   ]
  },
  {
   "cell_type": "code",
   "execution_count": 33,
   "metadata": {},
   "outputs": [],
   "source": [
    "datos['codigo_dane_municipio'] = datos['codigo_dane_municipio'].astype('object')"
   ]
  },
  {
   "cell_type": "code",
   "execution_count": 34,
   "metadata": {},
   "outputs": [
    {
     "data": {
      "text/plain": [
       "array([13006, 13030, 13042, 13052, 13062, 13074, 13140, 13160, 13001,\n",
       "       13188, 13222, 13212, 13244, 13248, 13268, 13300, 13430, 13433,\n",
       "       13440, 13442, 13468, 13458, 13473, 13490, 13549, 13580, 13600,\n",
       "       13620, 13647, 13650, 13654, 13655, 13657, 13667, 13670, 13673,\n",
       "       13683, 13688, 13744, 13760, 13780, 13810, 13836, 13838, 13873,\n",
       "       13894, 23068, 23079, 23090, 23162, 23168, 23182, 23189, 23300,\n",
       "       23350, 23417, 23419, 23464, 23466, 23001, 23500, 23555, 23570,\n",
       "       23574, 23580, 23586, 23660, 23670, 23672, 23675, 23678, 23682,\n",
       "       23686, 23807, 23815, 23855], dtype=object)"
      ]
     },
     "execution_count": 34,
     "metadata": {},
     "output_type": "execute_result"
    }
   ],
   "source": [
    "datos['codigo_dane_municipio'].unique()"
   ]
  },
  {
   "cell_type": "code",
   "execution_count": 35,
   "metadata": {},
   "outputs": [
    {
     "data": {
      "text/plain": [
       "array(['13006', '13030', '13042', '13052', '13062', '23068', '13074',\n",
       "       '23079', '13140', '23090', '13160', '13001', '23162', '23168',\n",
       "       '23182', '13188', '23189', '13222', '23300', '13212', '13244',\n",
       "       '13248', '13268', '13300', '23350', '23417', '23419', '13430',\n",
       "       '13433', '13440', '13442', '23464', '13458', '23466', '23001',\n",
       "       '13473', '23500', '13490', '13549', '23555', '23570', '23574',\n",
       "       '23580', '23586', '13580', '13600', '23660', '23670', '23672',\n",
       "       '23675', '23678', '13620', '13647', '13650', '13654', '13655',\n",
       "       '23682', '13657', '13667', '13670', '23686', '13673', '13468',\n",
       "       '13683', '13688', '13744', '13760', '13780', '23807', '13810',\n",
       "       '23815', '13836', '13838', '23855', '13873', '13894'], dtype=object)"
      ]
     },
     "execution_count": 35,
     "metadata": {},
     "output_type": "execute_result"
    }
   ],
   "source": [
    "mun3['codigo_dane_municipio'].unique()"
   ]
  },
  {
   "cell_type": "markdown",
   "metadata": {},
   "source": [
    "La diferencia principal entre los valores únicos de codigo_dane_municipio en data y mun3 es que en data los valores son de tipo entero (int), mientras que en mun3 los valores son de tipo cadena (str). Esto puede causar problemas al realizar operaciones de comparación o uniones entre estos conjuntos de datos."
   ]
  },
  {
   "cell_type": "code",
   "execution_count": 36,
   "metadata": {},
   "outputs": [],
   "source": [
    "# Convertir codigo_dane_municipio en mun3 a tipo int y luego a object\n",
    "mun3['codigo_dane_municipio'] = mun3['codigo_dane_municipio'].astype(int)\n",
    "mun3['codigo_dane_municipio'] = mun3['codigo_dane_municipio'].astype('object')"
   ]
  },
  {
   "cell_type": "code",
   "execution_count": 37,
   "metadata": {},
   "outputs": [
    {
     "data": {
      "text/plain": [
       "array([13006, 13030, 13042, 13052, 13062, 23068, 13074, 23079, 13140,\n",
       "       23090, 13160, 13001, 23162, 23168, 23182, 13188, 23189, 13222,\n",
       "       23300, 13212, 13244, 13248, 13268, 13300, 23350, 23417, 23419,\n",
       "       13430, 13433, 13440, 13442, 23464, 13458, 23466, 23001, 13473,\n",
       "       23500, 13490, 13549, 23555, 23570, 23574, 23580, 23586, 13580,\n",
       "       13600, 23660, 23670, 23672, 23675, 23678, 13620, 13647, 13650,\n",
       "       13654, 13655, 23682, 13657, 13667, 13670, 23686, 13673, 13468,\n",
       "       13683, 13688, 13744, 13760, 13780, 23807, 13810, 23815, 13836,\n",
       "       13838, 23855, 13873, 13894], dtype=object)"
      ]
     },
     "execution_count": 37,
     "metadata": {},
     "output_type": "execute_result"
    }
   ],
   "source": [
    "mun3['codigo_dane_municipio'].unique()"
   ]
  },
  {
   "cell_type": "code",
   "execution_count": 38,
   "metadata": {},
   "outputs": [],
   "source": [
    "# Realizamos el merge\n",
    "data_merged = pd.merge(datos, mun3[['codigo_dane_municipio', 'NOM_SUBREG']], \n",
    "                       on='codigo_dane_municipio', how='left')"
   ]
  },
  {
   "cell_type": "code",
   "execution_count": 39,
   "metadata": {},
   "outputs": [
    {
     "name": "stdout",
     "output_type": "stream",
     "text": [
      "Asignación de subregiones completada sin conflictos.\n"
     ]
    }
   ],
   "source": [
    "# Si hay repeticiones y no es esperado, podemos detectar conflictos:\n",
    "conflictos = mun3.groupby('codigo_dane_municipio')['NOM_SUBREG'].nunique()\n",
    "conflictos = conflictos[conflictos > 1]\n",
    "\n",
    "if not conflictos.empty:\n",
    "    print(\"Se detectaron municipios asociados a múltiples subregiones:\")\n",
    "    print(conflictos)\n",
    "else:\n",
    "    print(\"Asignación de subregiones completada sin conflictos.\")"
   ]
  },
  {
   "cell_type": "code",
   "execution_count": 40,
   "metadata": {},
   "outputs": [
    {
     "data": {
      "text/plain": [
       "(15727, 15)"
      ]
     },
     "execution_count": 40,
     "metadata": {},
     "output_type": "execute_result"
    }
   ],
   "source": [
    "datos.shape"
   ]
  },
  {
   "cell_type": "code",
   "execution_count": 41,
   "metadata": {},
   "outputs": [
    {
     "data": {
      "text/plain": [
       "(15727, 16)"
      ]
     },
     "execution_count": 41,
     "metadata": {},
     "output_type": "execute_result"
    }
   ],
   "source": [
    "data_merged.shape"
   ]
  },
  {
   "cell_type": "code",
   "execution_count": 42,
   "metadata": {},
   "outputs": [
    {
     "data": {
      "text/html": [
       "<div>\n",
       "<style scoped>\n",
       "    .dataframe tbody tr th:only-of-type {\n",
       "        vertical-align: middle;\n",
       "    }\n",
       "\n",
       "    .dataframe tbody tr th {\n",
       "        vertical-align: top;\n",
       "    }\n",
       "\n",
       "    .dataframe thead th {\n",
       "        text-align: right;\n",
       "    }\n",
       "</style>\n",
       "<table border=\"1\" class=\"dataframe\">\n",
       "  <thead>\n",
       "    <tr style=\"text-align: right;\">\n",
       "      <th></th>\n",
       "      <th>codigo_dane_departamento</th>\n",
       "      <th>departamento</th>\n",
       "      <th>codigo_dane_municipio</th>\n",
       "      <th>municipio</th>\n",
       "      <th>grupo_cultivo</th>\n",
       "      <th>subgrupo</th>\n",
       "      <th>cultivo</th>\n",
       "      <th>desagregacion_cultivo</th>\n",
       "      <th>año</th>\n",
       "      <th>periodo</th>\n",
       "      <th>area_sembrada</th>\n",
       "      <th>area_cosechada</th>\n",
       "      <th>produccion</th>\n",
       "      <th>rendimiento</th>\n",
       "      <th>ciclo_cultivo</th>\n",
       "      <th>NOM_SUBREG</th>\n",
       "    </tr>\n",
       "  </thead>\n",
       "  <tbody>\n",
       "    <tr>\n",
       "      <th>0</th>\n",
       "      <td>13</td>\n",
       "      <td>Bolívar</td>\n",
       "      <td>13006</td>\n",
       "      <td>Achí</td>\n",
       "      <td>Frutales</td>\n",
       "      <td>Aguacate</td>\n",
       "      <td>Aguacate</td>\n",
       "      <td>Aguacate</td>\n",
       "      <td>2007</td>\n",
       "      <td>2007</td>\n",
       "      <td>80.0</td>\n",
       "      <td>80.0</td>\n",
       "      <td>800.0</td>\n",
       "      <td>10.0</td>\n",
       "      <td>Permanente</td>\n",
       "      <td>MOJANA BOLIVARENSE</td>\n",
       "    </tr>\n",
       "    <tr>\n",
       "      <th>1</th>\n",
       "      <td>13</td>\n",
       "      <td>Bolívar</td>\n",
       "      <td>13006</td>\n",
       "      <td>Achí</td>\n",
       "      <td>Frutales</td>\n",
       "      <td>Aguacate</td>\n",
       "      <td>Aguacate</td>\n",
       "      <td>Aguacate</td>\n",
       "      <td>2008</td>\n",
       "      <td>2008</td>\n",
       "      <td>80.0</td>\n",
       "      <td>80.0</td>\n",
       "      <td>720.0</td>\n",
       "      <td>9.0</td>\n",
       "      <td>Permanente</td>\n",
       "      <td>MOJANA BOLIVARENSE</td>\n",
       "    </tr>\n",
       "    <tr>\n",
       "      <th>2</th>\n",
       "      <td>13</td>\n",
       "      <td>Bolívar</td>\n",
       "      <td>13006</td>\n",
       "      <td>Achí</td>\n",
       "      <td>Frutales</td>\n",
       "      <td>Aguacate</td>\n",
       "      <td>Aguacate</td>\n",
       "      <td>Aguacate</td>\n",
       "      <td>2009</td>\n",
       "      <td>2009</td>\n",
       "      <td>80.0</td>\n",
       "      <td>80.0</td>\n",
       "      <td>800.0</td>\n",
       "      <td>10.0</td>\n",
       "      <td>Permanente</td>\n",
       "      <td>MOJANA BOLIVARENSE</td>\n",
       "    </tr>\n",
       "    <tr>\n",
       "      <th>3</th>\n",
       "      <td>13</td>\n",
       "      <td>Bolívar</td>\n",
       "      <td>13006</td>\n",
       "      <td>Achí</td>\n",
       "      <td>Frutales</td>\n",
       "      <td>Aguacate</td>\n",
       "      <td>Aguacate</td>\n",
       "      <td>Aguacate</td>\n",
       "      <td>2010</td>\n",
       "      <td>2010</td>\n",
       "      <td>80.0</td>\n",
       "      <td>80.0</td>\n",
       "      <td>480.0</td>\n",
       "      <td>6.0</td>\n",
       "      <td>Permanente</td>\n",
       "      <td>MOJANA BOLIVARENSE</td>\n",
       "    </tr>\n",
       "    <tr>\n",
       "      <th>4</th>\n",
       "      <td>13</td>\n",
       "      <td>Bolívar</td>\n",
       "      <td>13006</td>\n",
       "      <td>Achí</td>\n",
       "      <td>Frutales</td>\n",
       "      <td>Aguacate</td>\n",
       "      <td>Aguacate</td>\n",
       "      <td>Aguacate</td>\n",
       "      <td>2011</td>\n",
       "      <td>2011</td>\n",
       "      <td>80.0</td>\n",
       "      <td>80.0</td>\n",
       "      <td>560.0</td>\n",
       "      <td>7.0</td>\n",
       "      <td>Permanente</td>\n",
       "      <td>MOJANA BOLIVARENSE</td>\n",
       "    </tr>\n",
       "    <tr>\n",
       "      <th>...</th>\n",
       "      <td>...</td>\n",
       "      <td>...</td>\n",
       "      <td>...</td>\n",
       "      <td>...</td>\n",
       "      <td>...</td>\n",
       "      <td>...</td>\n",
       "      <td>...</td>\n",
       "      <td>...</td>\n",
       "      <td>...</td>\n",
       "      <td>...</td>\n",
       "      <td>...</td>\n",
       "      <td>...</td>\n",
       "      <td>...</td>\n",
       "      <td>...</td>\n",
       "      <td>...</td>\n",
       "      <td>...</td>\n",
       "    </tr>\n",
       "    <tr>\n",
       "      <th>15722</th>\n",
       "      <td>23</td>\n",
       "      <td>Córdoba</td>\n",
       "      <td>23855</td>\n",
       "      <td>Valencia</td>\n",
       "      <td>Raíces Y Tubérculos</td>\n",
       "      <td>Raíces Y Tubérculos</td>\n",
       "      <td>Yuca</td>\n",
       "      <td>Yuca Consumo En Fresco</td>\n",
       "      <td>2021</td>\n",
       "      <td>2021A</td>\n",
       "      <td>75.0</td>\n",
       "      <td>72.0</td>\n",
       "      <td>864.0</td>\n",
       "      <td>12.0</td>\n",
       "      <td>Transitorio</td>\n",
       "      <td>ALTO SINÚ</td>\n",
       "    </tr>\n",
       "    <tr>\n",
       "      <th>15723</th>\n",
       "      <td>23</td>\n",
       "      <td>Córdoba</td>\n",
       "      <td>23855</td>\n",
       "      <td>Valencia</td>\n",
       "      <td>Raíces Y Tubérculos</td>\n",
       "      <td>Raíces Y Tubérculos</td>\n",
       "      <td>Yuca</td>\n",
       "      <td>Yuca Consumo En Fresco</td>\n",
       "      <td>2021</td>\n",
       "      <td>2021B</td>\n",
       "      <td>75.0</td>\n",
       "      <td>72.0</td>\n",
       "      <td>792.0</td>\n",
       "      <td>11.0</td>\n",
       "      <td>Transitorio</td>\n",
       "      <td>ALTO SINÚ</td>\n",
       "    </tr>\n",
       "    <tr>\n",
       "      <th>15724</th>\n",
       "      <td>23</td>\n",
       "      <td>Córdoba</td>\n",
       "      <td>23855</td>\n",
       "      <td>Valencia</td>\n",
       "      <td>Raíces Y Tubérculos</td>\n",
       "      <td>Raíces Y Tubérculos</td>\n",
       "      <td>Yuca</td>\n",
       "      <td>Yuca Consumo En Fresco</td>\n",
       "      <td>2022</td>\n",
       "      <td>2022A</td>\n",
       "      <td>85.0</td>\n",
       "      <td>65.0</td>\n",
       "      <td>780.0</td>\n",
       "      <td>12.0</td>\n",
       "      <td>Transitorio</td>\n",
       "      <td>ALTO SINÚ</td>\n",
       "    </tr>\n",
       "    <tr>\n",
       "      <th>15725</th>\n",
       "      <td>23</td>\n",
       "      <td>Córdoba</td>\n",
       "      <td>23855</td>\n",
       "      <td>Valencia</td>\n",
       "      <td>Raíces Y Tubérculos</td>\n",
       "      <td>Raíces Y Tubérculos</td>\n",
       "      <td>Yuca</td>\n",
       "      <td>Yuca Consumo En Fresco</td>\n",
       "      <td>2023</td>\n",
       "      <td>2023A</td>\n",
       "      <td>100.0</td>\n",
       "      <td>85.0</td>\n",
       "      <td>1020.0</td>\n",
       "      <td>12.0</td>\n",
       "      <td>Transitorio</td>\n",
       "      <td>ALTO SINÚ</td>\n",
       "    </tr>\n",
       "    <tr>\n",
       "      <th>15726</th>\n",
       "      <td>23</td>\n",
       "      <td>Córdoba</td>\n",
       "      <td>23855</td>\n",
       "      <td>Valencia</td>\n",
       "      <td>Raíces Y Tubérculos</td>\n",
       "      <td>Raíces Y Tubérculos</td>\n",
       "      <td>Yuca</td>\n",
       "      <td>Yuca Consumo En Fresco</td>\n",
       "      <td>2023</td>\n",
       "      <td>2023B</td>\n",
       "      <td>50.0</td>\n",
       "      <td>50.0</td>\n",
       "      <td>600.0</td>\n",
       "      <td>12.0</td>\n",
       "      <td>Transitorio</td>\n",
       "      <td>ALTO SINÚ</td>\n",
       "    </tr>\n",
       "  </tbody>\n",
       "</table>\n",
       "<p>15727 rows × 16 columns</p>\n",
       "</div>"
      ],
      "text/plain": [
       "       codigo_dane_departamento departamento codigo_dane_municipio municipio  \\\n",
       "0                            13      Bolívar                 13006      Achí   \n",
       "1                            13      Bolívar                 13006      Achí   \n",
       "2                            13      Bolívar                 13006      Achí   \n",
       "3                            13      Bolívar                 13006      Achí   \n",
       "4                            13      Bolívar                 13006      Achí   \n",
       "...                         ...          ...                   ...       ...   \n",
       "15722                        23      Córdoba                 23855  Valencia   \n",
       "15723                        23      Córdoba                 23855  Valencia   \n",
       "15724                        23      Córdoba                 23855  Valencia   \n",
       "15725                        23      Córdoba                 23855  Valencia   \n",
       "15726                        23      Córdoba                 23855  Valencia   \n",
       "\n",
       "             grupo_cultivo             subgrupo   cultivo  \\\n",
       "0                 Frutales             Aguacate  Aguacate   \n",
       "1                 Frutales             Aguacate  Aguacate   \n",
       "2                 Frutales             Aguacate  Aguacate   \n",
       "3                 Frutales             Aguacate  Aguacate   \n",
       "4                 Frutales             Aguacate  Aguacate   \n",
       "...                    ...                  ...       ...   \n",
       "15722  Raíces Y Tubérculos  Raíces Y Tubérculos      Yuca   \n",
       "15723  Raíces Y Tubérculos  Raíces Y Tubérculos      Yuca   \n",
       "15724  Raíces Y Tubérculos  Raíces Y Tubérculos      Yuca   \n",
       "15725  Raíces Y Tubérculos  Raíces Y Tubérculos      Yuca   \n",
       "15726  Raíces Y Tubérculos  Raíces Y Tubérculos      Yuca   \n",
       "\n",
       "        desagregacion_cultivo   año periodo  area_sembrada  area_cosechada  \\\n",
       "0                    Aguacate  2007    2007           80.0            80.0   \n",
       "1                    Aguacate  2008    2008           80.0            80.0   \n",
       "2                    Aguacate  2009    2009           80.0            80.0   \n",
       "3                    Aguacate  2010    2010           80.0            80.0   \n",
       "4                    Aguacate  2011    2011           80.0            80.0   \n",
       "...                       ...   ...     ...            ...             ...   \n",
       "15722  Yuca Consumo En Fresco  2021   2021A           75.0            72.0   \n",
       "15723  Yuca Consumo En Fresco  2021   2021B           75.0            72.0   \n",
       "15724  Yuca Consumo En Fresco  2022   2022A           85.0            65.0   \n",
       "15725  Yuca Consumo En Fresco  2023   2023A          100.0            85.0   \n",
       "15726  Yuca Consumo En Fresco  2023   2023B           50.0            50.0   \n",
       "\n",
       "       produccion  rendimiento ciclo_cultivo          NOM_SUBREG  \n",
       "0           800.0         10.0    Permanente  MOJANA BOLIVARENSE  \n",
       "1           720.0          9.0    Permanente  MOJANA BOLIVARENSE  \n",
       "2           800.0         10.0    Permanente  MOJANA BOLIVARENSE  \n",
       "3           480.0          6.0    Permanente  MOJANA BOLIVARENSE  \n",
       "4           560.0          7.0    Permanente  MOJANA BOLIVARENSE  \n",
       "...           ...          ...           ...                 ...  \n",
       "15722       864.0         12.0   Transitorio           ALTO SINÚ  \n",
       "15723       792.0         11.0   Transitorio           ALTO SINÚ  \n",
       "15724       780.0         12.0   Transitorio           ALTO SINÚ  \n",
       "15725      1020.0         12.0   Transitorio           ALTO SINÚ  \n",
       "15726       600.0         12.0   Transitorio           ALTO SINÚ  \n",
       "\n",
       "[15727 rows x 16 columns]"
      ]
     },
     "execution_count": 42,
     "metadata": {},
     "output_type": "execute_result"
    }
   ],
   "source": [
    "data_merged"
   ]
  },
  {
   "cell_type": "code",
   "execution_count": 43,
   "metadata": {},
   "outputs": [
    {
     "data": {
      "text/html": [
       "<div>\n",
       "<style scoped>\n",
       "    .dataframe tbody tr th:only-of-type {\n",
       "        vertical-align: middle;\n",
       "    }\n",
       "\n",
       "    .dataframe tbody tr th {\n",
       "        vertical-align: top;\n",
       "    }\n",
       "\n",
       "    .dataframe thead th {\n",
       "        text-align: right;\n",
       "    }\n",
       "</style>\n",
       "<table border=\"1\" class=\"dataframe\">\n",
       "  <thead>\n",
       "    <tr style=\"text-align: right;\">\n",
       "      <th></th>\n",
       "      <th>codigo_dane_departamento</th>\n",
       "      <th>departamento</th>\n",
       "      <th>codigo_dane_municipio</th>\n",
       "      <th>municipio</th>\n",
       "      <th>grupo_cultivo</th>\n",
       "      <th>subgrupo</th>\n",
       "      <th>cultivo</th>\n",
       "      <th>desagregacion_cultivo</th>\n",
       "      <th>año</th>\n",
       "      <th>periodo</th>\n",
       "      <th>area_sembrada</th>\n",
       "      <th>area_cosechada</th>\n",
       "      <th>produccion</th>\n",
       "      <th>rendimiento</th>\n",
       "      <th>ciclo_cultivo</th>\n",
       "      <th>NOM_SUBREG</th>\n",
       "    </tr>\n",
       "  </thead>\n",
       "  <tbody>\n",
       "    <tr>\n",
       "      <th>0</th>\n",
       "      <td>13</td>\n",
       "      <td>Bolívar</td>\n",
       "      <td>13006</td>\n",
       "      <td>Achí</td>\n",
       "      <td>Frutales</td>\n",
       "      <td>Aguacate</td>\n",
       "      <td>Aguacate</td>\n",
       "      <td>Aguacate</td>\n",
       "      <td>2007</td>\n",
       "      <td>2007</td>\n",
       "      <td>80.0</td>\n",
       "      <td>80.0</td>\n",
       "      <td>800.0</td>\n",
       "      <td>10.0</td>\n",
       "      <td>Permanente</td>\n",
       "      <td>Mojana Bolivarense</td>\n",
       "    </tr>\n",
       "    <tr>\n",
       "      <th>1</th>\n",
       "      <td>13</td>\n",
       "      <td>Bolívar</td>\n",
       "      <td>13006</td>\n",
       "      <td>Achí</td>\n",
       "      <td>Frutales</td>\n",
       "      <td>Aguacate</td>\n",
       "      <td>Aguacate</td>\n",
       "      <td>Aguacate</td>\n",
       "      <td>2008</td>\n",
       "      <td>2008</td>\n",
       "      <td>80.0</td>\n",
       "      <td>80.0</td>\n",
       "      <td>720.0</td>\n",
       "      <td>9.0</td>\n",
       "      <td>Permanente</td>\n",
       "      <td>Mojana Bolivarense</td>\n",
       "    </tr>\n",
       "  </tbody>\n",
       "</table>\n",
       "</div>"
      ],
      "text/plain": [
       "   codigo_dane_departamento departamento  codigo_dane_municipio municipio  \\\n",
       "0                        13      Bolívar                  13006      Achí   \n",
       "1                        13      Bolívar                  13006      Achí   \n",
       "\n",
       "  grupo_cultivo  subgrupo   cultivo desagregacion_cultivo   año periodo  \\\n",
       "0      Frutales  Aguacate  Aguacate              Aguacate  2007    2007   \n",
       "1      Frutales  Aguacate  Aguacate              Aguacate  2008    2008   \n",
       "\n",
       "   area_sembrada  area_cosechada  produccion  rendimiento ciclo_cultivo  \\\n",
       "0           80.0            80.0       800.0         10.0    Permanente   \n",
       "1           80.0            80.0       720.0          9.0    Permanente   \n",
       "\n",
       "           NOM_SUBREG  \n",
       "0  Mojana Bolivarense  \n",
       "1  Mojana Bolivarense  "
      ]
     },
     "execution_count": 43,
     "metadata": {},
     "output_type": "execute_result"
    }
   ],
   "source": [
    "data_merged = data_merged.map(lambda row: row.title() if isinstance(row, str) else row)\n",
    "data_merged.head(2)"
   ]
  },
  {
   "cell_type": "code",
   "execution_count": 45,
   "metadata": {},
   "outputs": [],
   "source": [
    "data_merged.columns = ['codigo_dane_departamento', 'departamento', 'codigo_dane_municipio',\n",
    "       'municipio', 'grupo_cultivo', 'subgrupo', 'cultivo',\n",
    "       'desagregacion_cultivo', 'año', 'periodo', 'area_sembrada',\n",
    "       'area_cosechada', 'produccion', 'rendimiento', 'ciclo_cultivo',\n",
    "       'subregion']"
   ]
  },
  {
   "cell_type": "markdown",
   "metadata": {},
   "source": [
    "## Guardar df en un nuevo archivo"
   ]
  },
  {
   "cell_type": "code",
   "execution_count": 46,
   "metadata": {},
   "outputs": [],
   "source": [
    "data_merged.to_csv('data.csv', index=False)"
   ]
  }
 ],
 "metadata": {
  "kernelspec": {
   "display_name": ".venv",
   "language": "python",
   "name": "python3"
  },
  "language_info": {
   "codemirror_mode": {
    "name": "ipython",
    "version": 3
   },
   "file_extension": ".py",
   "mimetype": "text/x-python",
   "name": "python",
   "nbconvert_exporter": "python",
   "pygments_lexer": "ipython3",
   "version": "3.13.0"
  }
 },
 "nbformat": 4,
 "nbformat_minor": 2
}
