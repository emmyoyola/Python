{
 "cells": [
  {
   "cell_type": "markdown",
   "metadata": {},
   "source": [
    "# Actividad 3\n",
    "## Pandas"
   ]
  },
  {
   "cell_type": "markdown",
   "metadata": {},
   "source": [
    "### Datos\n",
    "* Edad del empleado (edad)\n",
    "* Años de experiencia (experiencia)\n",
    "* Salario (salario)\n",
    "* Satisfacción laboral (satisfaccion)\n",
    "* Productividad (productividad)\n",
    "* Evaluación de rendimiento (evaluacion)\n",
    "* Género (genero)\n",
    "* Departamento (departamento)\n",
    "\n",
    "### Contexto del Caso\n",
    "Un equipo de científicos de datos está encargado de analizar el rendimiento de los empleados en una empresa tecnológica. Se les proporciona un dataset con datos simulados que incluyen variables como la edad del empleado, años de experiencia, salario, nivel de satisfacción en el trabajo, productividad y evaluación de rendimiento. Además, se tienen variables categóricas como el género y el departamento al que pertenecen.\n",
    "\n",
    "    El objetivo es realizar diversas tareas de manipulación de datos en Python, comprendiendo desde operaciones básicas hasta el análisis y agrupación de datos."
   ]
  },
  {
   "cell_type": "code",
   "execution_count": 28,
   "metadata": {},
   "outputs": [],
   "source": [
    "import numpy as np \n",
    "import pandas as pd \n",
    "import matplotlib.pyplot as plt\n",
    "import seaborn as sns\n",
    "import scipy as scipy"
   ]
  },
  {
   "cell_type": "code",
   "execution_count": null,
   "metadata": {},
   "outputs": [],
   "source": [
    "df4 = pd.read_csv(r'C:\\Users\\EMMY\\OneDrive\\Escritorio\\Talento TECH\\Analisis de datos\\Mision 1\\Clases\\Semana 1\\DB\\Tecno.csv')\n",
    "df4.head()"
   ]
  },
  {
   "cell_type": "markdown",
   "metadata": {},
   "source": [
    "### Preguntas"
   ]
  },
  {
   "cell_type": "markdown",
   "metadata": {},
   "source": [
    "#### 1: ¿Cuántos empleados hay en el dataset y cuántas variables tiene?"
   ]
  },
  {
   "cell_type": "code",
   "execution_count": null,
   "metadata": {},
   "outputs": [],
   "source": [
    "df4.shape\n"
   ]
  },
  {
   "cell_type": "markdown",
   "metadata": {},
   "source": [
    "R/ 100 empleados y 8 variables"
   ]
  },
  {
   "cell_type": "code",
   "execution_count": null,
   "metadata": {},
   "outputs": [],
   "source": [
    "df4.shape[0]"
   ]
  },
  {
   "cell_type": "code",
   "execution_count": null,
   "metadata": {},
   "outputs": [],
   "source": [
    "df4.shape[1]"
   ]
  },
  {
   "cell_type": "markdown",
   "metadata": {},
   "source": [
    "#### 2: Muestra las primeras 10 filas del dataset."
   ]
  },
  {
   "cell_type": "code",
   "execution_count": null,
   "metadata": {},
   "outputs": [],
   "source": [
    "df4.head(10)"
   ]
  },
  {
   "cell_type": "code",
   "execution_count": null,
   "metadata": {},
   "outputs": [],
   "source": [
    "df4.tail()"
   ]
  },
  {
   "cell_type": "markdown",
   "metadata": {},
   "source": [
    "#### 3: ¿Cuál es la media del salario de los empleados?"
   ]
  },
  {
   "cell_type": "code",
   "execution_count": null,
   "metadata": {},
   "outputs": [],
   "source": [
    "df4['salario'].mean()"
   ]
  },
  {
   "cell_type": "markdown",
   "metadata": {},
   "source": [
    "#### 4: Selecciona los empleados con más de 15 años de experiencia."
   ]
  },
  {
   "cell_type": "code",
   "execution_count": null,
   "metadata": {},
   "outputs": [],
   "source": [
    "df4.loc[df4['experiencia']>15]\n",
    "# = df4[df4['experiencia']>15]"
   ]
  },
  {
   "cell_type": "code",
   "execution_count": null,
   "metadata": {},
   "outputs": [],
   "source": [
    "cant_exp_15 = df4.loc[df4['experiencia']>15].shape[0]\n",
    "cant_exp_15 "
   ]
  },
  {
   "cell_type": "markdown",
   "metadata": {},
   "source": [
    "#### 5: Filtra los empleados que trabajan en el departamento de IT."
   ]
  },
  {
   "cell_type": "code",
   "execution_count": null,
   "metadata": {},
   "outputs": [],
   "source": [
    "df4[df4['departamento']=='IT']"
   ]
  },
  {
   "cell_type": "code",
   "execution_count": null,
   "metadata": {},
   "outputs": [],
   "source": [
    "cant_dpto_IT = df4[df4['departamento']=='IT'].shape[0]\n",
    "cant_dpto_IT"
   ]
  },
  {
   "cell_type": "markdown",
   "metadata": {},
   "source": [
    "#### 6: ¿Cuál es la desviación estándar de la variable evaluacion?"
   ]
  },
  {
   "cell_type": "code",
   "execution_count": null,
   "metadata": {},
   "outputs": [],
   "source": [
    "df4['evaluacion'].std()"
   ]
  },
  {
   "cell_type": "markdown",
   "metadata": {},
   "source": [
    "#### 7: Crea una nueva columna llamada rendimiento que sea el producto de productividad y evaluacion"
   ]
  },
  {
   "cell_type": "code",
   "execution_count": null,
   "metadata": {},
   "outputs": [],
   "source": [
    "'''langs = pd.Series(df4['productividad']*df4['evaluacion'], name= 'rendimiento')\n",
    "df4['rendimiento'] = langs\n",
    "df4.head()'''\n",
    "\n",
    "df4['rendimiento'] = df4['productividad']*df4['evaluacion']\n",
    "df4.head()"
   ]
  },
  {
   "cell_type": "markdown",
   "metadata": {},
   "source": [
    "#### 8: ¿Cuántos empleados son del género “Femenino”?"
   ]
  },
  {
   "cell_type": "code",
   "execution_count": null,
   "metadata": {},
   "outputs": [],
   "source": [
    "'''cant_gen_fem = df4[df4['genero']=='Femenino'].shape[0]\n",
    "cant_gen_fem'''\n",
    "\n",
    "(df4['genero']=='Femenino').sum()"
   ]
  },
  {
   "cell_type": "markdown",
   "metadata": {},
   "source": [
    "#### 9: Selecciona solo las columnas edad, salario y departamento."
   ]
  },
  {
   "cell_type": "code",
   "execution_count": null,
   "metadata": {},
   "outputs": [],
   "source": [
    "new_data = df4[['edad', 'salario', 'departamento']]\n",
    "new_data"
   ]
  },
  {
   "cell_type": "markdown",
   "metadata": {},
   "source": [
    "#### 10: Ordena los empleados por evaluacion en orden descendente."
   ]
  },
  {
   "cell_type": "code",
   "execution_count": null,
   "metadata": {},
   "outputs": [],
   "source": [
    "''' Esta forma sólo muestra la columna 'Evaluación'\n",
    "df4['evaluacion'].sort_values(ascending= False)'''\n",
    "\n",
    "df4.sort_values('evaluacion', ascending= False)"
   ]
  },
  {
   "cell_type": "markdown",
   "metadata": {},
   "source": [
    "#### 11: Filtra a los empleados que tienen una productividad mayor que 80 y pertenecen al departamento de IT."
   ]
  },
  {
   "cell_type": "code",
   "execution_count": null,
   "metadata": {},
   "outputs": [],
   "source": [
    "df4[(df4['departamento'] == 'IT') & (df4['productividad'] > 80)].head()\n"
   ]
  },
  {
   "cell_type": "markdown",
   "metadata": {},
   "source": [
    "#### 12: ¿Cuál es la correlación entre productividad y evaluacion?"
   ]
  },
  {
   "cell_type": "code",
   "execution_count": null,
   "metadata": {},
   "outputs": [],
   "source": [
    "df4[['productividad', 'evaluacion']].corr()"
   ]
  },
  {
   "cell_type": "markdown",
   "metadata": {},
   "source": [
    "#### 13: Encuentra la cantidad de empleados en cada departamento."
   ]
  },
  {
   "cell_type": "code",
   "execution_count": null,
   "metadata": {},
   "outputs": [],
   "source": [
    "df4['departamento'].value_counts()"
   ]
  },
  {
   "cell_type": "markdown",
   "metadata": {},
   "source": [
    "#### 14: Calcula el salario promedio de los empleados mayores de 40 años."
   ]
  },
  {
   "cell_type": "code",
   "execution_count": null,
   "metadata": {},
   "outputs": [],
   "source": [
    "'''\n",
    "*ms = df4.loc[df4['edad'] > 40]\n",
    "ms['salario'].mean()\n",
    "\n",
    "*df4[df4['edad'] > 40,'salario'].mean()   (No me funciona)\n",
    "'''\n",
    "\n",
    "df4.loc[df4['edad'] > 40,'salario'].mean()"
   ]
  },
  {
   "cell_type": "markdown",
   "metadata": {},
   "source": [
    "#### 15: Selecciona las filas donde genero sea “Femenino” y departamento sea “Marketing”."
   ]
  },
  {
   "cell_type": "code",
   "execution_count": null,
   "metadata": {},
   "outputs": [],
   "source": [
    "df4[(df4['genero'] == 'Femenino') & (df4['departamento'] == 'Marketing')]"
   ]
  },
  {
   "cell_type": "markdown",
   "metadata": {},
   "source": [
    "#### 16: Muestra los 5 empleados con el salario más alto."
   ]
  },
  {
   "cell_type": "code",
   "execution_count": null,
   "metadata": {},
   "outputs": [],
   "source": [
    "df4.sort_values('salario').head()"
   ]
  }
 ],
 "metadata": {
  "kernelspec": {
   "display_name": "entorno_talento_tech",
   "language": "python",
   "name": "python3"
  },
  "language_info": {
   "codemirror_mode": {
    "name": "ipython",
    "version": 3
   },
   "file_extension": ".py",
   "mimetype": "text/x-python",
   "name": "python",
   "nbconvert_exporter": "python",
   "pygments_lexer": "ipython3",
   "version": "3.11.5"
  }
 },
 "nbformat": 4,
 "nbformat_minor": 2
}
