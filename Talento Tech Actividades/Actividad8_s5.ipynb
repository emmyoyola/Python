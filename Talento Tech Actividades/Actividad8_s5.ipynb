{
 "cells": [
  {
   "cell_type": "code",
   "execution_count": 3,
   "metadata": {},
   "outputs": [],
   "source": [
    "import pandas as pd\n",
    "import matplotlib.pyplot as plt \n",
    "import seaborn as sns"
   ]
  },
  {
   "cell_type": "code",
   "execution_count": 4,
   "metadata": {},
   "outputs": [],
   "source": [
    "archivo = 'C:/Users/EMMY/Desktop/Talento Tech/Analisis de datos/Mision 2/Clases/DB/notas_semestre.xlsx'\n",
    "df = pd.read_excel(archivo, sheet_name=None)\n",
    "\n",
    "data = df\n",
    "\n",
    "Corte_1 = data['Corte1']\n",
    "Corte_1['Corte'] = '1'\n",
    "Corte_2 = data['Corte2']\n",
    "Corte_2['Corte'] = '2'\n",
    "Corte_3 = data['Corte3']\n",
    "Corte_3['Corte'] = '3'"
   ]
  },
  {
   "cell_type": "code",
   "execution_count": 5,
   "metadata": {},
   "outputs": [
    {
     "name": "stdout",
     "output_type": "stream",
     "text": [
      "<class 'pandas.core.frame.DataFrame'>\n",
      "RangeIndex: 25 entries, 0 to 24\n",
      "Data columns (total 16 columns):\n",
      " #   Column          Non-Null Count  Dtype  \n",
      "---  ------          --------------  -----  \n",
      " 0   ID              25 non-null     object \n",
      " 1   ExpHip          25 non-null     float64\n",
      " 2   Bivariado       25 non-null     float64\n",
      " 3   Articulo        25 non-null     float64\n",
      " 4   Auto evalución  25 non-null     float64\n",
      " 5   0.2             25 non-null     float64\n",
      " 6   Dash            25 non-null     float64\n",
      " 7   0.15            25 non-null     float64\n",
      " 8   ExpDash         25 non-null     float64\n",
      " 9   0.15.1          25 non-null     float64\n",
      " 10  ParHip          25 non-null     float64\n",
      " 11  0.25            25 non-null     float64\n",
      " 12  ParBiv          25 non-null     float64\n",
      " 13  0.25.1          25 non-null     float64\n",
      " 14  Final           25 non-null     float64\n",
      " 15  Corte           25 non-null     object \n",
      "dtypes: float64(14), object(2)\n",
      "memory usage: 3.3+ KB\n"
     ]
    }
   ],
   "source": [
    "Corte_1.head(2)\n",
    "Corte_3.info()"
   ]
  },
  {
   "cell_type": "code",
   "execution_count": 6,
   "metadata": {},
   "outputs": [
    {
     "name": "stdout",
     "output_type": "stream",
     "text": [
      "<class 'pandas.core.frame.DataFrame'>\n",
      "RangeIndex: 24 entries, 0 to 23\n",
      "Data columns (total 16 columns):\n",
      " #   Column         Non-Null Count  Dtype  \n",
      "---  ------         --------------  -----  \n",
      " 0   ID             24 non-null     object \n",
      " 1   Participación  6 non-null      float64\n",
      " 2   Taller1        24 non-null     float64\n",
      " 3   Quiz1          24 non-null     float64\n",
      " 4   Quiz2          24 non-null     float64\n",
      " 5   0.25           24 non-null     float64\n",
      " 6   Pesc           23 non-null     float64\n",
      " 7   0.25.1         24 non-null     float64\n",
      " 8   Inf            24 non-null     float64\n",
      " 9   0.25.2         24 non-null     float64\n",
      " 10  Lab1           24 non-null     float64\n",
      " 11  Lab2           24 non-null     float64\n",
      " 12  Lab3           24 non-null     float64\n",
      " 13  0.25.3         24 non-null     float64\n",
      " 14  Final          24 non-null     float64\n",
      " 15  Corte          24 non-null     object \n",
      "dtypes: float64(14), object(2)\n",
      "memory usage: 3.1+ KB\n"
     ]
    }
   ],
   "source": [
    "Corte_2.head(2)\n",
    "Corte_2.info()"
   ]
  },
  {
   "cell_type": "code",
   "execution_count": 7,
   "metadata": {},
   "outputs": [
    {
     "name": "stdout",
     "output_type": "stream",
     "text": [
      "<class 'pandas.core.frame.DataFrame'>\n",
      "RangeIndex: 25 entries, 0 to 24\n",
      "Data columns (total 16 columns):\n",
      " #   Column          Non-Null Count  Dtype  \n",
      "---  ------          --------------  -----  \n",
      " 0   ID              25 non-null     object \n",
      " 1   ExpHip          25 non-null     float64\n",
      " 2   Bivariado       25 non-null     float64\n",
      " 3   Articulo        25 non-null     float64\n",
      " 4   Auto evalución  25 non-null     float64\n",
      " 5   0.2             25 non-null     float64\n",
      " 6   Dash            25 non-null     float64\n",
      " 7   0.15            25 non-null     float64\n",
      " 8   ExpDash         25 non-null     float64\n",
      " 9   0.15.1          25 non-null     float64\n",
      " 10  ParHip          25 non-null     float64\n",
      " 11  0.25            25 non-null     float64\n",
      " 12  ParBiv          25 non-null     float64\n",
      " 13  0.25.1          25 non-null     float64\n",
      " 14  Final           25 non-null     float64\n",
      " 15  Corte           25 non-null     object \n",
      "dtypes: float64(14), object(2)\n",
      "memory usage: 3.3+ KB\n"
     ]
    }
   ],
   "source": [
    "Corte_3.head(2)\n",
    "Corte_3.info()"
   ]
  },
  {
   "cell_type": "markdown",
   "metadata": {},
   "source": [
    "### 1. ¿Cuál es el total de estudiantes en cada corte?"
   ]
  },
  {
   "cell_type": "code",
   "execution_count": 8,
   "metadata": {},
   "outputs": [
    {
     "data": {
      "text/plain": [
       "25"
      ]
     },
     "execution_count": 8,
     "metadata": {},
     "output_type": "execute_result"
    }
   ],
   "source": [
    "Corte_1['ID '].unique().size"
   ]
  },
  {
   "cell_type": "code",
   "execution_count": 9,
   "metadata": {},
   "outputs": [
    {
     "data": {
      "text/plain": [
       "24"
      ]
     },
     "execution_count": 9,
     "metadata": {},
     "output_type": "execute_result"
    }
   ],
   "source": [
    "Corte_2['ID '].unique().size"
   ]
  },
  {
   "cell_type": "code",
   "execution_count": 10,
   "metadata": {},
   "outputs": [
    {
     "data": {
      "text/plain": [
       "25"
      ]
     },
     "execution_count": 10,
     "metadata": {},
     "output_type": "execute_result"
    }
   ],
   "source": [
    "Corte_3['ID '].unique().size"
   ]
  },
  {
   "cell_type": "markdown",
   "metadata": {},
   "source": [
    "### 2. ¿Cuál es el promedio de las notas Finales por corte?"
   ]
  },
  {
   "cell_type": "code",
   "execution_count": 11,
   "metadata": {},
   "outputs": [
    {
     "data": {
      "text/plain": [
       "3.3"
      ]
     },
     "execution_count": 11,
     "metadata": {},
     "output_type": "execute_result"
    }
   ],
   "source": [
    "Corte_1['Final'].mean().round(2)"
   ]
  },
  {
   "cell_type": "code",
   "execution_count": 12,
   "metadata": {},
   "outputs": [
    {
     "data": {
      "text/plain": [
       "3.53"
      ]
     },
     "execution_count": 12,
     "metadata": {},
     "output_type": "execute_result"
    }
   ],
   "source": [
    "Corte_2['Final'].mean().round(2)"
   ]
  },
  {
   "cell_type": "code",
   "execution_count": 13,
   "metadata": {},
   "outputs": [
    {
     "data": {
      "text/plain": [
       "3.32"
      ]
     },
     "execution_count": 13,
     "metadata": {},
     "output_type": "execute_result"
    }
   ],
   "source": [
    "Corte_3['Final'].mean().round(2)"
   ]
  },
  {
   "cell_type": "markdown",
   "metadata": {},
   "source": [
    "### 3. ¿Cuántos estudiantes aprobaron en cada corte (Final >= 3.0)?"
   ]
  },
  {
   "cell_type": "code",
   "execution_count": 14,
   "metadata": {},
   "outputs": [
    {
     "data": {
      "text/plain": [
       "19"
      ]
     },
     "execution_count": 14,
     "metadata": {},
     "output_type": "execute_result"
    }
   ],
   "source": [
    "Corte_1[Corte_1['Final'] >= 3.0].shape[0]"
   ]
  },
  {
   "cell_type": "code",
   "execution_count": 15,
   "metadata": {},
   "outputs": [
    {
     "data": {
      "text/plain": [
       "18"
      ]
     },
     "execution_count": 15,
     "metadata": {},
     "output_type": "execute_result"
    }
   ],
   "source": [
    "Corte_2[Corte_2['Final'] >= 3.0].shape[0]"
   ]
  },
  {
   "cell_type": "code",
   "execution_count": 16,
   "metadata": {},
   "outputs": [
    {
     "data": {
      "text/plain": [
       "20"
      ]
     },
     "execution_count": 16,
     "metadata": {},
     "output_type": "execute_result"
    }
   ],
   "source": [
    "Corte_3[Corte_3['Final'] >= 3.0].shape[0]"
   ]
  },
  {
   "cell_type": "markdown",
   "metadata": {},
   "source": [
    "### 4. ¿Cuál es el mejor estudiante de cada corte?"
   ]
  },
  {
   "cell_type": "code",
   "execution_count": 17,
   "metadata": {},
   "outputs": [
    {
     "data": {
      "text/plain": [
       "ID       T00065122\n",
       "Final        4.275\n",
       "Name: 18, dtype: object"
      ]
     },
     "execution_count": 17,
     "metadata": {},
     "output_type": "execute_result"
    }
   ],
   "source": [
    "Corte_1.loc[Corte_1['Final'].idxmax()][['ID ','Final']]"
   ]
  },
  {
   "cell_type": "code",
   "execution_count": 18,
   "metadata": {},
   "outputs": [
    {
     "data": {
      "text/plain": [
       "ID       T00070582\n",
       "Final     4.658333\n",
       "Name: 1, dtype: object"
      ]
     },
     "execution_count": 18,
     "metadata": {},
     "output_type": "execute_result"
    }
   ],
   "source": [
    "Corte_2.loc[Corte_2['Final'].idxmax()][['ID ','Final']]"
   ]
  },
  {
   "cell_type": "code",
   "execution_count": 19,
   "metadata": {},
   "outputs": [
    {
     "data": {
      "text/plain": [
       "ID       T00066390\n",
       "Final         4.84\n",
       "Name: 24, dtype: object"
      ]
     },
     "execution_count": 19,
     "metadata": {},
     "output_type": "execute_result"
    }
   ],
   "source": [
    "Corte_3.loc[Corte_3['Final'].idxmax()][['ID ','Final']]"
   ]
  },
  {
   "cell_type": "markdown",
   "metadata": {},
   "source": [
    "### 5. ¿Cuál es el promedio de Finals por estudiante en los tres cortes?"
   ]
  },
  {
   "cell_type": "code",
   "execution_count": 20,
   "metadata": {},
   "outputs": [
    {
     "data": {
      "text/html": [
       "<div>\n",
       "<style scoped>\n",
       "    .dataframe tbody tr th:only-of-type {\n",
       "        vertical-align: middle;\n",
       "    }\n",
       "\n",
       "    .dataframe tbody tr th {\n",
       "        vertical-align: top;\n",
       "    }\n",
       "\n",
       "    .dataframe thead th {\n",
       "        text-align: right;\n",
       "    }\n",
       "</style>\n",
       "<table border=\"1\" class=\"dataframe\">\n",
       "  <thead>\n",
       "    <tr style=\"text-align: right;\">\n",
       "      <th></th>\n",
       "      <th>ID</th>\n",
       "      <th>Participación</th>\n",
       "      <th>Taller 1</th>\n",
       "      <th>Taller 2</th>\n",
       "      <th>Taller 3</th>\n",
       "      <th>Taller 4</th>\n",
       "      <th>0.3</th>\n",
       "      <th>Inf</th>\n",
       "      <th>0.2</th>\n",
       "      <th>Plab</th>\n",
       "      <th>...</th>\n",
       "      <th>ExpHip</th>\n",
       "      <th>Bivariado</th>\n",
       "      <th>Articulo</th>\n",
       "      <th>Auto evalución</th>\n",
       "      <th>Dash</th>\n",
       "      <th>0.15</th>\n",
       "      <th>ExpDash</th>\n",
       "      <th>0.15.1</th>\n",
       "      <th>ParHip</th>\n",
       "      <th>ParBiv</th>\n",
       "    </tr>\n",
       "  </thead>\n",
       "  <tbody>\n",
       "    <tr>\n",
       "      <th>0</th>\n",
       "      <td>T00068211</td>\n",
       "      <td>0.7</td>\n",
       "      <td>5.0</td>\n",
       "      <td>5.0</td>\n",
       "      <td>5.0</td>\n",
       "      <td>NaN</td>\n",
       "      <td>1.50</td>\n",
       "      <td>4.5</td>\n",
       "      <td>0.90</td>\n",
       "      <td>4.0</td>\n",
       "      <td>...</td>\n",
       "      <td>NaN</td>\n",
       "      <td>NaN</td>\n",
       "      <td>NaN</td>\n",
       "      <td>NaN</td>\n",
       "      <td>NaN</td>\n",
       "      <td>NaN</td>\n",
       "      <td>NaN</td>\n",
       "      <td>NaN</td>\n",
       "      <td>NaN</td>\n",
       "      <td>NaN</td>\n",
       "    </tr>\n",
       "    <tr>\n",
       "      <th>1</th>\n",
       "      <td>T00070582</td>\n",
       "      <td>0.5</td>\n",
       "      <td>5.0</td>\n",
       "      <td>NaN</td>\n",
       "      <td>5.0</td>\n",
       "      <td>4.6</td>\n",
       "      <td>1.46</td>\n",
       "      <td>5.0</td>\n",
       "      <td>1.00</td>\n",
       "      <td>2.5</td>\n",
       "      <td>...</td>\n",
       "      <td>NaN</td>\n",
       "      <td>NaN</td>\n",
       "      <td>NaN</td>\n",
       "      <td>NaN</td>\n",
       "      <td>NaN</td>\n",
       "      <td>NaN</td>\n",
       "      <td>NaN</td>\n",
       "      <td>NaN</td>\n",
       "      <td>NaN</td>\n",
       "      <td>NaN</td>\n",
       "    </tr>\n",
       "    <tr>\n",
       "      <th>2</th>\n",
       "      <td>T00063811</td>\n",
       "      <td>0.2</td>\n",
       "      <td>4.5</td>\n",
       "      <td>NaN</td>\n",
       "      <td>4.7</td>\n",
       "      <td>5.0</td>\n",
       "      <td>1.42</td>\n",
       "      <td>4.0</td>\n",
       "      <td>0.80</td>\n",
       "      <td>4.0</td>\n",
       "      <td>...</td>\n",
       "      <td>NaN</td>\n",
       "      <td>NaN</td>\n",
       "      <td>NaN</td>\n",
       "      <td>NaN</td>\n",
       "      <td>NaN</td>\n",
       "      <td>NaN</td>\n",
       "      <td>NaN</td>\n",
       "      <td>NaN</td>\n",
       "      <td>NaN</td>\n",
       "      <td>NaN</td>\n",
       "    </tr>\n",
       "    <tr>\n",
       "      <th>3</th>\n",
       "      <td>T00066169</td>\n",
       "      <td>0.5</td>\n",
       "      <td>NaN</td>\n",
       "      <td>4.0</td>\n",
       "      <td>5.0</td>\n",
       "      <td>2.0</td>\n",
       "      <td>1.10</td>\n",
       "      <td>3.8</td>\n",
       "      <td>0.76</td>\n",
       "      <td>1.0</td>\n",
       "      <td>...</td>\n",
       "      <td>NaN</td>\n",
       "      <td>NaN</td>\n",
       "      <td>NaN</td>\n",
       "      <td>NaN</td>\n",
       "      <td>NaN</td>\n",
       "      <td>NaN</td>\n",
       "      <td>NaN</td>\n",
       "      <td>NaN</td>\n",
       "      <td>NaN</td>\n",
       "      <td>NaN</td>\n",
       "    </tr>\n",
       "    <tr>\n",
       "      <th>4</th>\n",
       "      <td>T00067922</td>\n",
       "      <td>0.4</td>\n",
       "      <td>5.0</td>\n",
       "      <td>4.4</td>\n",
       "      <td>4.5</td>\n",
       "      <td>NaN</td>\n",
       "      <td>1.39</td>\n",
       "      <td>4.0</td>\n",
       "      <td>0.80</td>\n",
       "      <td>3.0</td>\n",
       "      <td>...</td>\n",
       "      <td>NaN</td>\n",
       "      <td>NaN</td>\n",
       "      <td>NaN</td>\n",
       "      <td>NaN</td>\n",
       "      <td>NaN</td>\n",
       "      <td>NaN</td>\n",
       "      <td>NaN</td>\n",
       "      <td>NaN</td>\n",
       "      <td>NaN</td>\n",
       "      <td>NaN</td>\n",
       "    </tr>\n",
       "  </tbody>\n",
       "</table>\n",
       "<p>5 rows × 33 columns</p>\n",
       "</div>"
      ],
      "text/plain": [
       "         ID   Participación  Taller 1  Taller 2  Taller 3  Taller 4   0.3  \\\n",
       "0  T00068211            0.7       5.0       5.0       5.0       NaN  1.50   \n",
       "1  T00070582            0.5       5.0       NaN       5.0       4.6  1.46   \n",
       "2  T00063811            0.2       4.5       NaN       4.7       5.0  1.42   \n",
       "3  T00066169            0.5       NaN       4.0       5.0       2.0  1.10   \n",
       "4  T00067922            0.4       5.0       4.4       4.5       NaN  1.39   \n",
       "\n",
       "   Inf   0.2  Plab  ...  ExpHip  Bivariado  Articulo  Auto evalución Dash  \\\n",
       "0  4.5  0.90   4.0  ...     NaN        NaN       NaN             NaN  NaN   \n",
       "1  5.0  1.00   2.5  ...     NaN        NaN       NaN             NaN  NaN   \n",
       "2  4.0  0.80   4.0  ...     NaN        NaN       NaN             NaN  NaN   \n",
       "3  3.8  0.76   1.0  ...     NaN        NaN       NaN             NaN  NaN   \n",
       "4  4.0  0.80   3.0  ...     NaN        NaN       NaN             NaN  NaN   \n",
       "\n",
       "   0.15  ExpDash  0.15.1  ParHip  ParBiv  \n",
       "0   NaN      NaN     NaN     NaN     NaN  \n",
       "1   NaN      NaN     NaN     NaN     NaN  \n",
       "2   NaN      NaN     NaN     NaN     NaN  \n",
       "3   NaN      NaN     NaN     NaN     NaN  \n",
       "4   NaN      NaN     NaN     NaN     NaN  \n",
       "\n",
       "[5 rows x 33 columns]"
      ]
     },
     "execution_count": 20,
     "metadata": {},
     "output_type": "execute_result"
    }
   ],
   "source": [
    "df_concat = pd.concat([Corte_1,Corte_2,Corte_3])\n",
    "df_concat.head()"
   ]
  },
  {
   "cell_type": "code",
   "execution_count": 255,
   "metadata": {},
   "outputs": [
    {
     "data": {
      "text/plain": [
       "0"
      ]
     },
     "execution_count": 255,
     "metadata": {},
     "output_type": "execute_result"
    }
   ],
   "source": [
    "df_concat['Final'].isna().sum()"
   ]
  },
  {
   "cell_type": "code",
   "execution_count": 256,
   "metadata": {},
   "outputs": [
    {
     "data": {
      "text/plain": [
       "ID \n",
       "T00058312    3.196667\n",
       "T00063811    3.622222\n",
       "T00064811    3.934444\n",
       "T00065024    3.185111\n",
       "T00065079    1.352500\n",
       "T00065122    4.385556\n",
       "T00065478    3.091667\n",
       "T00066169    2.936389\n",
       "T00066176    3.033056\n",
       "T00066207    3.712500\n",
       "T00066390    4.258889\n",
       "T00067473    3.837778\n",
       "T00067608    0.880000\n",
       "T00067749    3.119722\n",
       "T00067772    3.653889\n",
       "T00067825    3.358333\n",
       "T00067922    3.836389\n",
       "T00068163    3.043889\n",
       "T00068211    4.393056\n",
       "T00068246    3.924167\n",
       "T00068779    3.261667\n",
       "T00069572    3.044722\n",
       "T00070582    4.347778\n",
       "T00071044    2.986944\n",
       "T00077983    3.271944\n",
       "Name: Final, dtype: float64"
      ]
     },
     "execution_count": 256,
     "metadata": {},
     "output_type": "execute_result"
    }
   ],
   "source": [
    "media_final = df_concat.groupby('ID ')['Final'].mean()\n",
    "media_final"
   ]
  },
  {
   "cell_type": "markdown",
   "metadata": {},
   "source": [
    "### 6. ¿Cuántos estudiantes tienen notas finales en todos los cortes?"
   ]
  },
  {
   "cell_type": "code",
   "execution_count": 28,
   "metadata": {},
   "outputs": [
    {
     "data": {
      "text/html": [
       "<div>\n",
       "<style scoped>\n",
       "    .dataframe tbody tr th:only-of-type {\n",
       "        vertical-align: middle;\n",
       "    }\n",
       "\n",
       "    .dataframe tbody tr th {\n",
       "        vertical-align: top;\n",
       "    }\n",
       "\n",
       "    .dataframe thead th {\n",
       "        text-align: right;\n",
       "    }\n",
       "</style>\n",
       "<table border=\"1\" class=\"dataframe\">\n",
       "  <thead>\n",
       "    <tr style=\"text-align: right;\">\n",
       "      <th></th>\n",
       "      <th>ID</th>\n",
       "      <th>Final_C1</th>\n",
       "      <th>Final_C2</th>\n",
       "      <th>Final</th>\n",
       "    </tr>\n",
       "  </thead>\n",
       "  <tbody>\n",
       "    <tr>\n",
       "      <th>0</th>\n",
       "      <td>T00058312</td>\n",
       "      <td>2.690</td>\n",
       "      <td>3.325000</td>\n",
       "      <td>3.575</td>\n",
       "    </tr>\n",
       "    <tr>\n",
       "      <th>1</th>\n",
       "      <td>T00063811</td>\n",
       "      <td>3.520</td>\n",
       "      <td>3.816667</td>\n",
       "      <td>3.530</td>\n",
       "    </tr>\n",
       "    <tr>\n",
       "      <th>2</th>\n",
       "      <td>T00064811</td>\n",
       "      <td>3.710</td>\n",
       "      <td>4.298333</td>\n",
       "      <td>3.795</td>\n",
       "    </tr>\n",
       "    <tr>\n",
       "      <th>3</th>\n",
       "      <td>T00065024</td>\n",
       "      <td>2.707</td>\n",
       "      <td>3.583333</td>\n",
       "      <td>3.265</td>\n",
       "    </tr>\n",
       "    <tr>\n",
       "      <th>4</th>\n",
       "      <td>T00065079</td>\n",
       "      <td>2.770</td>\n",
       "      <td>1.287500</td>\n",
       "      <td>0.000</td>\n",
       "    </tr>\n",
       "  </tbody>\n",
       "</table>\n",
       "</div>"
      ],
      "text/plain": [
       "         ID   Final_C1  Final_C2  Final\n",
       "0  T00058312     2.690  3.325000  3.575\n",
       "1  T00063811     3.520  3.816667  3.530\n",
       "2  T00064811     3.710  4.298333  3.795\n",
       "3  T00065024     2.707  3.583333  3.265\n",
       "4  T00065079     2.770  1.287500  0.000"
      ]
     },
     "execution_count": 28,
     "metadata": {},
     "output_type": "execute_result"
    }
   ],
   "source": [
    "df1_subset = Corte_1[['ID ', 'Final']]\n",
    "df2_subset = Corte_2[['ID ', 'Final']]\n",
    "df3_subset = Corte_3[['ID ', 'Final']]\n",
    "\n",
    "# Combinar df1 y df2\n",
    "merged_df = pd.merge(df1_subset, df2_subset, on='ID ', how='outer', suffixes=('_C1', '_C2'))\n",
    "\n",
    "# Combinar el resultado con df3\n",
    "merged_df = pd.merge(merged_df, df3_subset, on='ID ', how='outer', suffixes=('', '_C3'))\n",
    "merged_df.head()"
   ]
  },
  {
   "cell_type": "code",
   "execution_count": 31,
   "metadata": {},
   "outputs": [
    {
     "data": {
      "text/plain": [
       "24"
      ]
     },
     "execution_count": 31,
     "metadata": {},
     "output_type": "execute_result"
    }
   ],
   "source": [
    "merged_df.dropna().shape[0]"
   ]
  },
  {
   "cell_type": "code",
   "execution_count": 257,
   "metadata": {},
   "outputs": [
    {
     "data": {
      "text/html": [
       "<div>\n",
       "<style scoped>\n",
       "    .dataframe tbody tr th:only-of-type {\n",
       "        vertical-align: middle;\n",
       "    }\n",
       "\n",
       "    .dataframe tbody tr th {\n",
       "        vertical-align: top;\n",
       "    }\n",
       "\n",
       "    .dataframe thead th {\n",
       "        text-align: right;\n",
       "    }\n",
       "</style>\n",
       "<table border=\"1\" class=\"dataframe\">\n",
       "  <thead>\n",
       "    <tr style=\"text-align: right;\">\n",
       "      <th></th>\n",
       "      <th>ID</th>\n",
       "      <th>Corte</th>\n",
       "    </tr>\n",
       "  </thead>\n",
       "  <tbody>\n",
       "    <tr>\n",
       "      <th>0</th>\n",
       "      <td>T00058312</td>\n",
       "      <td>3</td>\n",
       "    </tr>\n",
       "    <tr>\n",
       "      <th>1</th>\n",
       "      <td>T00063811</td>\n",
       "      <td>3</td>\n",
       "    </tr>\n",
       "    <tr>\n",
       "      <th>2</th>\n",
       "      <td>T00064811</td>\n",
       "      <td>3</td>\n",
       "    </tr>\n",
       "    <tr>\n",
       "      <th>3</th>\n",
       "      <td>T00065024</td>\n",
       "      <td>3</td>\n",
       "    </tr>\n",
       "    <tr>\n",
       "      <th>4</th>\n",
       "      <td>T00065079</td>\n",
       "      <td>3</td>\n",
       "    </tr>\n",
       "    <tr>\n",
       "      <th>5</th>\n",
       "      <td>T00065122</td>\n",
       "      <td>3</td>\n",
       "    </tr>\n",
       "    <tr>\n",
       "      <th>6</th>\n",
       "      <td>T00065478</td>\n",
       "      <td>3</td>\n",
       "    </tr>\n",
       "    <tr>\n",
       "      <th>7</th>\n",
       "      <td>T00066169</td>\n",
       "      <td>3</td>\n",
       "    </tr>\n",
       "    <tr>\n",
       "      <th>8</th>\n",
       "      <td>T00066176</td>\n",
       "      <td>3</td>\n",
       "    </tr>\n",
       "    <tr>\n",
       "      <th>9</th>\n",
       "      <td>T00066207</td>\n",
       "      <td>3</td>\n",
       "    </tr>\n",
       "    <tr>\n",
       "      <th>10</th>\n",
       "      <td>T00066390</td>\n",
       "      <td>3</td>\n",
       "    </tr>\n",
       "    <tr>\n",
       "      <th>11</th>\n",
       "      <td>T00067473</td>\n",
       "      <td>3</td>\n",
       "    </tr>\n",
       "    <tr>\n",
       "      <th>12</th>\n",
       "      <td>T00067608</td>\n",
       "      <td>2</td>\n",
       "    </tr>\n",
       "    <tr>\n",
       "      <th>13</th>\n",
       "      <td>T00067749</td>\n",
       "      <td>3</td>\n",
       "    </tr>\n",
       "    <tr>\n",
       "      <th>14</th>\n",
       "      <td>T00067772</td>\n",
       "      <td>3</td>\n",
       "    </tr>\n",
       "    <tr>\n",
       "      <th>15</th>\n",
       "      <td>T00067825</td>\n",
       "      <td>3</td>\n",
       "    </tr>\n",
       "    <tr>\n",
       "      <th>16</th>\n",
       "      <td>T00067922</td>\n",
       "      <td>3</td>\n",
       "    </tr>\n",
       "    <tr>\n",
       "      <th>17</th>\n",
       "      <td>T00068163</td>\n",
       "      <td>3</td>\n",
       "    </tr>\n",
       "    <tr>\n",
       "      <th>18</th>\n",
       "      <td>T00068211</td>\n",
       "      <td>3</td>\n",
       "    </tr>\n",
       "    <tr>\n",
       "      <th>19</th>\n",
       "      <td>T00068246</td>\n",
       "      <td>3</td>\n",
       "    </tr>\n",
       "    <tr>\n",
       "      <th>20</th>\n",
       "      <td>T00068779</td>\n",
       "      <td>3</td>\n",
       "    </tr>\n",
       "    <tr>\n",
       "      <th>21</th>\n",
       "      <td>T00069572</td>\n",
       "      <td>3</td>\n",
       "    </tr>\n",
       "    <tr>\n",
       "      <th>22</th>\n",
       "      <td>T00070582</td>\n",
       "      <td>3</td>\n",
       "    </tr>\n",
       "    <tr>\n",
       "      <th>23</th>\n",
       "      <td>T00071044</td>\n",
       "      <td>3</td>\n",
       "    </tr>\n",
       "    <tr>\n",
       "      <th>24</th>\n",
       "      <td>T00077983</td>\n",
       "      <td>3</td>\n",
       "    </tr>\n",
       "  </tbody>\n",
       "</table>\n",
       "</div>"
      ],
      "text/plain": [
       "          ID   Corte\n",
       "0   T00058312      3\n",
       "1   T00063811      3\n",
       "2   T00064811      3\n",
       "3   T00065024      3\n",
       "4   T00065079      3\n",
       "5   T00065122      3\n",
       "6   T00065478      3\n",
       "7   T00066169      3\n",
       "8   T00066176      3\n",
       "9   T00066207      3\n",
       "10  T00066390      3\n",
       "11  T00067473      3\n",
       "12  T00067608      2\n",
       "13  T00067749      3\n",
       "14  T00067772      3\n",
       "15  T00067825      3\n",
       "16  T00067922      3\n",
       "17  T00068163      3\n",
       "18  T00068211      3\n",
       "19  T00068246      3\n",
       "20  T00068779      3\n",
       "21  T00069572      3\n",
       "22  T00070582      3\n",
       "23  T00071044      3\n",
       "24  T00077983      3"
      ]
     },
     "execution_count": 257,
     "metadata": {},
     "output_type": "execute_result"
    }
   ],
   "source": [
    "# Agrupar por 'ID' y contar cuántos registros tiene cada estudiante en cada 'Corte'\n",
    "conteo_cortes = df_concat.groupby('ID ')['Corte'].nunique().reset_index()\n",
    "conteo_cortes"
   ]
  },
  {
   "cell_type": "code",
   "execution_count": 258,
   "metadata": {},
   "outputs": [
    {
     "data": {
      "text/plain": [
       "24"
      ]
     },
     "execution_count": 258,
     "metadata": {},
     "output_type": "execute_result"
    }
   ],
   "source": [
    "conteo_cortes[conteo_cortes['Corte'] == 3.0].shape[0]"
   ]
  },
  {
   "cell_type": "markdown",
   "metadata": {},
   "source": [
    "### 7. ¿Cuáles son las notas finales más bajas en cada corte?"
   ]
  },
  {
   "cell_type": "code",
   "execution_count": 32,
   "metadata": {},
   "outputs": [
    {
     "data": {
      "text/plain": [
       "ID          T00058312\n",
       "Final_C1         1.76\n",
       "Final_C2       1.2875\n",
       "Final             0.0\n",
       "dtype: object"
      ]
     },
     "execution_count": 32,
     "metadata": {},
     "output_type": "execute_result"
    }
   ],
   "source": [
    "merged_df.min()"
   ]
  },
  {
   "cell_type": "code",
   "execution_count": 259,
   "metadata": {},
   "outputs": [
    {
     "data": {
      "text/plain": [
       "Corte\n",
       "1    1.7600\n",
       "2    1.2875\n",
       "3    0.0000\n",
       "Name: Final, dtype: float64"
      ]
     },
     "execution_count": 259,
     "metadata": {},
     "output_type": "execute_result"
    }
   ],
   "source": [
    "df_concat.groupby('Corte')['Final'].min()"
   ]
  },
  {
   "cell_type": "code",
   "execution_count": 260,
   "metadata": {},
   "outputs": [
    {
     "data": {
      "text/html": [
       "<div>\n",
       "<style scoped>\n",
       "    .dataframe tbody tr th:only-of-type {\n",
       "        vertical-align: middle;\n",
       "    }\n",
       "\n",
       "    .dataframe tbody tr th {\n",
       "        vertical-align: top;\n",
       "    }\n",
       "\n",
       "    .dataframe thead th {\n",
       "        text-align: right;\n",
       "    }\n",
       "</style>\n",
       "<table border=\"1\" class=\"dataframe\">\n",
       "  <thead>\n",
       "    <tr style=\"text-align: right;\">\n",
       "      <th></th>\n",
       "      <th>ID</th>\n",
       "      <th>ExpHip</th>\n",
       "      <th>Bivariado</th>\n",
       "      <th>Articulo</th>\n",
       "      <th>Auto evalución</th>\n",
       "      <th>0.2</th>\n",
       "      <th>Dash</th>\n",
       "      <th>0.15</th>\n",
       "      <th>ExpDash</th>\n",
       "      <th>0.15.1</th>\n",
       "      <th>ParHip</th>\n",
       "      <th>0.25</th>\n",
       "      <th>ParBiv</th>\n",
       "      <th>0.25.1</th>\n",
       "      <th>Final</th>\n",
       "      <th>Corte</th>\n",
       "    </tr>\n",
       "  </thead>\n",
       "  <tbody>\n",
       "    <tr>\n",
       "      <th>14</th>\n",
       "      <td>T00065079</td>\n",
       "      <td>0.0</td>\n",
       "      <td>0.0</td>\n",
       "      <td>0.0</td>\n",
       "      <td>0.0</td>\n",
       "      <td>0.0</td>\n",
       "      <td>0.0</td>\n",
       "      <td>0.0</td>\n",
       "      <td>0.0</td>\n",
       "      <td>0.0</td>\n",
       "      <td>0.0</td>\n",
       "      <td>0.0</td>\n",
       "      <td>0.0</td>\n",
       "      <td>0.0</td>\n",
       "      <td>0.0</td>\n",
       "      <td>3</td>\n",
       "    </tr>\n",
       "    <tr>\n",
       "      <th>21</th>\n",
       "      <td>T00067608</td>\n",
       "      <td>0.0</td>\n",
       "      <td>0.0</td>\n",
       "      <td>0.0</td>\n",
       "      <td>0.0</td>\n",
       "      <td>0.0</td>\n",
       "      <td>0.0</td>\n",
       "      <td>0.0</td>\n",
       "      <td>0.0</td>\n",
       "      <td>0.0</td>\n",
       "      <td>0.0</td>\n",
       "      <td>0.0</td>\n",
       "      <td>0.0</td>\n",
       "      <td>0.0</td>\n",
       "      <td>0.0</td>\n",
       "      <td>3</td>\n",
       "    </tr>\n",
       "  </tbody>\n",
       "</table>\n",
       "</div>"
      ],
      "text/plain": [
       "          ID   ExpHip  Bivariado  Articulo  Auto evalución  0.2  Dash  0.15  \\\n",
       "14  T00065079     0.0        0.0       0.0             0.0  0.0   0.0   0.0   \n",
       "21  T00067608     0.0        0.0       0.0             0.0  0.0   0.0   0.0   \n",
       "\n",
       "    ExpDash  0.15.1  ParHip  0.25  ParBiv  0.25.1  Final Corte  \n",
       "14      0.0     0.0     0.0   0.0     0.0     0.0    0.0     3  \n",
       "21      0.0     0.0     0.0   0.0     0.0     0.0    0.0     3  "
      ]
     },
     "execution_count": 260,
     "metadata": {},
     "output_type": "execute_result"
    }
   ],
   "source": [
    "Corte_3[Corte_3['Final']==0]"
   ]
  },
  {
   "cell_type": "markdown",
   "metadata": {},
   "source": [
    "### 8. ¿Cuántos estudiantes tienen una nota final mayor a 4 en Corte3?"
   ]
  },
  {
   "cell_type": "code",
   "execution_count": 261,
   "metadata": {},
   "outputs": [
    {
     "data": {
      "text/plain": [
       "5"
      ]
     },
     "execution_count": 261,
     "metadata": {},
     "output_type": "execute_result"
    }
   ],
   "source": [
    "Corte_3[Corte_3['Final'] > 4].shape[0]"
   ]
  },
  {
   "cell_type": "markdown",
   "metadata": {},
   "source": [
    "### 9. ¿Cuál es la desviación estándar de las notas finals en cada corte?"
   ]
  },
  {
   "cell_type": "code",
   "execution_count": 35,
   "metadata": {},
   "outputs": [
    {
     "data": {
      "text/plain": [
       "Final_C1    0.577761\n",
       "Final_C2    0.778959\n",
       "Final       1.154851\n",
       "dtype: float64"
      ]
     },
     "execution_count": 35,
     "metadata": {},
     "output_type": "execute_result"
    }
   ],
   "source": [
    "merged_df[['Final_C1','Final_C2','Final']].std()"
   ]
  },
  {
   "cell_type": "code",
   "execution_count": 262,
   "metadata": {},
   "outputs": [
    {
     "data": {
      "text/plain": [
       "Corte\n",
       "1    0.577761\n",
       "2    0.778959\n",
       "3    1.154851\n",
       "Name: Final, dtype: float64"
      ]
     },
     "execution_count": 262,
     "metadata": {},
     "output_type": "execute_result"
    }
   ],
   "source": [
    "df_concat.groupby('Corte')['Final'].std()"
   ]
  },
  {
   "cell_type": "markdown",
   "metadata": {},
   "source": [
    "### 10. ¿Cuál es la distribución de aprobados y reprobados en Corte2?"
   ]
  },
  {
   "cell_type": "code",
   "execution_count": 263,
   "metadata": {},
   "outputs": [
    {
     "data": {
      "image/png": "[encoded data removed]",
      "text/plain": [
       "<Figure size 640x480 with 1 Axes>"
      ]
     },
     "metadata": {},
     "output_type": "display_data"
    }
   ],
   "source": [
    "aprobados_2 = Corte_2[Corte_2['Final']>=3]\n",
    "aprobados_2['Final'].plot.hist()\n",
    "plt.show()"
   ]
  },
  {
   "cell_type": "code",
   "execution_count": 264,
   "metadata": {},
   "outputs": [
    {
     "data": {
      "image/png": "[encoded data removed]",
      "text/plain": [
       "<Figure size 640x480 with 1 Axes>"
      ]
     },
     "metadata": {},
     "output_type": "display_data"
    }
   ],
   "source": [
    "desaprobados_2 = Corte_2[Corte_2['Final']<3]\n",
    "sns.histplot( x=desaprobados_2['Final'], kde=True)\n",
    "plt.show()"
   ]
  },
  {
   "cell_type": "markdown",
   "metadata": {},
   "source": [
    "### 12. ¿Cuántos estudiantes son los mismos en todos los corte"
   ]
  },
  {
   "cell_type": "code",
   "execution_count": null,
   "metadata": {},
   "outputs": [],
   "source": []
  },
  {
   "cell_type": "markdown",
   "metadata": {},
   "source": [
    "### 13. ¿Cuál es la nota final promedio de los estudiantes que aprobaron en Corte1?"
   ]
  },
  {
   "cell_type": "code",
   "execution_count": 37,
   "metadata": {},
   "outputs": [
    {
     "data": {
      "text/plain": [
       "3.541184210526316"
      ]
     },
     "execution_count": 37,
     "metadata": {},
     "output_type": "execute_result"
    }
   ],
   "source": [
    "Corte_1[Corte_1['Final']>=3]['Final'].mean()"
   ]
  },
  {
   "cell_type": "markdown",
   "metadata": {},
   "source": [
    "### 14. ¿Cuántos estudiantes tienen nota finales superiores a 3.5 en Corte1 y Corte2?"
   ]
  },
  {
   "cell_type": "code",
   "execution_count": 39,
   "metadata": {},
   "outputs": [
    {
     "data": {
      "text/plain": [
       "9"
      ]
     },
     "execution_count": 39,
     "metadata": {},
     "output_type": "execute_result"
    }
   ],
   "source": [
    "merged_df[(merged_df['Final_C1']>3.5) & (merged_df['Final_C2']>3.5)].shape[0]"
   ]
  }
 ],
 "metadata": {
  "kernelspec": {
   "display_name": "Python 3",
   "language": "python",
   "name": "python3"
  },
  "language_info": {
   "codemirror_mode": {
    "name": "ipython",
    "version": 3
   },
   "file_extension": ".py",
   "mimetype": "text/x-python",
   "name": "python",
   "nbconvert_exporter": "python",
   "pygments_lexer": "ipython3",
   "version": "3.11.5"
  }
 },
 "nbformat": 4,
 "nbformat_minor": 2
}
