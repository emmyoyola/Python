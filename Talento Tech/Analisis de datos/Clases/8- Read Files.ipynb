{
 "cells": [
  {
   "cell_type": "markdown",
   "metadata": {},
   "source": [
    "# Read Files"
   ]
  },
  {
   "cell_type": "code",
   "execution_count": 1,
   "metadata": {},
   "outputs": [],
   "source": [
    "import pandas as pd "
   ]
  },
  {
   "cell_type": "markdown",
   "metadata": {},
   "source": [
    "## .csv"
   ]
  },
  {
   "cell_type": "code",
   "execution_count": 2,
   "metadata": {},
   "outputs": [
    {
     "data": {
      "text/html": [
       "<div>\n",
       "<style scoped>\n",
       "    .dataframe tbody tr th:only-of-type {\n",
       "        vertical-align: middle;\n",
       "    }\n",
       "\n",
       "    .dataframe tbody tr th {\n",
       "        vertical-align: top;\n",
       "    }\n",
       "\n",
       "    .dataframe thead th {\n",
       "        text-align: right;\n",
       "    }\n",
       "</style>\n",
       "<table border=\"1\" class=\"dataframe\">\n",
       "  <thead>\n",
       "    <tr style=\"text-align: right;\">\n",
       "      <th></th>\n",
       "      <th>Ge</th>\n",
       "      <th>Cp</th>\n",
       "      <th>Ed</th>\n",
       "      <th>Im</th>\n",
       "      <th>Gp</th>\n",
       "      <th>Fc,,</th>\n",
       "    </tr>\n",
       "  </thead>\n",
       "  <tbody>\n",
       "    <tr>\n",
       "      <th>0</th>\n",
       "      <td>Masculino</td>\n",
       "      <td>Moda</td>\n",
       "      <td>60</td>\n",
       "      <td>4497.63</td>\n",
       "      <td>820.12</td>\n",
       "      <td>24</td>\n",
       "    </tr>\n",
       "    <tr>\n",
       "      <th>1</th>\n",
       "      <td>Masculino</td>\n",
       "      <td>Moda</td>\n",
       "      <td>40</td>\n",
       "      <td>3371.45</td>\n",
       "      <td>961.18</td>\n",
       "      <td>19</td>\n",
       "    </tr>\n",
       "    <tr>\n",
       "      <th>2</th>\n",
       "      <td>Masculino</td>\n",
       "      <td>Tecnología</td>\n",
       "      <td>37</td>\n",
       "      <td>4871.87</td>\n",
       "      <td>1266.02</td>\n",
       "      <td>26</td>\n",
       "    </tr>\n",
       "    <tr>\n",
       "      <th>3</th>\n",
       "      <td>Femenino</td>\n",
       "      <td>Moda</td>\n",
       "      <td>25</td>\n",
       "      <td>6605.92</td>\n",
       "      <td>954.58</td>\n",
       "      <td>15</td>\n",
       "    </tr>\n",
       "    <tr>\n",
       "      <th>4</th>\n",
       "      <td>Masculino</td>\n",
       "      <td>Alimentos</td>\n",
       "      <td>48</td>\n",
       "      <td>4781.91</td>\n",
       "      <td>1098.94</td>\n",
       "      <td>22</td>\n",
       "    </tr>\n",
       "  </tbody>\n",
       "</table>\n",
       "</div>"
      ],
      "text/plain": [
       "          Ge          Cp  Ed       Im       Gp  Fc,,\n",
       "0  Masculino        Moda  60  4497.63   820.12    24\n",
       "1  Masculino        Moda  40  3371.45   961.18    19\n",
       "2  Masculino  Tecnología  37  4871.87  1266.02    26\n",
       "3   Femenino        Moda  25  6605.92   954.58    15\n",
       "4  Masculino   Alimentos  48  4781.91  1098.94    22"
      ]
     },
     "execution_count": 2,
     "metadata": {},
     "output_type": "execute_result"
    }
   ],
   "source": [
    "df = pd.read_csv(r'C:\\Users\\EMMY\\Desktop\\Talento Tech\\Analisis de datos\\Clases\\DB\\datos.csv', sep = ';', decimal=',')\n",
    "df.head()"
   ]
  },
  {
   "cell_type": "code",
   "execution_count": 3,
   "metadata": {},
   "outputs": [
    {
     "data": {
      "text/plain": [
       "Index(['Ge', 'Cp', 'Ed', 'Im', 'Gp', 'Fc,,'], dtype='object')"
      ]
     },
     "execution_count": 3,
     "metadata": {},
     "output_type": "execute_result"
    }
   ],
   "source": [
    "df.columns"
   ]
  },
  {
   "cell_type": "markdown",
   "metadata": {},
   "source": [
    "### Renombrar columnas"
   ]
  },
  {
   "cell_type": "code",
   "execution_count": 4,
   "metadata": {},
   "outputs": [
    {
     "data": {
      "text/html": [
       "<div>\n",
       "<style scoped>\n",
       "    .dataframe tbody tr th:only-of-type {\n",
       "        vertical-align: middle;\n",
       "    }\n",
       "\n",
       "    .dataframe tbody tr th {\n",
       "        vertical-align: top;\n",
       "    }\n",
       "\n",
       "    .dataframe thead th {\n",
       "        text-align: right;\n",
       "    }\n",
       "</style>\n",
       "<table border=\"1\" class=\"dataframe\">\n",
       "  <thead>\n",
       "    <tr style=\"text-align: right;\">\n",
       "      <th></th>\n",
       "      <th>Ge</th>\n",
       "      <th>Cp</th>\n",
       "      <th>Ed</th>\n",
       "      <th>Im</th>\n",
       "      <th>Gp</th>\n",
       "      <th>Fc,,</th>\n",
       "    </tr>\n",
       "  </thead>\n",
       "  <tbody>\n",
       "    <tr>\n",
       "      <th>0</th>\n",
       "      <td>Masculino</td>\n",
       "      <td>Moda</td>\n",
       "      <td>60</td>\n",
       "      <td>4497.63</td>\n",
       "      <td>820.12</td>\n",
       "      <td>24</td>\n",
       "    </tr>\n",
       "    <tr>\n",
       "      <th>1</th>\n",
       "      <td>Masculino</td>\n",
       "      <td>Moda</td>\n",
       "      <td>40</td>\n",
       "      <td>3371.45</td>\n",
       "      <td>961.18</td>\n",
       "      <td>19</td>\n",
       "    </tr>\n",
       "    <tr>\n",
       "      <th>2</th>\n",
       "      <td>Masculino</td>\n",
       "      <td>Tecnología</td>\n",
       "      <td>37</td>\n",
       "      <td>4871.87</td>\n",
       "      <td>1266.02</td>\n",
       "      <td>26</td>\n",
       "    </tr>\n",
       "    <tr>\n",
       "      <th>3</th>\n",
       "      <td>Femenino</td>\n",
       "      <td>Moda</td>\n",
       "      <td>25</td>\n",
       "      <td>6605.92</td>\n",
       "      <td>954.58</td>\n",
       "      <td>15</td>\n",
       "    </tr>\n",
       "    <tr>\n",
       "      <th>4</th>\n",
       "      <td>Masculino</td>\n",
       "      <td>Alimentos</td>\n",
       "      <td>48</td>\n",
       "      <td>4781.91</td>\n",
       "      <td>1098.94</td>\n",
       "      <td>22</td>\n",
       "    </tr>\n",
       "  </tbody>\n",
       "</table>\n",
       "</div>"
      ],
      "text/plain": [
       "          Ge          Cp  Ed       Im       Gp  Fc,,\n",
       "0  Masculino        Moda  60  4497.63   820.12    24\n",
       "1  Masculino        Moda  40  3371.45   961.18    19\n",
       "2  Masculino  Tecnología  37  4871.87  1266.02    26\n",
       "3   Femenino        Moda  25  6605.92   954.58    15\n",
       "4  Masculino   Alimentos  48  4781.91  1098.94    22"
      ]
     },
     "execution_count": 4,
     "metadata": {},
     "output_type": "execute_result"
    }
   ],
   "source": [
    "df.rename(columns= {'Fc,,':'Fc'})\n",
    "df.head()"
   ]
  },
  {
   "cell_type": "markdown",
   "metadata": {},
   "source": [
    "## .txt"
   ]
  },
  {
   "cell_type": "code",
   "execution_count": 5,
   "metadata": {},
   "outputs": [
    {
     "data": {
      "text/html": [
       "<div>\n",
       "<style scoped>\n",
       "    .dataframe tbody tr th:only-of-type {\n",
       "        vertical-align: middle;\n",
       "    }\n",
       "\n",
       "    .dataframe tbody tr th {\n",
       "        vertical-align: top;\n",
       "    }\n",
       "\n",
       "    .dataframe thead th {\n",
       "        text-align: right;\n",
       "    }\n",
       "</style>\n",
       "<table border=\"1\" class=\"dataframe\">\n",
       "  <thead>\n",
       "    <tr style=\"text-align: right;\">\n",
       "      <th></th>\n",
       "      <th>PuBefor</th>\n",
       "      <th>PuAfter</th>\n",
       "      <th>Ran?</th>\n",
       "      <th>Smokes?</th>\n",
       "      <th>Sex</th>\n",
       "      <th>Height</th>\n",
       "      <th>Weight</th>\n",
       "      <th>ActivityL</th>\n",
       "    </tr>\n",
       "  </thead>\n",
       "  <tbody>\n",
       "    <tr>\n",
       "      <th>0</th>\n",
       "      <td>48</td>\n",
       "      <td>54</td>\n",
       "      <td>no</td>\n",
       "      <td>yes</td>\n",
       "      <td>male</td>\n",
       "      <td>68.0</td>\n",
       "      <td>150</td>\n",
       "      <td>0</td>\n",
       "    </tr>\n",
       "    <tr>\n",
       "      <th>1</th>\n",
       "      <td>54</td>\n",
       "      <td>56</td>\n",
       "      <td>no</td>\n",
       "      <td>yes</td>\n",
       "      <td>male</td>\n",
       "      <td>69.0</td>\n",
       "      <td>145</td>\n",
       "      <td>2</td>\n",
       "    </tr>\n",
       "    <tr>\n",
       "      <th>2</th>\n",
       "      <td>54</td>\n",
       "      <td>50</td>\n",
       "      <td>no</td>\n",
       "      <td>no</td>\n",
       "      <td>male</td>\n",
       "      <td>69.0</td>\n",
       "      <td>160</td>\n",
       "      <td>2</td>\n",
       "    </tr>\n",
       "    <tr>\n",
       "      <th>3</th>\n",
       "      <td>58</td>\n",
       "      <td>70</td>\n",
       "      <td>yes</td>\n",
       "      <td>no</td>\n",
       "      <td>male</td>\n",
       "      <td>72.0</td>\n",
       "      <td>145</td>\n",
       "      <td>2</td>\n",
       "    </tr>\n",
       "    <tr>\n",
       "      <th>4</th>\n",
       "      <td>58</td>\n",
       "      <td>58</td>\n",
       "      <td>no</td>\n",
       "      <td>no</td>\n",
       "      <td>male</td>\n",
       "      <td>66.0</td>\n",
       "      <td>135</td>\n",
       "      <td>3</td>\n",
       "    </tr>\n",
       "  </tbody>\n",
       "</table>\n",
       "</div>"
      ],
      "text/plain": [
       "   PuBefor  PuAfter Ran? Smokes?   Sex  Height  Weight  ActivityL\n",
       "0       48       54   no     yes  male    68.0     150          0\n",
       "1       54       56   no     yes  male    69.0     145          2\n",
       "2       54       50   no      no  male    69.0     160          2\n",
       "3       58       70  yes      no  male    72.0     145          2\n",
       "4       58       58   no      no  male    66.0     135          3"
      ]
     },
     "execution_count": 5,
     "metadata": {},
     "output_type": "execute_result"
    }
   ],
   "source": [
    "df2 = pd.read_csv(r'C:\\Users\\EMMY\\Desktop\\Talento Tech\\Analisis de datos\\Clases\\DB\\pulse.txt', sep= '\\t')\n",
    "df2.head()"
   ]
  },
  {
   "cell_type": "markdown",
   "metadata": {},
   "source": [
    "## Excel"
   ]
  },
  {
   "cell_type": "code",
   "execution_count": 6,
   "metadata": {},
   "outputs": [],
   "source": [
    "'''pip install openpyxl'''\n",
    "\n",
    "archivo = r'C:\\Users\\EMMY\\Desktop\\Talento Tech\\Analisis de datos\\Clases\\DB\\notas_semestre.xlsx'\n",
    "df = pd.read_excel(archivo, sheet_name=None) # sheet_name=None indica que se van a seleccionar todas las hojas. Se usa (sheet_name='nombre_de_la_hoja') En caso de que se desee seleccionar una sóla\n",
    "\n",
    "data = df\n",
    "\n",
    "Corte_1 = data['Corte1']\n",
    "Corte_2 = data['Corte2']\n",
    "Corte_3 = data['Corte3']"
   ]
  }
 ],
 "metadata": {
  "kernelspec": {
   "display_name": "venv",
   "language": "python",
   "name": "python3"
  },
  "language_info": {
   "codemirror_mode": {
    "name": "ipython",
    "version": 3
   },
   "file_extension": ".py",
   "mimetype": "text/x-python",
   "name": "python",
   "nbconvert_exporter": "python",
   "pygments_lexer": "ipython3",
   "version": "3.13.0"
  }
 },
 "nbformat": 4,
 "nbformat_minor": 2
}
