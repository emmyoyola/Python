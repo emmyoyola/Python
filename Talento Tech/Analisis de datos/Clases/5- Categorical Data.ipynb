{
 "cells": [
  {
   "cell_type": "markdown",
   "metadata": {},
   "source": [
    "# Categorical Data\n",
    "Los datos categóricos son variables que toman un número limitado de valores posibles, como géneros, categorías de productos, colores, etc. pandas proporciona herramientas poderosas para representar y manejar eficientemente estos tipos de datos.\n",
    "En pandas, puedes usar el tipo *Categorical* para representar datos categóricos, lo que mejora el rendimiento y la claridad del código\n",
    "\n",
    "## Crear Datos Categóricos\n",
    "\n",
    "| Función | Descripción | Ejemplo de uso |\n",
    "|---------|-------------|----------------|\n",
    "| `pd.Categorical()` | Convierte una Serie o lista en un tipo de dato categórico | `pd.Categorical(['apple','banana', 'apple'])` |\n",
    "| `astype('category')` |  Convierte una columna en categórica | `df['col'].astype('category')` |"
   ]
  },
  {
   "cell_type": "code",
   "execution_count": 11,
   "metadata": {},
   "outputs": [],
   "source": [
    "import pandas as pd"
   ]
  },
  {
   "cell_type": "code",
   "execution_count": 12,
   "metadata": {},
   "outputs": [],
   "source": [
    "# Convierte una Serie o lista en un tipo de dato categórico\n",
    "categories = pd.Categorical(['apple', 'banana', 'apple', 'orange'])"
   ]
  },
  {
   "cell_type": "code",
   "execution_count": 13,
   "metadata": {},
   "outputs": [],
   "source": [
    "# Convertir una columna de DataFrame en categórica\n",
    "df = pd.DataFrame({\n",
    "    'fruit': ['apple', 'banana', 'apple', 'orange', 'banana']\n",
    "})\n",
    "\n",
    "df['fruit_cat'] = df['fruit'].astype('category')"
   ]
  },
  {
   "cell_type": "code",
   "execution_count": 14,
   "metadata": {},
   "outputs": [
    {
     "name": "stdout",
     "output_type": "stream",
     "text": [
      "<class 'pandas.core.frame.DataFrame'>\n",
      "RangeIndex: 5 entries, 0 to 4\n",
      "Data columns (total 2 columns):\n",
      " #   Column     Non-Null Count  Dtype   \n",
      "---  ------     --------------  -----   \n",
      " 0   fruit      5 non-null      object  \n",
      " 1   fruit_cat  5 non-null      category\n",
      "dtypes: category(1), object(1)\n",
      "memory usage: 309.0+ bytes\n"
     ]
    }
   ],
   "source": [
    "df.info()"
   ]
  },
  {
   "cell_type": "markdown",
   "metadata": {},
   "source": [
    "## Ordenar Categorías\n",
    "\n",
    "| Función | Descripción | Ejemplo de uso |\n",
    "|---------|-------------|----------------|\n",
    "| `CategoricalDtype()` | Define un tipo categórico ordenado | `pd.Categorical(df['col'],categories=..., ordered=True)` |"
   ]
  },
  {
   "cell_type": "code",
   "execution_count": 15,
   "metadata": {},
   "outputs": [
    {
     "data": {
      "text/plain": [
       "['low', 'medium', 'high', 'medium']\n",
       "Categories (3, object): ['low' < 'medium' < 'high']"
      ]
     },
     "execution_count": 15,
     "metadata": {},
     "output_type": "execute_result"
    }
   ],
   "source": [
    "# Crear categorías ordenadas\n",
    "categories_ordered = pd.Categorical(['low', 'medium', 'high', 'medium'], categories=['low', 'medium', 'high'], ordered=True)\n",
    "categories_ordered"
   ]
  },
  {
   "cell_type": "markdown",
   "metadata": {},
   "source": [
    "## Codificación de Datos Categóricos\n",
    "\n",
    "| Función | Descripción | Ejemplo de uso |\n",
    "|---------|-------------|----------------|\n",
    "| `cat.codes` | Devuelve los códigos numéricos de las categorías | `df['fruit_cat'].cat.codes` |"
   ]
  },
  {
   "cell_type": "code",
   "execution_count": 16,
   "metadata": {},
   "outputs": [
    {
     "data": {
      "text/html": [
       "<div>\n",
       "<style scoped>\n",
       "    .dataframe tbody tr th:only-of-type {\n",
       "        vertical-align: middle;\n",
       "    }\n",
       "\n",
       "    .dataframe tbody tr th {\n",
       "        vertical-align: top;\n",
       "    }\n",
       "\n",
       "    .dataframe thead th {\n",
       "        text-align: right;\n",
       "    }\n",
       "</style>\n",
       "<table border=\"1\" class=\"dataframe\">\n",
       "  <thead>\n",
       "    <tr style=\"text-align: right;\">\n",
       "      <th></th>\n",
       "      <th>fruit</th>\n",
       "      <th>fruit_cat</th>\n",
       "      <th>fruit_codes</th>\n",
       "    </tr>\n",
       "  </thead>\n",
       "  <tbody>\n",
       "    <tr>\n",
       "      <th>0</th>\n",
       "      <td>apple</td>\n",
       "      <td>apple</td>\n",
       "      <td>0</td>\n",
       "    </tr>\n",
       "    <tr>\n",
       "      <th>1</th>\n",
       "      <td>banana</td>\n",
       "      <td>banana</td>\n",
       "      <td>1</td>\n",
       "    </tr>\n",
       "    <tr>\n",
       "      <th>2</th>\n",
       "      <td>apple</td>\n",
       "      <td>apple</td>\n",
       "      <td>0</td>\n",
       "    </tr>\n",
       "    <tr>\n",
       "      <th>3</th>\n",
       "      <td>orange</td>\n",
       "      <td>orange</td>\n",
       "      <td>2</td>\n",
       "    </tr>\n",
       "    <tr>\n",
       "      <th>4</th>\n",
       "      <td>banana</td>\n",
       "      <td>banana</td>\n",
       "      <td>1</td>\n",
       "    </tr>\n",
       "  </tbody>\n",
       "</table>\n",
       "</div>"
      ],
      "text/plain": [
       "    fruit fruit_cat  fruit_codes\n",
       "0   apple     apple            0\n",
       "1  banana    banana            1\n",
       "2   apple     apple            0\n",
       "3  orange    orange            2\n",
       "4  banana    banana            1"
      ]
     },
     "execution_count": 16,
     "metadata": {},
     "output_type": "execute_result"
    }
   ],
   "source": [
    "# Obtener los códigos numéricos de las categorías\n",
    "df['fruit_codes'] = df['fruit_cat'].cat.codes\n",
    "df"
   ]
  },
  {
   "cell_type": "markdown",
   "metadata": {},
   "source": [
    "\n",
    "`df['fruit_code'] = df['fruit'].cat.codes`\n",
    "<br> No funciona porque fruit no es categórica\n"
   ]
  },
  {
   "cell_type": "markdown",
   "metadata": {},
   "source": [
    "## Operaciones con Datos Categóricos\n",
    "\n",
    "| Función | Descripción | Ejemplo de uso |\n",
    "|---------|-------------|----------------|\n",
    "| `cat.add_categories()` | Agrega nuevas categorías | `df['fruit_cat'].cat.add_categories(['grape'])` |\n",
    "| `cat.remove_categories()` | Elimina categorías | `df['fruit_cat'].cat.remove_categories(['orange'])` | \n",
    "| `cat.rename_categories()` | Renombra categorías | `df['fruit_cat'].cat.rename_categories({'apple':'APPLE'})` |\n",
    "| `cat.set_categories()` | Establece un nuevo conjunto de categorías | `df['fruit_cat'].cat.set_categories(['banana','apple', 'orange'])` |"
   ]
  },
  {
   "cell_type": "code",
   "execution_count": 17,
   "metadata": {},
   "outputs": [
    {
     "data": {
      "text/html": [
       "<div>\n",
       "<style scoped>\n",
       "    .dataframe tbody tr th:only-of-type {\n",
       "        vertical-align: middle;\n",
       "    }\n",
       "\n",
       "    .dataframe tbody tr th {\n",
       "        vertical-align: top;\n",
       "    }\n",
       "\n",
       "    .dataframe thead th {\n",
       "        text-align: right;\n",
       "    }\n",
       "</style>\n",
       "<table border=\"1\" class=\"dataframe\">\n",
       "  <thead>\n",
       "    <tr style=\"text-align: right;\">\n",
       "      <th></th>\n",
       "      <th>fruit</th>\n",
       "      <th>fruit_cat</th>\n",
       "      <th>fruit_codes</th>\n",
       "    </tr>\n",
       "  </thead>\n",
       "  <tbody>\n",
       "    <tr>\n",
       "      <th>0</th>\n",
       "      <td>apple</td>\n",
       "      <td>APPLE</td>\n",
       "      <td>0</td>\n",
       "    </tr>\n",
       "    <tr>\n",
       "      <th>1</th>\n",
       "      <td>banana</td>\n",
       "      <td>banana</td>\n",
       "      <td>1</td>\n",
       "    </tr>\n",
       "    <tr>\n",
       "      <th>2</th>\n",
       "      <td>apple</td>\n",
       "      <td>APPLE</td>\n",
       "      <td>0</td>\n",
       "    </tr>\n",
       "    <tr>\n",
       "      <th>3</th>\n",
       "      <td>orange</td>\n",
       "      <td>orange</td>\n",
       "      <td>2</td>\n",
       "    </tr>\n",
       "    <tr>\n",
       "      <th>4</th>\n",
       "      <td>banana</td>\n",
       "      <td>banana</td>\n",
       "      <td>1</td>\n",
       "    </tr>\n",
       "  </tbody>\n",
       "</table>\n",
       "</div>"
      ],
      "text/plain": [
       "    fruit fruit_cat  fruit_codes\n",
       "0   apple     APPLE            0\n",
       "1  banana    banana            1\n",
       "2   apple     APPLE            0\n",
       "3  orange    orange            2\n",
       "4  banana    banana            1"
      ]
     },
     "execution_count": 17,
     "metadata": {},
     "output_type": "execute_result"
    }
   ],
   "source": [
    "# Renombrar una categoría\n",
    "df['fruit_cat'] = df['fruit_cat'].cat.rename_categories({'apple': 'APPLE'})\n",
    "df"
   ]
  },
  {
   "cell_type": "markdown",
   "metadata": {},
   "source": [
    "## Verificar si una Columna es Categórica\n",
    "\n",
    "| Función | Descripción | Ejemplo de uso |\n",
    "|---------|-------------|----------------|\n",
    "| `df.dtypes` | Devuelve los tipos de datos de las columnas del DataFrame | `df.dtypes` |\n",
    "| `df['col'].dtype == 'category'` | Verifica si una columna es de tipo categórico | `df['fruit_cat'].dtype =='category'` |"
   ]
  },
  {
   "cell_type": "code",
   "execution_count": 18,
   "metadata": {},
   "outputs": [
    {
     "data": {
      "text/plain": [
       "True"
      ]
     },
     "execution_count": 18,
     "metadata": {},
     "output_type": "execute_result"
    }
   ],
   "source": [
    "# Verificar si una columna es categórica\n",
    "df['fruit_cat'].dtype == 'category'"
   ]
  },
  {
   "cell_type": "markdown",
   "metadata": {},
   "source": [
    "## Filtrar y Agrupar por Categorías\n",
    "\n",
    "| Función | Descripción | Ejemplo de uso |\n",
    "|---------|-------------|----------------|\n",
    "| `groupby()` | Agrupa datos por categorías | `df.groupby('fruit_cat').sum()` |\n",
    "\n",
    "Actualmente, el valor por defecto de observed es False, lo que significa que cuando agrupas datos utilizando categorías, se muestran todas las combinaciones posibles de categorías, incluso si no hay datos para algunas combinaciones. Sin embargo, en futuras versiones, este valor predeterminado cambiará a True, lo que significa que solo se mostrarán las combinaciones de categorías que efectivamente están presentes en los datos.\n"
   ]
  },
  {
   "cell_type": "code",
   "execution_count": 19,
   "metadata": {},
   "outputs": [
    {
     "data": {
      "text/html": [
       "<div>\n",
       "<style scoped>\n",
       "    .dataframe tbody tr th:only-of-type {\n",
       "        vertical-align: middle;\n",
       "    }\n",
       "\n",
       "    .dataframe tbody tr th {\n",
       "        vertical-align: top;\n",
       "    }\n",
       "\n",
       "    .dataframe thead th {\n",
       "        text-align: right;\n",
       "    }\n",
       "</style>\n",
       "<table border=\"1\" class=\"dataframe\">\n",
       "  <thead>\n",
       "    <tr style=\"text-align: right;\">\n",
       "      <th></th>\n",
       "      <th>fruit</th>\n",
       "      <th>fruit_codes</th>\n",
       "    </tr>\n",
       "    <tr>\n",
       "      <th>fruit_cat</th>\n",
       "      <th></th>\n",
       "      <th></th>\n",
       "    </tr>\n",
       "  </thead>\n",
       "  <tbody>\n",
       "    <tr>\n",
       "      <th>APPLE</th>\n",
       "      <td>appleapple</td>\n",
       "      <td>0</td>\n",
       "    </tr>\n",
       "    <tr>\n",
       "      <th>banana</th>\n",
       "      <td>bananabanana</td>\n",
       "      <td>2</td>\n",
       "    </tr>\n",
       "    <tr>\n",
       "      <th>orange</th>\n",
       "      <td>orange</td>\n",
       "      <td>2</td>\n",
       "    </tr>\n",
       "  </tbody>\n",
       "</table>\n",
       "</div>"
      ],
      "text/plain": [
       "                  fruit  fruit_codes\n",
       "fruit_cat                           \n",
       "APPLE        appleapple            0\n",
       "banana     bananabanana            2\n",
       "orange           orange            2"
      ]
     },
     "execution_count": 19,
     "metadata": {},
     "output_type": "execute_result"
    }
   ],
   "source": [
    "df.groupby('fruit_cat', observed=True).sum()"
   ]
  },
  {
   "cell_type": "code",
   "execution_count": 20,
   "metadata": {},
   "outputs": [
    {
     "data": {
      "text/plain": [
       "fruit_cat\n",
       "APPLE     2\n",
       "banana    2\n",
       "orange    1\n",
       "dtype: int64"
      ]
     },
     "execution_count": 20,
     "metadata": {},
     "output_type": "execute_result"
    }
   ],
   "source": [
    "grouped = df.groupby('fruit_cat', observed=False).size()\n",
    "grouped"
   ]
  }
 ],
 "metadata": {
  "kernelspec": {
   "display_name": "venv",
   "language": "python",
   "name": "python3"
  },
  "language_info": {
   "codemirror_mode": {
    "name": "ipython",
    "version": 3
   },
   "file_extension": ".py",
   "mimetype": "text/x-python",
   "name": "python",
   "nbconvert_exporter": "python",
   "pygments_lexer": "ipython3",
   "version": "3.13.0"
  }
 },
 "nbformat": 4,
 "nbformat_minor": 2
}
