{
 "cells": [
  {
   "cell_type": "markdown",
   "metadata": {},
   "source": [
    "# Limpieza y unión de datos"
   ]
  },
  {
   "cell_type": "markdown",
   "metadata": {},
   "source": [
    "## Instalación de librerías"
   ]
  },
  {
   "cell_type": "code",
   "execution_count": 119,
   "metadata": {},
   "outputs": [],
   "source": [
    "import pandas as pd\n",
    "import geopandas as gpd\n",
    "from unidecode import unidecode"
   ]
  },
  {
   "cell_type": "markdown",
   "metadata": {},
   "source": [
    "## Carga de datos"
   ]
  },
  {
   "cell_type": "code",
   "execution_count": 120,
   "metadata": {},
   "outputs": [],
   "source": [
    "df1 = pd.read_csv(r'C:\\Users\\EMMY\\Desktop\\Proyecto\\DB Original\\Evaluaciones_Agropecuarias_Municipales_EVA_2006-2018.csv')\n",
    "df2 = pd.read_csv(r'C:\\Users\\EMMY\\Desktop\\Proyecto\\DB Original\\Evaluaciones_Agropecuarias_Municipales___EVA._2019_-_2023._Base_Agr_cola_20240930 copy.csv')"
   ]
  },
  {
   "cell_type": "markdown",
   "metadata": {},
   "source": [
    "### Primeros datos"
   ]
  },
  {
   "cell_type": "code",
   "execution_count": 121,
   "metadata": {},
   "outputs": [
    {
     "data": {
      "text/html": [
       "<div>\n",
       "<style scoped>\n",
       "    .dataframe tbody tr th:only-of-type {\n",
       "        vertical-align: middle;\n",
       "    }\n",
       "\n",
       "    .dataframe tbody tr th {\n",
       "        vertical-align: top;\n",
       "    }\n",
       "\n",
       "    .dataframe thead th {\n",
       "        text-align: right;\n",
       "    }\n",
       "</style>\n",
       "<table border=\"1\" class=\"dataframe\">\n",
       "  <thead>\n",
       "    <tr style=\"text-align: right;\">\n",
       "      <th></th>\n",
       "      <th>CÓD. DEP.</th>\n",
       "      <th>DEPARTAMENTO</th>\n",
       "      <th>CÓD. MUN.</th>\n",
       "      <th>MUNICIPIO</th>\n",
       "      <th>GRUPO DE CULTIVO</th>\n",
       "      <th>SUBGRUPO DE CULTIVO</th>\n",
       "      <th>CULTIVO</th>\n",
       "      <th>DESAGREGACIÓN REGIONAL Y/O SISTEMA PRODUCTIVO</th>\n",
       "      <th>AÑO</th>\n",
       "      <th>PERIODO</th>\n",
       "      <th>Área Sembrada (ha)</th>\n",
       "      <th>Área Cosechada(ha)</th>\n",
       "      <th>Producción(t)</th>\n",
       "      <th>Rendimiento(t/ha)</th>\n",
       "      <th>ESTADO FISICO PRODUCCION</th>\n",
       "      <th>NOMBRE CIENTIFICO</th>\n",
       "      <th>CICLO DE CULTIVO</th>\n",
       "    </tr>\n",
       "  </thead>\n",
       "  <tbody>\n",
       "    <tr>\n",
       "      <th>0</th>\n",
       "      <td>15</td>\n",
       "      <td>BOYACA</td>\n",
       "      <td>15114</td>\n",
       "      <td>BUSBANZA</td>\n",
       "      <td>HORTALIZAS</td>\n",
       "      <td>ACELGA</td>\n",
       "      <td>ACELGA</td>\n",
       "      <td>ACELGA</td>\n",
       "      <td>2006</td>\n",
       "      <td>2006B</td>\n",
       "      <td>2</td>\n",
       "      <td>1</td>\n",
       "      <td>1</td>\n",
       "      <td>1.0</td>\n",
       "      <td>FRUTO FRESCO</td>\n",
       "      <td>BETA VULGARIS</td>\n",
       "      <td>TRANSITORIO</td>\n",
       "    </tr>\n",
       "    <tr>\n",
       "      <th>1</th>\n",
       "      <td>25</td>\n",
       "      <td>CUNDINAMARCA</td>\n",
       "      <td>25754</td>\n",
       "      <td>SOACHA</td>\n",
       "      <td>HORTALIZAS</td>\n",
       "      <td>ACELGA</td>\n",
       "      <td>ACELGA</td>\n",
       "      <td>ACELGA</td>\n",
       "      <td>2006</td>\n",
       "      <td>2006B</td>\n",
       "      <td>82</td>\n",
       "      <td>80</td>\n",
       "      <td>1440</td>\n",
       "      <td>18.0</td>\n",
       "      <td>FRUTO FRESCO</td>\n",
       "      <td>BETA VULGARIS</td>\n",
       "      <td>TRANSITORIO</td>\n",
       "    </tr>\n",
       "  </tbody>\n",
       "</table>\n",
       "</div>"
      ],
      "text/plain": [
       "   CÓD. DEP.  DEPARTAMENTO  CÓD. MUN. MUNICIPIO GRUPO DE CULTIVO  \\\n",
       "0         15        BOYACA      15114  BUSBANZA       HORTALIZAS   \n",
       "1         25  CUNDINAMARCA      25754    SOACHA       HORTALIZAS   \n",
       "\n",
       "  SUBGRUPO DE CULTIVO CULTIVO DESAGREGACIÓN REGIONAL Y/O SISTEMA PRODUCTIVO  \\\n",
       "0              ACELGA  ACELGA                                        ACELGA   \n",
       "1              ACELGA  ACELGA                                        ACELGA   \n",
       "\n",
       "    AÑO PERIODO  Área Sembrada (ha)  Área Cosechada(ha)  Producción(t)  \\\n",
       "0  2006   2006B                   2                   1              1   \n",
       "1  2006   2006B                  82                  80           1440   \n",
       "\n",
       "   Rendimiento(t/ha) ESTADO FISICO PRODUCCION NOMBRE CIENTIFICO  \\\n",
       "0                1.0             FRUTO FRESCO     BETA VULGARIS   \n",
       "1               18.0             FRUTO FRESCO     BETA VULGARIS   \n",
       "\n",
       "  CICLO DE CULTIVO  \n",
       "0      TRANSITORIO  \n",
       "1      TRANSITORIO  "
      ]
     },
     "execution_count": 121,
     "metadata": {},
     "output_type": "execute_result"
    }
   ],
   "source": [
    "df1.head(2)"
   ]
  },
  {
   "cell_type": "code",
   "execution_count": 122,
   "metadata": {},
   "outputs": [
    {
     "data": {
      "text/html": [
       "<div>\n",
       "<style scoped>\n",
       "    .dataframe tbody tr th:only-of-type {\n",
       "        vertical-align: middle;\n",
       "    }\n",
       "\n",
       "    .dataframe tbody tr th {\n",
       "        vertical-align: top;\n",
       "    }\n",
       "\n",
       "    .dataframe thead th {\n",
       "        text-align: right;\n",
       "    }\n",
       "</style>\n",
       "<table border=\"1\" class=\"dataframe\">\n",
       "  <thead>\n",
       "    <tr style=\"text-align: right;\">\n",
       "      <th></th>\n",
       "      <th>Código Dane departamento</th>\n",
       "      <th>Departamento</th>\n",
       "      <th>Código Dane municipio</th>\n",
       "      <th>Municipio</th>\n",
       "      <th>Grupo cultivo</th>\n",
       "      <th>Subgrupo</th>\n",
       "      <th>Cultivo</th>\n",
       "      <th>Desagregación cultivo</th>\n",
       "      <th>Año</th>\n",
       "      <th>Periodo</th>\n",
       "      <th>Área sembrada</th>\n",
       "      <th>Área cosechada</th>\n",
       "      <th>Producción</th>\n",
       "      <th>Rendimiento</th>\n",
       "      <th>Ciclo del cultivo</th>\n",
       "      <th>Estado físico del cultivo</th>\n",
       "      <th>Código del cultivo</th>\n",
       "      <th>Nombre científico del cultivo</th>\n",
       "    </tr>\n",
       "  </thead>\n",
       "  <tbody>\n",
       "    <tr>\n",
       "      <th>0</th>\n",
       "      <td>13</td>\n",
       "      <td>Bolívar</td>\n",
       "      <td>13006</td>\n",
       "      <td>Achí</td>\n",
       "      <td>Frutales</td>\n",
       "      <td>Demás frutales</td>\n",
       "      <td>Aguacate</td>\n",
       "      <td>Aguacate demás variedades</td>\n",
       "      <td>2019</td>\n",
       "      <td>2019</td>\n",
       "      <td>80.0</td>\n",
       "      <td>80.0</td>\n",
       "      <td>400.0</td>\n",
       "      <td>5.0</td>\n",
       "      <td>Permanente</td>\n",
       "      <td>En fresco</td>\n",
       "      <td>2040299</td>\n",
       "      <td>Persea americana</td>\n",
       "    </tr>\n",
       "    <tr>\n",
       "      <th>1</th>\n",
       "      <td>13</td>\n",
       "      <td>Bolívar</td>\n",
       "      <td>13006</td>\n",
       "      <td>Achí</td>\n",
       "      <td>Frutales</td>\n",
       "      <td>Demás frutales</td>\n",
       "      <td>Aguacate</td>\n",
       "      <td>Aguacate demás variedades</td>\n",
       "      <td>2020</td>\n",
       "      <td>2020</td>\n",
       "      <td>80.0</td>\n",
       "      <td>80.0</td>\n",
       "      <td>400.0</td>\n",
       "      <td>5.0</td>\n",
       "      <td>Permanente</td>\n",
       "      <td>En fresco</td>\n",
       "      <td>2040299</td>\n",
       "      <td>Persea americana</td>\n",
       "    </tr>\n",
       "  </tbody>\n",
       "</table>\n",
       "</div>"
      ],
      "text/plain": [
       "   Código Dane departamento Departamento  Código Dane municipio Municipio  \\\n",
       "0                        13      Bolívar                  13006      Achí   \n",
       "1                        13      Bolívar                  13006      Achí   \n",
       "\n",
       "  Grupo cultivo        Subgrupo   Cultivo      Desagregación cultivo   Año  \\\n",
       "0      Frutales  Demás frutales  Aguacate  Aguacate demás variedades  2019   \n",
       "1      Frutales  Demás frutales  Aguacate  Aguacate demás variedades  2020   \n",
       "\n",
       "  Periodo  Área sembrada  Área cosechada  Producción  Rendimiento  \\\n",
       "0    2019           80.0            80.0       400.0          5.0   \n",
       "1    2020           80.0            80.0       400.0          5.0   \n",
       "\n",
       "  Ciclo del cultivo Estado físico del cultivo  Código del cultivo  \\\n",
       "0        Permanente                 En fresco             2040299   \n",
       "1        Permanente                 En fresco             2040299   \n",
       "\n",
       "  Nombre científico del cultivo  \n",
       "0              Persea americana  \n",
       "1              Persea americana  "
      ]
     },
     "execution_count": 122,
     "metadata": {},
     "output_type": "execute_result"
    }
   ],
   "source": [
    "df2.head(2)"
   ]
  },
  {
   "cell_type": "code",
   "execution_count": 123,
   "metadata": {},
   "outputs": [
    {
     "data": {
      "text/plain": [
       "Index(['CÓD. DEP.', 'DEPARTAMENTO', 'CÓD. MUN.', 'MUNICIPIO',\n",
       "       'GRUPO DE CULTIVO', 'SUBGRUPO DE CULTIVO', 'CULTIVO',\n",
       "       'DESAGREGACIÓN REGIONAL Y/O SISTEMA PRODUCTIVO', 'AÑO', 'PERIODO',\n",
       "       'Área Sembrada (ha)', 'Área Cosechada(ha)', 'Producción(t)',\n",
       "       'Rendimiento(t/ha)', 'ESTADO FISICO PRODUCCION', 'NOMBRE CIENTIFICO',\n",
       "       'CICLO DE CULTIVO'],\n",
       "      dtype='object')"
      ]
     },
     "execution_count": 123,
     "metadata": {},
     "output_type": "execute_result"
    }
   ],
   "source": [
    "df1.columns"
   ]
  },
  {
   "cell_type": "code",
   "execution_count": 124,
   "metadata": {},
   "outputs": [],
   "source": [
    "# Eliminar columnas 'ESTADO FISICO PRODUCCION', 'NOMBRE CIENTIFICO'\n",
    "df1 = df1.drop(columns=['ESTADO FISICO PRODUCCION', 'NOMBRE CIENTIFICO'])"
   ]
  },
  {
   "cell_type": "code",
   "execution_count": 125,
   "metadata": {},
   "outputs": [
    {
     "data": {
      "text/plain": [
       "Index(['Código Dane departamento', 'Departamento', 'Código Dane municipio',\n",
       "       'Municipio', 'Grupo cultivo', 'Subgrupo', 'Cultivo',\n",
       "       'Desagregación cultivo', 'Año', 'Periodo', 'Área sembrada',\n",
       "       'Área cosechada', 'Producción', 'Rendimiento', 'Ciclo del cultivo',\n",
       "       'Estado físico del cultivo', 'Código del cultivo',\n",
       "       'Nombre científico del cultivo'],\n",
       "      dtype='object')"
      ]
     },
     "execution_count": 125,
     "metadata": {},
     "output_type": "execute_result"
    }
   ],
   "source": [
    "df2.columns"
   ]
  },
  {
   "cell_type": "code",
   "execution_count": 126,
   "metadata": {},
   "outputs": [],
   "source": [
    "# Eliminar columnas 'Estado físico del cultivo', 'Código del cultivo', 'Nombre científico del cultivo'\n",
    "df2 = df2.drop(columns=['Estado físico del cultivo', 'Código del cultivo', 'Nombre científico del cultivo'])"
   ]
  },
  {
   "cell_type": "code",
   "execution_count": 127,
   "metadata": {},
   "outputs": [
    {
     "data": {
      "text/plain": [
       "Index(['CÓD. DEP.', 'DEPARTAMENTO', 'CÓD. MUN.', 'MUNICIPIO',\n",
       "       'GRUPO DE CULTIVO', 'SUBGRUPO DE CULTIVO', 'CULTIVO',\n",
       "       'DESAGREGACIÓN REGIONAL Y/O SISTEMA PRODUCTIVO', 'AÑO', 'PERIODO',\n",
       "       'Área Sembrada (ha)', 'Área Cosechada(ha)', 'Producción(t)',\n",
       "       'Rendimiento(t/ha)', 'CICLO DE CULTIVO'],\n",
       "      dtype='object')"
      ]
     },
     "execution_count": 127,
     "metadata": {},
     "output_type": "execute_result"
    }
   ],
   "source": [
    "df1.columns"
   ]
  },
  {
   "cell_type": "code",
   "execution_count": 128,
   "metadata": {},
   "outputs": [
    {
     "data": {
      "text/plain": [
       "Index(['Código Dane departamento', 'Departamento', 'Código Dane municipio',\n",
       "       'Municipio', 'Grupo cultivo', 'Subgrupo', 'Cultivo',\n",
       "       'Desagregación cultivo', 'Año', 'Periodo', 'Área sembrada',\n",
       "       'Área cosechada', 'Producción', 'Rendimiento', 'Ciclo del cultivo'],\n",
       "      dtype='object')"
      ]
     },
     "execution_count": 128,
     "metadata": {},
     "output_type": "execute_result"
    }
   ],
   "source": [
    "df2.columns"
   ]
  },
  {
   "cell_type": "markdown",
   "metadata": {},
   "source": [
    "## Renombrar las columnas"
   ]
  },
  {
   "cell_type": "code",
   "execution_count": 129,
   "metadata": {},
   "outputs": [
    {
     "data": {
      "text/plain": [
       "Index(['Codigo Dane departamento', 'Departamento', 'Codigo Dane municipio',\n",
       "       'Municipio', 'Grupo cultivo', 'Subgrupo', 'Cultivo',\n",
       "       'Desagregacion cultivo', 'Año', 'Periodo', 'Area Sembrada (ha)',\n",
       "       'Area Cosechada(ha)', 'Produccion(t)', 'Rendimiento(t/ha)',\n",
       "       'Ciclo del cultivo'],\n",
       "      dtype='object')"
      ]
     },
     "execution_count": 129,
     "metadata": {},
     "output_type": "execute_result"
    }
   ],
   "source": [
    "# Renombrar columnas de df1 \n",
    "df1.columns = ['Codigo Dane departamento', 'Departamento', 'Codigo Dane municipio',\n",
    "       'Municipio', 'Grupo cultivo', 'Subgrupo', 'Cultivo',\n",
    "       'Desagregacion cultivo', 'Año', 'Periodo', 'Area Sembrada (ha)', 'Area Cosechada(ha)', 'Produccion(t)',\n",
    "       'Rendimiento(t/ha)', 'Ciclo del cultivo']\n",
    "df1.columns"
   ]
  },
  {
   "cell_type": "code",
   "execution_count": 130,
   "metadata": {},
   "outputs": [
    {
     "data": {
      "text/plain": [
       "Index(['Codigo Dane departamento', 'Departamento', 'Codigo Dane municipio',\n",
       "       'Municipio', 'Grupo cultivo', 'Subgrupo', 'Cultivo',\n",
       "       'Desagregacion cultivo', 'Año', 'Periodo', 'Area Sembrada (ha)',\n",
       "       'Area Cosechada(ha)', 'Produccion(t)', 'Rendimiento(t/ha)',\n",
       "       'Ciclo del cultivo'],\n",
       "      dtype='object')"
      ]
     },
     "execution_count": 130,
     "metadata": {},
     "output_type": "execute_result"
    }
   ],
   "source": [
    "# Renombrar columnas de df2\n",
    "df2.columns = ['Codigo Dane departamento', 'Departamento', 'Codigo Dane municipio',\n",
    "       'Municipio', 'Grupo cultivo', 'Subgrupo', 'Cultivo',\n",
    "       'Desagregacion cultivo', 'Año', 'Periodo', 'Area Sembrada (ha)', 'Area Cosechada(ha)', 'Produccion(t)',\n",
    "       'Rendimiento(t/ha)', 'Ciclo del cultivo']\n",
    "df2.columns"
   ]
  },
  {
   "cell_type": "code",
   "execution_count": 131,
   "metadata": {},
   "outputs": [
    {
     "data": {
      "text/plain": [
       "Index(['CODIGO DANE DEPARTAMENTO', 'DEPARTAMENTO', 'CODIGO DANE MUNICIPIO',\n",
       "       'MUNICIPIO', 'GRUPO CULTIVO', 'SUBGRUPO', 'CULTIVO',\n",
       "       'DESAGREGACION CULTIVO', 'AÑO', 'PERIODO', 'AREA SEMBRADA (HA)',\n",
       "       'AREA COSECHADA(HA)', 'PRODUCCION(T)', 'RENDIMIENTO(T/HA)',\n",
       "       'CICLO DEL CULTIVO'],\n",
       "      dtype='object')"
      ]
     },
     "execution_count": 131,
     "metadata": {},
     "output_type": "execute_result"
    }
   ],
   "source": [
    "df1.columns = df1.columns.str.upper()\n",
    "df1.columns"
   ]
  },
  {
   "cell_type": "code",
   "execution_count": 132,
   "metadata": {},
   "outputs": [
    {
     "data": {
      "text/plain": [
       "Index(['CODIGO DANE DEPARTAMENTO', 'DEPARTAMENTO', 'CODIGO DANE MUNICIPIO',\n",
       "       'MUNICIPIO', 'GRUPO CULTIVO', 'SUBGRUPO', 'CULTIVO',\n",
       "       'DESAGREGACION CULTIVO', 'AÑO', 'PERIODO', 'AREA SEMBRADA (HA)',\n",
       "       'AREA COSECHADA(HA)', 'PRODUCCION(T)', 'RENDIMIENTO(T/HA)',\n",
       "       'CICLO DEL CULTIVO'],\n",
       "      dtype='object')"
      ]
     },
     "execution_count": 132,
     "metadata": {},
     "output_type": "execute_result"
    }
   ],
   "source": [
    "df2.columns = df2.columns.str.upper()\n",
    "df2.columns"
   ]
  },
  {
   "cell_type": "markdown",
   "metadata": {},
   "source": [
    "## Union de los DF"
   ]
  },
  {
   "cell_type": "code",
   "execution_count": 133,
   "metadata": {},
   "outputs": [
    {
     "data": {
      "text/plain": [
       "212233"
      ]
     },
     "execution_count": 133,
     "metadata": {},
     "output_type": "execute_result"
    }
   ],
   "source": [
    "df = pd.concat([df1, df2], axis=0, ignore_index=True)\n",
    "df.shape[0]"
   ]
  },
  {
   "cell_type": "markdown",
   "metadata": {},
   "source": [
    "### Seleccionar los datos necesarios"
   ]
  },
  {
   "cell_type": "code",
   "execution_count": 134,
   "metadata": {},
   "outputs": [
    {
     "data": {
      "text/plain": [
       "array([13, 23])"
      ]
     },
     "execution_count": 134,
     "metadata": {},
     "output_type": "execute_result"
    }
   ],
   "source": [
    "# Seleccionar los datos de córdoba (23) y bolívar (13)\n",
    "df = df[(df['CODIGO DANE DEPARTAMENTO'] == 23) | (df['CODIGO DANE DEPARTAMENTO'] == 13)]\n",
    "df['CODIGO DANE DEPARTAMENTO'].unique()"
   ]
  },
  {
   "cell_type": "code",
   "execution_count": 135,
   "metadata": {},
   "outputs": [],
   "source": [
    "df = df.sort_values(['DEPARTAMENTO', 'MUNICIPIO']).reset_index(drop=True)"
   ]
  },
  {
   "cell_type": "code",
   "execution_count": 136,
   "metadata": {},
   "outputs": [
    {
     "data": {
      "text/plain": [
       "array(['BOLIVAR', 'Bolívar', 'CORDOBA', 'Córdoba'], dtype=object)"
      ]
     },
     "execution_count": 136,
     "metadata": {},
     "output_type": "execute_result"
    }
   ],
   "source": [
    "# Revisar los departamentos seleccionados\n",
    "df['DEPARTAMENTO'].unique()"
   ]
  },
  {
   "cell_type": "code",
   "execution_count": 137,
   "metadata": {},
   "outputs": [
    {
     "data": {
      "text/plain": [
       "array(['BOLIVAR', 'CORDOBA'], dtype=object)"
      ]
     },
     "execution_count": 137,
     "metadata": {},
     "output_type": "execute_result"
    }
   ],
   "source": [
    "# Aplicar mapeo específico para corregir registros\n",
    "df['DEPARTAMENTO'] = df['DEPARTAMENTO'].map({'Bolívar': 'BOLIVAR', 'Córdoba': 'CORDOBA'}).fillna(df['DEPARTAMENTO'])\n",
    "\n",
    "# Verificar el resultado\n",
    "df['DEPARTAMENTO'].unique()"
   ]
  },
  {
   "cell_type": "code",
   "execution_count": 138,
   "metadata": {},
   "outputs": [
    {
     "data": {
      "text/plain": [
       "array(['BOLÍVAR', 'CÓRDOBA'], dtype=object)"
      ]
     },
     "execution_count": 138,
     "metadata": {},
     "output_type": "execute_result"
    }
   ],
   "source": [
    "# Aplicar mapeo específico para corregir tildes\n",
    "df['DEPARTAMENTO'] = df['DEPARTAMENTO'].map({'BOLIVAR': 'BOLÍVAR', 'CORDOBA': 'CÓRDOBA'}).fillna(df['DEPARTAMENTO'])\n",
    "\n",
    "# Verificar el resultado\n",
    "df['DEPARTAMENTO'].unique()"
   ]
  },
  {
   "cell_type": "markdown",
   "metadata": {},
   "source": [
    "### Poner en mayúscula todo el DF"
   ]
  },
  {
   "cell_type": "code",
   "execution_count": 139,
   "metadata": {},
   "outputs": [
    {
     "data": {
      "text/html": [
       "<div>\n",
       "<style scoped>\n",
       "    .dataframe tbody tr th:only-of-type {\n",
       "        vertical-align: middle;\n",
       "    }\n",
       "\n",
       "    .dataframe tbody tr th {\n",
       "        vertical-align: top;\n",
       "    }\n",
       "\n",
       "    .dataframe thead th {\n",
       "        text-align: right;\n",
       "    }\n",
       "</style>\n",
       "<table border=\"1\" class=\"dataframe\">\n",
       "  <thead>\n",
       "    <tr style=\"text-align: right;\">\n",
       "      <th></th>\n",
       "      <th>CODIGO DANE DEPARTAMENTO</th>\n",
       "      <th>DEPARTAMENTO</th>\n",
       "      <th>CODIGO DANE MUNICIPIO</th>\n",
       "      <th>MUNICIPIO</th>\n",
       "      <th>GRUPO CULTIVO</th>\n",
       "      <th>SUBGRUPO</th>\n",
       "      <th>CULTIVO</th>\n",
       "      <th>DESAGREGACION CULTIVO</th>\n",
       "      <th>AÑO</th>\n",
       "      <th>PERIODO</th>\n",
       "      <th>AREA SEMBRADA (HA)</th>\n",
       "      <th>AREA COSECHADA(HA)</th>\n",
       "      <th>PRODUCCION(T)</th>\n",
       "      <th>RENDIMIENTO(T/HA)</th>\n",
       "      <th>CICLO DEL CULTIVO</th>\n",
       "    </tr>\n",
       "  </thead>\n",
       "  <tbody>\n",
       "    <tr>\n",
       "      <th>0</th>\n",
       "      <td>13</td>\n",
       "      <td>BOLÍVAR</td>\n",
       "      <td>13006</td>\n",
       "      <td>ACHI</td>\n",
       "      <td>FRUTALES</td>\n",
       "      <td>AGUACATE</td>\n",
       "      <td>AGUACATE</td>\n",
       "      <td>AGUACATE</td>\n",
       "      <td>2007</td>\n",
       "      <td>2007</td>\n",
       "      <td>80.0</td>\n",
       "      <td>80.0</td>\n",
       "      <td>800.0</td>\n",
       "      <td>10.0</td>\n",
       "      <td>PERMANENTE</td>\n",
       "    </tr>\n",
       "    <tr>\n",
       "      <th>1</th>\n",
       "      <td>13</td>\n",
       "      <td>BOLÍVAR</td>\n",
       "      <td>13006</td>\n",
       "      <td>ACHI</td>\n",
       "      <td>FRUTALES</td>\n",
       "      <td>AGUACATE</td>\n",
       "      <td>AGUACATE</td>\n",
       "      <td>AGUACATE</td>\n",
       "      <td>2008</td>\n",
       "      <td>2008</td>\n",
       "      <td>80.0</td>\n",
       "      <td>80.0</td>\n",
       "      <td>720.0</td>\n",
       "      <td>9.0</td>\n",
       "      <td>PERMANENTE</td>\n",
       "    </tr>\n",
       "    <tr>\n",
       "      <th>2</th>\n",
       "      <td>13</td>\n",
       "      <td>BOLÍVAR</td>\n",
       "      <td>13006</td>\n",
       "      <td>ACHI</td>\n",
       "      <td>FRUTALES</td>\n",
       "      <td>AGUACATE</td>\n",
       "      <td>AGUACATE</td>\n",
       "      <td>AGUACATE</td>\n",
       "      <td>2009</td>\n",
       "      <td>2009</td>\n",
       "      <td>80.0</td>\n",
       "      <td>80.0</td>\n",
       "      <td>800.0</td>\n",
       "      <td>10.0</td>\n",
       "      <td>PERMANENTE</td>\n",
       "    </tr>\n",
       "    <tr>\n",
       "      <th>3</th>\n",
       "      <td>13</td>\n",
       "      <td>BOLÍVAR</td>\n",
       "      <td>13006</td>\n",
       "      <td>ACHI</td>\n",
       "      <td>FRUTALES</td>\n",
       "      <td>AGUACATE</td>\n",
       "      <td>AGUACATE</td>\n",
       "      <td>AGUACATE</td>\n",
       "      <td>2010</td>\n",
       "      <td>2010</td>\n",
       "      <td>80.0</td>\n",
       "      <td>80.0</td>\n",
       "      <td>480.0</td>\n",
       "      <td>6.0</td>\n",
       "      <td>PERMANENTE</td>\n",
       "    </tr>\n",
       "    <tr>\n",
       "      <th>4</th>\n",
       "      <td>13</td>\n",
       "      <td>BOLÍVAR</td>\n",
       "      <td>13006</td>\n",
       "      <td>ACHI</td>\n",
       "      <td>FRUTALES</td>\n",
       "      <td>AGUACATE</td>\n",
       "      <td>AGUACATE</td>\n",
       "      <td>AGUACATE</td>\n",
       "      <td>2011</td>\n",
       "      <td>2011</td>\n",
       "      <td>80.0</td>\n",
       "      <td>80.0</td>\n",
       "      <td>560.0</td>\n",
       "      <td>7.0</td>\n",
       "      <td>PERMANENTE</td>\n",
       "    </tr>\n",
       "  </tbody>\n",
       "</table>\n",
       "</div>"
      ],
      "text/plain": [
       "   CODIGO DANE DEPARTAMENTO DEPARTAMENTO  CODIGO DANE MUNICIPIO MUNICIPIO  \\\n",
       "0                        13      BOLÍVAR                  13006      ACHI   \n",
       "1                        13      BOLÍVAR                  13006      ACHI   \n",
       "2                        13      BOLÍVAR                  13006      ACHI   \n",
       "3                        13      BOLÍVAR                  13006      ACHI   \n",
       "4                        13      BOLÍVAR                  13006      ACHI   \n",
       "\n",
       "  GRUPO CULTIVO  SUBGRUPO   CULTIVO DESAGREGACION CULTIVO   AÑO PERIODO  \\\n",
       "0      FRUTALES  AGUACATE  AGUACATE              AGUACATE  2007    2007   \n",
       "1      FRUTALES  AGUACATE  AGUACATE              AGUACATE  2008    2008   \n",
       "2      FRUTALES  AGUACATE  AGUACATE              AGUACATE  2009    2009   \n",
       "3      FRUTALES  AGUACATE  AGUACATE              AGUACATE  2010    2010   \n",
       "4      FRUTALES  AGUACATE  AGUACATE              AGUACATE  2011    2011   \n",
       "\n",
       "   AREA SEMBRADA (HA)  AREA COSECHADA(HA)  PRODUCCION(T)  RENDIMIENTO(T/HA)  \\\n",
       "0                80.0                80.0          800.0               10.0   \n",
       "1                80.0                80.0          720.0                9.0   \n",
       "2                80.0                80.0          800.0               10.0   \n",
       "3                80.0                80.0          480.0                6.0   \n",
       "4                80.0                80.0          560.0                7.0   \n",
       "\n",
       "  CICLO DEL CULTIVO  \n",
       "0        PERMANENTE  \n",
       "1        PERMANENTE  \n",
       "2        PERMANENTE  \n",
       "3        PERMANENTE  \n",
       "4        PERMANENTE  "
      ]
     },
     "execution_count": 139,
     "metadata": {},
     "output_type": "execute_result"
    }
   ],
   "source": [
    "df = df.apply(lambda col: col.map(str.upper) if col.dtypes == 'object' else col)\n",
    "df.head()"
   ]
  },
  {
   "cell_type": "code",
   "execution_count": 140,
   "metadata": {},
   "outputs": [
    {
     "data": {
      "text/plain": [
       "101"
      ]
     },
     "execution_count": 140,
     "metadata": {},
     "output_type": "execute_result"
    }
   ],
   "source": [
    "# Valores únicos para la columna 'MUNICIPIO'\n",
    "df['MUNICIPIO'].nunique()"
   ]
  },
  {
   "cell_type": "markdown",
   "metadata": {},
   "source": [
    "### Corregir tíldes"
   ]
  },
  {
   "cell_type": "code",
   "execution_count": 141,
   "metadata": {},
   "outputs": [
    {
     "data": {
      "text/plain": [
       "77"
      ]
     },
     "execution_count": 141,
     "metadata": {},
     "output_type": "execute_result"
    }
   ],
   "source": [
    "# Diccionario de municipios sin tildes y sus versiones corregidas\n",
    "correcciones = {\n",
    "    'ACHI': 'ACHÍ',\n",
    "    'CORDOBA': 'CÓRDOBA',\n",
    "    'EL CARMEN DE BOLIVAR': 'EL CARMEN DE BOLÍVAR',\n",
    "    'EL PEÑON': 'EL PEÑÓN',\n",
    "    'MAGANGUE': 'MAGANGUÉ',\n",
    "    'MARIA LA BAJA': 'MARÍA LA BAJA',\n",
    "    'NOROSI': 'NOROSÍ',\n",
    "    'RIO VIEJO': 'RÍO VIEJO',\n",
    "    'SAN CRISTOBAL': 'SAN CRISTÓBAL',\n",
    "    'SAN MARTIN DE LOBA': 'SAN MARTÍN DE LOBA',\n",
    "    'SANTA CRUZ DE MOMPOX': 'SANTA CRUZ DE MOMPOX',\n",
    "    'SIMITI': 'SIMITÍ',\n",
    "    'TURBANA': 'TURBANÁ',\n",
    "    'CERETE': 'CERETÉ',\n",
    "    'CHIMA': 'CHIMÁ',\n",
    "    'CHINU': 'CHINÚ',\n",
    "    'CIENAGA DE ORO': 'CIÉNAGA DE ORO',\n",
    "    'LOS CORDOBAS': 'LOS CÓRDOBAS',\n",
    "    'MONTELIBANO': 'MONTELÍBANO',\n",
    "    'MONTERIA': 'MONTERÍA',\n",
    "    'PURISIMA': 'PURÍSIMA DE LA CONCEPCIÓN',\n",
    "    'SAHAGUN': 'SAHAGÚN',\n",
    "    'SAN ANDRES DE SOTAVENTO': 'SAN ANDRÉS DE SOTAVENTO',\n",
    "    'SAN JOSE DE URE': 'SAN JOSÉ DE URÉ',\n",
    "    'TUCHIN': 'TUCHÍN'\n",
    "}\n",
    "\n",
    "# Reemplazar los valores en la columna 'MUNICIPIO'\n",
    "df['MUNICIPIO'] = df['MUNICIPIO'].replace(correcciones)\n",
    "\n",
    "# Verificar las correcciones\n",
    "df['MUNICIPIO'].nunique()\n"
   ]
  },
  {
   "cell_type": "code",
   "execution_count": 142,
   "metadata": {},
   "outputs": [],
   "source": [
    "# Corrección manual de inconsistencias específicas\n",
    "correcciones = {\n",
    "    'MAIZ': 'MAÍZ',\n",
    "    'PLATANO': 'PLÁTANO',\n",
    "    'LIMON': 'LIMÓN',\n",
    "    'PIMENTON': 'PIMENTÓN',\n",
    "    'GUANABANA': 'GUANÁBANA',\n",
    "    'AJONJOLI': 'AJONJOLÍ',\n",
    "    'MELON': 'MELÓN',\n",
    "    'AJI': 'AJÍ',\n",
    "    'NISPERO': 'NÍSPERO',\n",
    "    'ALGODON': 'ALGODÓN',\n",
    "    'CAFE': 'CAFÉ',\n",
    "    'MARAÑON': 'MARAÑÓN',\n",
    "    'MARACUYA': 'MARACUYÁ',\n",
    "    'OTROS CITRICOS': 'OTROS CÍTRICOS'\n",
    "}\n",
    "\n",
    "# Aplicar las correcciones\n",
    "df['CULTIVO'] = df['CULTIVO'].replace(correcciones)"
   ]
  },
  {
   "cell_type": "markdown",
   "metadata": {},
   "source": [
    "## Revisar duplicados"
   ]
  },
  {
   "cell_type": "code",
   "execution_count": 143,
   "metadata": {},
   "outputs": [
    {
     "data": {
      "text/plain": [
       "16354"
      ]
     },
     "execution_count": 143,
     "metadata": {},
     "output_type": "execute_result"
    }
   ],
   "source": [
    "# Revisar el tamaño del DF\n",
    "df.shape[0]"
   ]
  },
  {
   "cell_type": "code",
   "execution_count": 144,
   "metadata": {},
   "outputs": [
    {
     "data": {
      "text/plain": [
       "16354"
      ]
     },
     "execution_count": 144,
     "metadata": {},
     "output_type": "execute_result"
    }
   ],
   "source": [
    "# Eliminar duplicados\n",
    "df.drop_duplicates()\n",
    "df.shape[0]"
   ]
  },
  {
   "cell_type": "markdown",
   "metadata": {},
   "source": [
    "No hay duplicados\n",
    "\n",
    "## Características en total del data set"
   ]
  },
  {
   "cell_type": "code",
   "execution_count": 145,
   "metadata": {},
   "outputs": [
    {
     "name": "stdout",
     "output_type": "stream",
     "text": [
      "<class 'pandas.core.frame.DataFrame'>\n",
      "RangeIndex: 16354 entries, 0 to 16353\n",
      "Data columns (total 15 columns):\n",
      " #   Column                    Non-Null Count  Dtype  \n",
      "---  ------                    --------------  -----  \n",
      " 0   CODIGO DANE DEPARTAMENTO  16354 non-null  int64  \n",
      " 1   DEPARTAMENTO              16354 non-null  object \n",
      " 2   CODIGO DANE MUNICIPIO     16354 non-null  int64  \n",
      " 3   MUNICIPIO                 16354 non-null  object \n",
      " 4   GRUPO CULTIVO             16354 non-null  object \n",
      " 5   SUBGRUPO                  16354 non-null  object \n",
      " 6   CULTIVO                   16354 non-null  object \n",
      " 7   DESAGREGACION CULTIVO     16354 non-null  object \n",
      " 8   AÑO                       16354 non-null  int64  \n",
      " 9   PERIODO                   16354 non-null  object \n",
      " 10  AREA SEMBRADA (HA)        16354 non-null  float64\n",
      " 11  AREA COSECHADA(HA)        16354 non-null  float64\n",
      " 12  PRODUCCION(T)             16354 non-null  float64\n",
      " 13  RENDIMIENTO(T/HA)         16092 non-null  float64\n",
      " 14  CICLO DEL CULTIVO         16354 non-null  object \n",
      "dtypes: float64(4), int64(3), object(8)\n",
      "memory usage: 1.9+ MB\n"
     ]
    }
   ],
   "source": [
    "df.info()"
   ]
  },
  {
   "cell_type": "code",
   "execution_count": 146,
   "metadata": {},
   "outputs": [
    {
     "name": "stdout",
     "output_type": "stream",
     "text": [
      "<class 'pandas.core.frame.DataFrame'>\n",
      "RangeIndex: 16354 entries, 0 to 16353\n",
      "Data columns (total 15 columns):\n",
      " #   Column                    Non-Null Count  Dtype  \n",
      "---  ------                    --------------  -----  \n",
      " 0   CODIGO DANE DEPARTAMENTO  16354 non-null  object \n",
      " 1   DEPARTAMENTO              16354 non-null  object \n",
      " 2   CODIGO DANE MUNICIPIO     16354 non-null  object \n",
      " 3   MUNICIPIO                 16354 non-null  object \n",
      " 4   GRUPO CULTIVO             16354 non-null  object \n",
      " 5   SUBGRUPO                  16354 non-null  object \n",
      " 6   CULTIVO                   16354 non-null  object \n",
      " 7   DESAGREGACION CULTIVO     16354 non-null  object \n",
      " 8   AÑO                       16354 non-null  object \n",
      " 9   PERIODO                   16354 non-null  object \n",
      " 10  AREA SEMBRADA (HA)        16354 non-null  float64\n",
      " 11  AREA COSECHADA(HA)        16354 non-null  float64\n",
      " 12  PRODUCCION(T)             16354 non-null  float64\n",
      " 13  RENDIMIENTO(T/HA)         16092 non-null  float64\n",
      " 14  CICLO DEL CULTIVO         16354 non-null  object \n",
      "dtypes: float64(4), object(11)\n",
      "memory usage: 1.9+ MB\n"
     ]
    }
   ],
   "source": [
    "# Cambiar el tipo de datos de ['CODIGO DANE DEPARTAMENTO', 'CODIGO DANE MUNICIPIO', 'AÑO']\n",
    "df = df.astype({'CODIGO DANE DEPARTAMENTO':'object', 'CODIGO DANE MUNICIPIO':'object', 'AÑO':'object'})\n",
    "df.info()"
   ]
  },
  {
   "cell_type": "markdown",
   "metadata": {},
   "source": [
    "### Estadística descriptiva"
   ]
  },
  {
   "cell_type": "code",
   "execution_count": 147,
   "metadata": {},
   "outputs": [
    {
     "data": {
      "text/html": [
       "<div>\n",
       "<style scoped>\n",
       "    .dataframe tbody tr th:only-of-type {\n",
       "        vertical-align: middle;\n",
       "    }\n",
       "\n",
       "    .dataframe tbody tr th {\n",
       "        vertical-align: top;\n",
       "    }\n",
       "\n",
       "    .dataframe thead th {\n",
       "        text-align: right;\n",
       "    }\n",
       "</style>\n",
       "<table border=\"1\" class=\"dataframe\">\n",
       "  <thead>\n",
       "    <tr style=\"text-align: right;\">\n",
       "      <th></th>\n",
       "      <th>AREA SEMBRADA (HA)</th>\n",
       "      <th>AREA COSECHADA(HA)</th>\n",
       "      <th>PRODUCCION(T)</th>\n",
       "      <th>RENDIMIENTO(T/HA)</th>\n",
       "    </tr>\n",
       "  </thead>\n",
       "  <tbody>\n",
       "    <tr>\n",
       "      <th>count</th>\n",
       "      <td>16354.000000</td>\n",
       "      <td>16354.000000</td>\n",
       "      <td>16354.000000</td>\n",
       "      <td>16092.000000</td>\n",
       "    </tr>\n",
       "    <tr>\n",
       "      <th>mean</th>\n",
       "      <td>457.268609</td>\n",
       "      <td>400.398965</td>\n",
       "      <td>2206.952635</td>\n",
       "      <td>6.485708</td>\n",
       "    </tr>\n",
       "    <tr>\n",
       "      <th>std</th>\n",
       "      <td>937.883988</td>\n",
       "      <td>854.824803</td>\n",
       "      <td>6395.996295</td>\n",
       "      <td>7.472140</td>\n",
       "    </tr>\n",
       "    <tr>\n",
       "      <th>min</th>\n",
       "      <td>0.000000</td>\n",
       "      <td>0.000000</td>\n",
       "      <td>0.000000</td>\n",
       "      <td>0.000000</td>\n",
       "    </tr>\n",
       "    <tr>\n",
       "      <th>25%</th>\n",
       "      <td>25.000000</td>\n",
       "      <td>19.000000</td>\n",
       "      <td>76.000000</td>\n",
       "      <td>1.607500</td>\n",
       "    </tr>\n",
       "    <tr>\n",
       "      <th>50%</th>\n",
       "      <td>125.000000</td>\n",
       "      <td>100.000000</td>\n",
       "      <td>400.000000</td>\n",
       "      <td>4.100000</td>\n",
       "    </tr>\n",
       "    <tr>\n",
       "      <th>75%</th>\n",
       "      <td>460.000000</td>\n",
       "      <td>400.000000</td>\n",
       "      <td>1600.000000</td>\n",
       "      <td>9.482500</td>\n",
       "    </tr>\n",
       "    <tr>\n",
       "      <th>max</th>\n",
       "      <td>11950.000000</td>\n",
       "      <td>13321.000000</td>\n",
       "      <td>156260.000000</td>\n",
       "      <td>100.470000</td>\n",
       "    </tr>\n",
       "  </tbody>\n",
       "</table>\n",
       "</div>"
      ],
      "text/plain": [
       "       AREA SEMBRADA (HA)  AREA COSECHADA(HA)  PRODUCCION(T)  \\\n",
       "count        16354.000000        16354.000000   16354.000000   \n",
       "mean           457.268609          400.398965    2206.952635   \n",
       "std            937.883988          854.824803    6395.996295   \n",
       "min              0.000000            0.000000       0.000000   \n",
       "25%             25.000000           19.000000      76.000000   \n",
       "50%            125.000000          100.000000     400.000000   \n",
       "75%            460.000000          400.000000    1600.000000   \n",
       "max          11950.000000        13321.000000  156260.000000   \n",
       "\n",
       "       RENDIMIENTO(T/HA)  \n",
       "count       16092.000000  \n",
       "mean            6.485708  \n",
       "std             7.472140  \n",
       "min             0.000000  \n",
       "25%             1.607500  \n",
       "50%             4.100000  \n",
       "75%             9.482500  \n",
       "max           100.470000  "
      ]
     },
     "execution_count": 147,
     "metadata": {},
     "output_type": "execute_result"
    }
   ],
   "source": [
    "df.describe()"
   ]
  },
  {
   "cell_type": "markdown",
   "metadata": {},
   "source": [
    "Se observan mínimos de 0 para todas las variables y máximos bastante alejados del percentil 75. Esto indica una gran dispersion de los datos\n",
    "\n",
    "### Valores faltantes"
   ]
  },
  {
   "cell_type": "code",
   "execution_count": 148,
   "metadata": {},
   "outputs": [
    {
     "data": {
      "text/plain": [
       "CODIGO DANE DEPARTAMENTO      0\n",
       "DEPARTAMENTO                  0\n",
       "CODIGO DANE MUNICIPIO         0\n",
       "MUNICIPIO                     0\n",
       "GRUPO CULTIVO                 0\n",
       "SUBGRUPO                      0\n",
       "CULTIVO                       0\n",
       "DESAGREGACION CULTIVO         0\n",
       "AÑO                           0\n",
       "PERIODO                       0\n",
       "AREA SEMBRADA (HA)            0\n",
       "AREA COSECHADA(HA)            0\n",
       "PRODUCCION(T)                 0\n",
       "RENDIMIENTO(T/HA)           262\n",
       "CICLO DEL CULTIVO             0\n",
       "dtype: int64"
      ]
     },
     "execution_count": 148,
     "metadata": {},
     "output_type": "execute_result"
    }
   ],
   "source": [
    "df.isna().sum()"
   ]
  },
  {
   "cell_type": "markdown",
   "metadata": {},
   "source": [
    "Existen 262 registros en los que RENDIMIENTO(T/HA) no tine información"
   ]
  },
  {
   "cell_type": "code",
   "execution_count": 149,
   "metadata": {},
   "outputs": [
    {
     "data": {
      "text/html": [
       "<div>\n",
       "<style scoped>\n",
       "    .dataframe tbody tr th:only-of-type {\n",
       "        vertical-align: middle;\n",
       "    }\n",
       "\n",
       "    .dataframe tbody tr th {\n",
       "        vertical-align: top;\n",
       "    }\n",
       "\n",
       "    .dataframe thead th {\n",
       "        text-align: right;\n",
       "    }\n",
       "</style>\n",
       "<table border=\"1\" class=\"dataframe\">\n",
       "  <thead>\n",
       "    <tr style=\"text-align: right;\">\n",
       "      <th></th>\n",
       "      <th>CODIGO DANE DEPARTAMENTO</th>\n",
       "      <th>DEPARTAMENTO</th>\n",
       "      <th>CODIGO DANE MUNICIPIO</th>\n",
       "      <th>MUNICIPIO</th>\n",
       "      <th>GRUPO CULTIVO</th>\n",
       "      <th>SUBGRUPO</th>\n",
       "      <th>CULTIVO</th>\n",
       "      <th>DESAGREGACION CULTIVO</th>\n",
       "      <th>AÑO</th>\n",
       "      <th>PERIODO</th>\n",
       "      <th>AREA SEMBRADA (HA)</th>\n",
       "      <th>AREA COSECHADA(HA)</th>\n",
       "      <th>PRODUCCION(T)</th>\n",
       "      <th>RENDIMIENTO(T/HA)</th>\n",
       "      <th>CICLO DEL CULTIVO</th>\n",
       "    </tr>\n",
       "  </thead>\n",
       "  <tbody>\n",
       "    <tr>\n",
       "      <th>227</th>\n",
       "      <td>13</td>\n",
       "      <td>BOLÍVAR</td>\n",
       "      <td>13030</td>\n",
       "      <td>ALTOS DEL ROSARIO</td>\n",
       "      <td>OTROS PERMANENTES</td>\n",
       "      <td>CACAO</td>\n",
       "      <td>CACAO</td>\n",
       "      <td>CACAO</td>\n",
       "      <td>2007</td>\n",
       "      <td>2007</td>\n",
       "      <td>20.0</td>\n",
       "      <td>0.0</td>\n",
       "      <td>0.0</td>\n",
       "      <td>NaN</td>\n",
       "      <td>PERMANENTE</td>\n",
       "    </tr>\n",
       "    <tr>\n",
       "      <th>228</th>\n",
       "      <td>13</td>\n",
       "      <td>BOLÍVAR</td>\n",
       "      <td>13030</td>\n",
       "      <td>ALTOS DEL ROSARIO</td>\n",
       "      <td>OTROS PERMANENTES</td>\n",
       "      <td>CACAO</td>\n",
       "      <td>CACAO</td>\n",
       "      <td>CACAO</td>\n",
       "      <td>2008</td>\n",
       "      <td>2008</td>\n",
       "      <td>32.0</td>\n",
       "      <td>0.0</td>\n",
       "      <td>0.0</td>\n",
       "      <td>NaN</td>\n",
       "      <td>PERMANENTE</td>\n",
       "    </tr>\n",
       "    <tr>\n",
       "      <th>237</th>\n",
       "      <td>13</td>\n",
       "      <td>BOLÍVAR</td>\n",
       "      <td>13030</td>\n",
       "      <td>ALTOS DEL ROSARIO</td>\n",
       "      <td>OTROS PERMANENTES</td>\n",
       "      <td>CACAO</td>\n",
       "      <td>CACAO</td>\n",
       "      <td>CACAO</td>\n",
       "      <td>2017</td>\n",
       "      <td>2017</td>\n",
       "      <td>20.0</td>\n",
       "      <td>0.0</td>\n",
       "      <td>0.0</td>\n",
       "      <td>NaN</td>\n",
       "      <td>PERMANENTE</td>\n",
       "    </tr>\n",
       "    <tr>\n",
       "      <th>238</th>\n",
       "      <td>13</td>\n",
       "      <td>BOLÍVAR</td>\n",
       "      <td>13030</td>\n",
       "      <td>ALTOS DEL ROSARIO</td>\n",
       "      <td>OTROS PERMANENTES</td>\n",
       "      <td>CACAO</td>\n",
       "      <td>CACAO</td>\n",
       "      <td>CACAO</td>\n",
       "      <td>2018</td>\n",
       "      <td>2018</td>\n",
       "      <td>20.0</td>\n",
       "      <td>0.0</td>\n",
       "      <td>0.0</td>\n",
       "      <td>NaN</td>\n",
       "      <td>PERMANENTE</td>\n",
       "    </tr>\n",
       "    <tr>\n",
       "      <th>339</th>\n",
       "      <td>13</td>\n",
       "      <td>BOLÍVAR</td>\n",
       "      <td>13042</td>\n",
       "      <td>ARENAL</td>\n",
       "      <td>OLEAGINOSAS</td>\n",
       "      <td>PALMA DE ACEITE</td>\n",
       "      <td>PALMA DE ACEITE</td>\n",
       "      <td>PALMA DE ACEITE</td>\n",
       "      <td>2007</td>\n",
       "      <td>2007</td>\n",
       "      <td>85.0</td>\n",
       "      <td>0.0</td>\n",
       "      <td>0.0</td>\n",
       "      <td>NaN</td>\n",
       "      <td>PERMANENTE</td>\n",
       "    </tr>\n",
       "    <tr>\n",
       "      <th>...</th>\n",
       "      <td>...</td>\n",
       "      <td>...</td>\n",
       "      <td>...</td>\n",
       "      <td>...</td>\n",
       "      <td>...</td>\n",
       "      <td>...</td>\n",
       "      <td>...</td>\n",
       "      <td>...</td>\n",
       "      <td>...</td>\n",
       "      <td>...</td>\n",
       "      <td>...</td>\n",
       "      <td>...</td>\n",
       "      <td>...</td>\n",
       "      <td>...</td>\n",
       "      <td>...</td>\n",
       "    </tr>\n",
       "    <tr>\n",
       "      <th>13283</th>\n",
       "      <td>23</td>\n",
       "      <td>CÓRDOBA</td>\n",
       "      <td>23815</td>\n",
       "      <td>TUCHÍN</td>\n",
       "      <td>TUBERCULOS Y PLATANOS</td>\n",
       "      <td>BATATA</td>\n",
       "      <td>BATATA</td>\n",
       "      <td>BATATA</td>\n",
       "      <td>2015</td>\n",
       "      <td>2015A</td>\n",
       "      <td>27.0</td>\n",
       "      <td>0.0</td>\n",
       "      <td>0.0</td>\n",
       "      <td>NaN</td>\n",
       "      <td>TRANSITORIO</td>\n",
       "    </tr>\n",
       "    <tr>\n",
       "      <th>13385</th>\n",
       "      <td>23</td>\n",
       "      <td>CÓRDOBA</td>\n",
       "      <td>23855</td>\n",
       "      <td>VALENCIA</td>\n",
       "      <td>FORESTALES</td>\n",
       "      <td>CAUCHO</td>\n",
       "      <td>CAUCHO</td>\n",
       "      <td>CAUCHO</td>\n",
       "      <td>2013</td>\n",
       "      <td>2013</td>\n",
       "      <td>80.0</td>\n",
       "      <td>0.0</td>\n",
       "      <td>0.0</td>\n",
       "      <td>NaN</td>\n",
       "      <td>PERMANENTE</td>\n",
       "    </tr>\n",
       "    <tr>\n",
       "      <th>13386</th>\n",
       "      <td>23</td>\n",
       "      <td>CÓRDOBA</td>\n",
       "      <td>23855</td>\n",
       "      <td>VALENCIA</td>\n",
       "      <td>FORESTALES</td>\n",
       "      <td>CAUCHO</td>\n",
       "      <td>CAUCHO</td>\n",
       "      <td>CAUCHO</td>\n",
       "      <td>2014</td>\n",
       "      <td>2014</td>\n",
       "      <td>100.0</td>\n",
       "      <td>0.0</td>\n",
       "      <td>0.0</td>\n",
       "      <td>NaN</td>\n",
       "      <td>PERMANENTE</td>\n",
       "    </tr>\n",
       "    <tr>\n",
       "      <th>13387</th>\n",
       "      <td>23</td>\n",
       "      <td>CÓRDOBA</td>\n",
       "      <td>23855</td>\n",
       "      <td>VALENCIA</td>\n",
       "      <td>FORESTALES</td>\n",
       "      <td>CAUCHO</td>\n",
       "      <td>CAUCHO</td>\n",
       "      <td>CAUCHO</td>\n",
       "      <td>2015</td>\n",
       "      <td>2015</td>\n",
       "      <td>100.0</td>\n",
       "      <td>0.0</td>\n",
       "      <td>0.0</td>\n",
       "      <td>NaN</td>\n",
       "      <td>PERMANENTE</td>\n",
       "    </tr>\n",
       "    <tr>\n",
       "      <th>13388</th>\n",
       "      <td>23</td>\n",
       "      <td>CÓRDOBA</td>\n",
       "      <td>23855</td>\n",
       "      <td>VALENCIA</td>\n",
       "      <td>FORESTALES</td>\n",
       "      <td>CAUCHO</td>\n",
       "      <td>CAUCHO</td>\n",
       "      <td>CAUCHO</td>\n",
       "      <td>2016</td>\n",
       "      <td>2016</td>\n",
       "      <td>35.0</td>\n",
       "      <td>0.0</td>\n",
       "      <td>0.0</td>\n",
       "      <td>NaN</td>\n",
       "      <td>PERMANENTE</td>\n",
       "    </tr>\n",
       "  </tbody>\n",
       "</table>\n",
       "<p>262 rows × 15 columns</p>\n",
       "</div>"
      ],
      "text/plain": [
       "      CODIGO DANE DEPARTAMENTO DEPARTAMENTO CODIGO DANE MUNICIPIO  \\\n",
       "227                         13      BOLÍVAR                 13030   \n",
       "228                         13      BOLÍVAR                 13030   \n",
       "237                         13      BOLÍVAR                 13030   \n",
       "238                         13      BOLÍVAR                 13030   \n",
       "339                         13      BOLÍVAR                 13042   \n",
       "...                        ...          ...                   ...   \n",
       "13283                       23      CÓRDOBA                 23815   \n",
       "13385                       23      CÓRDOBA                 23855   \n",
       "13386                       23      CÓRDOBA                 23855   \n",
       "13387                       23      CÓRDOBA                 23855   \n",
       "13388                       23      CÓRDOBA                 23855   \n",
       "\n",
       "               MUNICIPIO          GRUPO CULTIVO         SUBGRUPO  \\\n",
       "227    ALTOS DEL ROSARIO      OTROS PERMANENTES            CACAO   \n",
       "228    ALTOS DEL ROSARIO      OTROS PERMANENTES            CACAO   \n",
       "237    ALTOS DEL ROSARIO      OTROS PERMANENTES            CACAO   \n",
       "238    ALTOS DEL ROSARIO      OTROS PERMANENTES            CACAO   \n",
       "339               ARENAL            OLEAGINOSAS  PALMA DE ACEITE   \n",
       "...                  ...                    ...              ...   \n",
       "13283             TUCHÍN  TUBERCULOS Y PLATANOS           BATATA   \n",
       "13385           VALENCIA             FORESTALES           CAUCHO   \n",
       "13386           VALENCIA             FORESTALES           CAUCHO   \n",
       "13387           VALENCIA             FORESTALES           CAUCHO   \n",
       "13388           VALENCIA             FORESTALES           CAUCHO   \n",
       "\n",
       "               CULTIVO DESAGREGACION CULTIVO   AÑO PERIODO  \\\n",
       "227              CACAO                 CACAO  2007    2007   \n",
       "228              CACAO                 CACAO  2008    2008   \n",
       "237              CACAO                 CACAO  2017    2017   \n",
       "238              CACAO                 CACAO  2018    2018   \n",
       "339    PALMA DE ACEITE       PALMA DE ACEITE  2007    2007   \n",
       "...                ...                   ...   ...     ...   \n",
       "13283           BATATA                BATATA  2015   2015A   \n",
       "13385           CAUCHO                CAUCHO  2013    2013   \n",
       "13386           CAUCHO                CAUCHO  2014    2014   \n",
       "13387           CAUCHO                CAUCHO  2015    2015   \n",
       "13388           CAUCHO                CAUCHO  2016    2016   \n",
       "\n",
       "       AREA SEMBRADA (HA)  AREA COSECHADA(HA)  PRODUCCION(T)  \\\n",
       "227                  20.0                 0.0            0.0   \n",
       "228                  32.0                 0.0            0.0   \n",
       "237                  20.0                 0.0            0.0   \n",
       "238                  20.0                 0.0            0.0   \n",
       "339                  85.0                 0.0            0.0   \n",
       "...                   ...                 ...            ...   \n",
       "13283                27.0                 0.0            0.0   \n",
       "13385                80.0                 0.0            0.0   \n",
       "13386               100.0                 0.0            0.0   \n",
       "13387               100.0                 0.0            0.0   \n",
       "13388                35.0                 0.0            0.0   \n",
       "\n",
       "       RENDIMIENTO(T/HA) CICLO DEL CULTIVO  \n",
       "227                  NaN        PERMANENTE  \n",
       "228                  NaN        PERMANENTE  \n",
       "237                  NaN        PERMANENTE  \n",
       "238                  NaN        PERMANENTE  \n",
       "339                  NaN        PERMANENTE  \n",
       "...                  ...               ...  \n",
       "13283                NaN       TRANSITORIO  \n",
       "13385                NaN        PERMANENTE  \n",
       "13386                NaN        PERMANENTE  \n",
       "13387                NaN        PERMANENTE  \n",
       "13388                NaN        PERMANENTE  \n",
       "\n",
       "[262 rows x 15 columns]"
      ]
     },
     "execution_count": 149,
     "metadata": {},
     "output_type": "execute_result"
    }
   ],
   "source": [
    "# Ver los registros con valores NaN \n",
    "df_nan = df[df.isna().any(axis=1)]\n",
    "df_nan"
   ]
  },
  {
   "cell_type": "code",
   "execution_count": 150,
   "metadata": {},
   "outputs": [
    {
     "data": {
      "text/plain": [
       "array([0.])"
      ]
     },
     "execution_count": 150,
     "metadata": {},
     "output_type": "execute_result"
    }
   ],
   "source": [
    "df_nan['AREA COSECHADA(HA)'].unique()"
   ]
  },
  {
   "cell_type": "code",
   "execution_count": 151,
   "metadata": {},
   "outputs": [
    {
     "data": {
      "text/plain": [
       "array([0.])"
      ]
     },
     "execution_count": 151,
     "metadata": {},
     "output_type": "execute_result"
    }
   ],
   "source": [
    "df_nan['PRODUCCION(T)'].unique()"
   ]
  },
  {
   "cell_type": "markdown",
   "metadata": {},
   "source": [
    "Se puede observar que tanto AREA COSECHADA(HA) como PRODUCCION(T) son 0 para los registros NaN de RENDIMIENTO(T/HA). Para un mejor manejo de los datos se van a reemplazar los NaN con 0"
   ]
  },
  {
   "cell_type": "code",
   "execution_count": 152,
   "metadata": {},
   "outputs": [
    {
     "data": {
      "text/plain": [
       "CODIGO DANE DEPARTAMENTO    0\n",
       "DEPARTAMENTO                0\n",
       "CODIGO DANE MUNICIPIO       0\n",
       "MUNICIPIO                   0\n",
       "GRUPO CULTIVO               0\n",
       "SUBGRUPO                    0\n",
       "CULTIVO                     0\n",
       "DESAGREGACION CULTIVO       0\n",
       "AÑO                         0\n",
       "PERIODO                     0\n",
       "AREA SEMBRADA (HA)          0\n",
       "AREA COSECHADA(HA)          0\n",
       "PRODUCCION(T)               0\n",
       "RENDIMIENTO(T/HA)           0\n",
       "CICLO DEL CULTIVO           0\n",
       "dtype: int64"
      ]
     },
     "execution_count": 152,
     "metadata": {},
     "output_type": "execute_result"
    }
   ],
   "source": [
    "# Remplazar NaN con 0\n",
    "df['RENDIMIENTO(T/HA)'] = df['RENDIMIENTO(T/HA)'].fillna(0)\n",
    "\n",
    "# Revisar NaN\n",
    "df.isna().sum()"
   ]
  },
  {
   "cell_type": "markdown",
   "metadata": {},
   "source": [
    "### Revisar la coherencia de los datos\n",
    "- AREA SEMBRADA (HA) >=\tAREA COSECHADA(HA)\n",
    "- "
   ]
  },
  {
   "cell_type": "code",
   "execution_count": 153,
   "metadata": {},
   "outputs": [
    {
     "data": {
      "text/html": [
       "<div>\n",
       "<style scoped>\n",
       "    .dataframe tbody tr th:only-of-type {\n",
       "        vertical-align: middle;\n",
       "    }\n",
       "\n",
       "    .dataframe tbody tr th {\n",
       "        vertical-align: top;\n",
       "    }\n",
       "\n",
       "    .dataframe thead th {\n",
       "        text-align: right;\n",
       "    }\n",
       "</style>\n",
       "<table border=\"1\" class=\"dataframe\">\n",
       "  <thead>\n",
       "    <tr style=\"text-align: right;\">\n",
       "      <th></th>\n",
       "      <th>CODIGO DANE DEPARTAMENTO</th>\n",
       "      <th>DEPARTAMENTO</th>\n",
       "      <th>CODIGO DANE MUNICIPIO</th>\n",
       "      <th>MUNICIPIO</th>\n",
       "      <th>GRUPO CULTIVO</th>\n",
       "      <th>SUBGRUPO</th>\n",
       "      <th>CULTIVO</th>\n",
       "      <th>DESAGREGACION CULTIVO</th>\n",
       "      <th>AÑO</th>\n",
       "      <th>PERIODO</th>\n",
       "      <th>AREA SEMBRADA (HA)</th>\n",
       "      <th>AREA COSECHADA(HA)</th>\n",
       "      <th>PRODUCCION(T)</th>\n",
       "      <th>RENDIMIENTO(T/HA)</th>\n",
       "      <th>CICLO DEL CULTIVO</th>\n",
       "    </tr>\n",
       "  </thead>\n",
       "  <tbody>\n",
       "    <tr>\n",
       "      <th>5100</th>\n",
       "      <td>13</td>\n",
       "      <td>BOLÍVAR</td>\n",
       "      <td>13006</td>\n",
       "      <td>ACHÍ</td>\n",
       "      <td>CEREALES</td>\n",
       "      <td>CEREALES</td>\n",
       "      <td>ARROZ</td>\n",
       "      <td>ARROZ RIEGO</td>\n",
       "      <td>2022</td>\n",
       "      <td>2022B</td>\n",
       "      <td>143.0</td>\n",
       "      <td>742.0</td>\n",
       "      <td>2968.0</td>\n",
       "      <td>4.0</td>\n",
       "      <td>TRANSITORIO</td>\n",
       "    </tr>\n",
       "    <tr>\n",
       "      <th>5101</th>\n",
       "      <td>13</td>\n",
       "      <td>BOLÍVAR</td>\n",
       "      <td>13006</td>\n",
       "      <td>ACHÍ</td>\n",
       "      <td>CEREALES</td>\n",
       "      <td>CEREALES</td>\n",
       "      <td>ARROZ</td>\n",
       "      <td>ARROZ SECANO MANUAL</td>\n",
       "      <td>2022</td>\n",
       "      <td>2022B</td>\n",
       "      <td>630.0</td>\n",
       "      <td>1200.0</td>\n",
       "      <td>3600.0</td>\n",
       "      <td>3.0</td>\n",
       "      <td>TRANSITORIO</td>\n",
       "    </tr>\n",
       "    <tr>\n",
       "      <th>5102</th>\n",
       "      <td>13</td>\n",
       "      <td>BOLÍVAR</td>\n",
       "      <td>13006</td>\n",
       "      <td>ACHÍ</td>\n",
       "      <td>CEREALES</td>\n",
       "      <td>CEREALES</td>\n",
       "      <td>ARROZ</td>\n",
       "      <td>ARROZ SECANO MECANIZADO</td>\n",
       "      <td>2022</td>\n",
       "      <td>2022B</td>\n",
       "      <td>6660.0</td>\n",
       "      <td>13321.0</td>\n",
       "      <td>46623.5</td>\n",
       "      <td>3.5</td>\n",
       "      <td>TRANSITORIO</td>\n",
       "    </tr>\n",
       "    <tr>\n",
       "      <th>5106</th>\n",
       "      <td>13</td>\n",
       "      <td>BOLÍVAR</td>\n",
       "      <td>13006</td>\n",
       "      <td>ACHÍ</td>\n",
       "      <td>CEREALES</td>\n",
       "      <td>CEREALES</td>\n",
       "      <td>ARROZ</td>\n",
       "      <td>ARROZ RIEGO</td>\n",
       "      <td>2023</td>\n",
       "      <td>2023B</td>\n",
       "      <td>143.0</td>\n",
       "      <td>429.0</td>\n",
       "      <td>1716.0</td>\n",
       "      <td>4.0</td>\n",
       "      <td>TRANSITORIO</td>\n",
       "    </tr>\n",
       "    <tr>\n",
       "      <th>5107</th>\n",
       "      <td>13</td>\n",
       "      <td>BOLÍVAR</td>\n",
       "      <td>13006</td>\n",
       "      <td>ACHÍ</td>\n",
       "      <td>CEREALES</td>\n",
       "      <td>CEREALES</td>\n",
       "      <td>ARROZ</td>\n",
       "      <td>ARROZ SECANO MANUAL</td>\n",
       "      <td>2023</td>\n",
       "      <td>2023B</td>\n",
       "      <td>630.0</td>\n",
       "      <td>1030.0</td>\n",
       "      <td>3090.0</td>\n",
       "      <td>3.0</td>\n",
       "      <td>TRANSITORIO</td>\n",
       "    </tr>\n",
       "    <tr>\n",
       "      <th>...</th>\n",
       "      <td>...</td>\n",
       "      <td>...</td>\n",
       "      <td>...</td>\n",
       "      <td>...</td>\n",
       "      <td>...</td>\n",
       "      <td>...</td>\n",
       "      <td>...</td>\n",
       "      <td>...</td>\n",
       "      <td>...</td>\n",
       "      <td>...</td>\n",
       "      <td>...</td>\n",
       "      <td>...</td>\n",
       "      <td>...</td>\n",
       "      <td>...</td>\n",
       "      <td>...</td>\n",
       "    </tr>\n",
       "    <tr>\n",
       "      <th>16293</th>\n",
       "      <td>23</td>\n",
       "      <td>CÓRDOBA</td>\n",
       "      <td>23855</td>\n",
       "      <td>VALENCIA</td>\n",
       "      <td>CEREALES</td>\n",
       "      <td>CEREALES</td>\n",
       "      <td>MAÍZ</td>\n",
       "      <td>MAÍZ AMARILLO TECNIFICADO</td>\n",
       "      <td>2023</td>\n",
       "      <td>2023B</td>\n",
       "      <td>300.0</td>\n",
       "      <td>385.0</td>\n",
       "      <td>1732.5</td>\n",
       "      <td>4.5</td>\n",
       "      <td>TRANSITORIO</td>\n",
       "    </tr>\n",
       "    <tr>\n",
       "      <th>16294</th>\n",
       "      <td>23</td>\n",
       "      <td>CÓRDOBA</td>\n",
       "      <td>23855</td>\n",
       "      <td>VALENCIA</td>\n",
       "      <td>CEREALES</td>\n",
       "      <td>CEREALES</td>\n",
       "      <td>MAÍZ</td>\n",
       "      <td>MAÍZ BLANCO TECNIFICADO</td>\n",
       "      <td>2023</td>\n",
       "      <td>2023B</td>\n",
       "      <td>700.0</td>\n",
       "      <td>795.0</td>\n",
       "      <td>3577.5</td>\n",
       "      <td>4.5</td>\n",
       "      <td>TRANSITORIO</td>\n",
       "    </tr>\n",
       "    <tr>\n",
       "      <th>16303</th>\n",
       "      <td>23</td>\n",
       "      <td>CÓRDOBA</td>\n",
       "      <td>23855</td>\n",
       "      <td>VALENCIA</td>\n",
       "      <td>RAÍCES Y TUBÉRCULOS</td>\n",
       "      <td>RAÍCES Y TUBÉRCULOS</td>\n",
       "      <td>ÑAME</td>\n",
       "      <td>ÑAME ESPINO</td>\n",
       "      <td>2022</td>\n",
       "      <td>2022B</td>\n",
       "      <td>4.0</td>\n",
       "      <td>7.0</td>\n",
       "      <td>14.0</td>\n",
       "      <td>2.0</td>\n",
       "      <td>TRANSITORIO</td>\n",
       "    </tr>\n",
       "    <tr>\n",
       "      <th>16333</th>\n",
       "      <td>23</td>\n",
       "      <td>CÓRDOBA</td>\n",
       "      <td>23855</td>\n",
       "      <td>VALENCIA</td>\n",
       "      <td>HORTALIZAS</td>\n",
       "      <td>HORTALIZAS DE FRUTO</td>\n",
       "      <td>PEPINO COHOMBRO</td>\n",
       "      <td>PEPINO COHOMBRO</td>\n",
       "      <td>2022</td>\n",
       "      <td>2022A</td>\n",
       "      <td>2.0</td>\n",
       "      <td>5.0</td>\n",
       "      <td>7.5</td>\n",
       "      <td>1.5</td>\n",
       "      <td>TRANSITORIO</td>\n",
       "    </tr>\n",
       "    <tr>\n",
       "      <th>16351</th>\n",
       "      <td>23</td>\n",
       "      <td>CÓRDOBA</td>\n",
       "      <td>23855</td>\n",
       "      <td>VALENCIA</td>\n",
       "      <td>RAÍCES Y TUBÉRCULOS</td>\n",
       "      <td>RAÍCES Y TUBÉRCULOS</td>\n",
       "      <td>YUCA</td>\n",
       "      <td>YUCA CONSUMO EN FRESCO</td>\n",
       "      <td>2022</td>\n",
       "      <td>2022B</td>\n",
       "      <td>50.0</td>\n",
       "      <td>70.0</td>\n",
       "      <td>840.0</td>\n",
       "      <td>12.0</td>\n",
       "      <td>TRANSITORIO</td>\n",
       "    </tr>\n",
       "  </tbody>\n",
       "</table>\n",
       "<p>627 rows × 15 columns</p>\n",
       "</div>"
      ],
      "text/plain": [
       "      CODIGO DANE DEPARTAMENTO DEPARTAMENTO CODIGO DANE MUNICIPIO MUNICIPIO  \\\n",
       "5100                        13      BOLÍVAR                 13006      ACHÍ   \n",
       "5101                        13      BOLÍVAR                 13006      ACHÍ   \n",
       "5102                        13      BOLÍVAR                 13006      ACHÍ   \n",
       "5106                        13      BOLÍVAR                 13006      ACHÍ   \n",
       "5107                        13      BOLÍVAR                 13006      ACHÍ   \n",
       "...                        ...          ...                   ...       ...   \n",
       "16293                       23      CÓRDOBA                 23855  VALENCIA   \n",
       "16294                       23      CÓRDOBA                 23855  VALENCIA   \n",
       "16303                       23      CÓRDOBA                 23855  VALENCIA   \n",
       "16333                       23      CÓRDOBA                 23855  VALENCIA   \n",
       "16351                       23      CÓRDOBA                 23855  VALENCIA   \n",
       "\n",
       "             GRUPO CULTIVO             SUBGRUPO          CULTIVO  \\\n",
       "5100              CEREALES             CEREALES            ARROZ   \n",
       "5101              CEREALES             CEREALES            ARROZ   \n",
       "5102              CEREALES             CEREALES            ARROZ   \n",
       "5106              CEREALES             CEREALES            ARROZ   \n",
       "5107              CEREALES             CEREALES            ARROZ   \n",
       "...                    ...                  ...              ...   \n",
       "16293             CEREALES             CEREALES             MAÍZ   \n",
       "16294             CEREALES             CEREALES             MAÍZ   \n",
       "16303  RAÍCES Y TUBÉRCULOS  RAÍCES Y TUBÉRCULOS             ÑAME   \n",
       "16333           HORTALIZAS  HORTALIZAS DE FRUTO  PEPINO COHOMBRO   \n",
       "16351  RAÍCES Y TUBÉRCULOS  RAÍCES Y TUBÉRCULOS             YUCA   \n",
       "\n",
       "           DESAGREGACION CULTIVO   AÑO PERIODO  AREA SEMBRADA (HA)  \\\n",
       "5100                 ARROZ RIEGO  2022   2022B               143.0   \n",
       "5101         ARROZ SECANO MANUAL  2022   2022B               630.0   \n",
       "5102     ARROZ SECANO MECANIZADO  2022   2022B              6660.0   \n",
       "5106                 ARROZ RIEGO  2023   2023B               143.0   \n",
       "5107         ARROZ SECANO MANUAL  2023   2023B               630.0   \n",
       "...                          ...   ...     ...                 ...   \n",
       "16293  MAÍZ AMARILLO TECNIFICADO  2023   2023B               300.0   \n",
       "16294    MAÍZ BLANCO TECNIFICADO  2023   2023B               700.0   \n",
       "16303                ÑAME ESPINO  2022   2022B                 4.0   \n",
       "16333            PEPINO COHOMBRO  2022   2022A                 2.0   \n",
       "16351     YUCA CONSUMO EN FRESCO  2022   2022B                50.0   \n",
       "\n",
       "       AREA COSECHADA(HA)  PRODUCCION(T)  RENDIMIENTO(T/HA) CICLO DEL CULTIVO  \n",
       "5100                742.0         2968.0                4.0       TRANSITORIO  \n",
       "5101               1200.0         3600.0                3.0       TRANSITORIO  \n",
       "5102              13321.0        46623.5                3.5       TRANSITORIO  \n",
       "5106                429.0         1716.0                4.0       TRANSITORIO  \n",
       "5107               1030.0         3090.0                3.0       TRANSITORIO  \n",
       "...                   ...            ...                ...               ...  \n",
       "16293               385.0         1732.5                4.5       TRANSITORIO  \n",
       "16294               795.0         3577.5                4.5       TRANSITORIO  \n",
       "16303                 7.0           14.0                2.0       TRANSITORIO  \n",
       "16333                 5.0            7.5                1.5       TRANSITORIO  \n",
       "16351                70.0          840.0               12.0       TRANSITORIO  \n",
       "\n",
       "[627 rows x 15 columns]"
      ]
     },
     "execution_count": 153,
     "metadata": {},
     "output_type": "execute_result"
    }
   ],
   "source": [
    "# AREA SEMBRADA (HA) >=\tAREA COSECHADA(HA)\n",
    "df[df['AREA SEMBRADA (HA)'] < df['AREA COSECHADA(HA)']]"
   ]
  },
  {
   "cell_type": "markdown",
   "metadata": {},
   "source": [
    "Existen 627 registros en los que AREA SEMBRADA (HA) < AREA COSECHADA(HA), lo cual no tiene sentito <br>\n",
    "Se eliminan estos registros"
   ]
  },
  {
   "cell_type": "code",
   "execution_count": 154,
   "metadata": {},
   "outputs": [
    {
     "data": {
      "text/plain": [
       "15727"
      ]
     },
     "execution_count": 154,
     "metadata": {},
     "output_type": "execute_result"
    }
   ],
   "source": [
    "df = df[df['AREA SEMBRADA (HA)'] >= df['AREA COSECHADA(HA)']]\n",
    "df.shape[0]"
   ]
  },
  {
   "cell_type": "markdown",
   "metadata": {},
   "source": [
    "Quedamos con 15727 registros "
   ]
  },
  {
   "cell_type": "markdown",
   "metadata": {},
   "source": [
    "## Nueva revisión de estadística descriptiva"
   ]
  },
  {
   "cell_type": "code",
   "execution_count": 155,
   "metadata": {},
   "outputs": [
    {
     "data": {
      "text/html": [
       "<div>\n",
       "<style scoped>\n",
       "    .dataframe tbody tr th:only-of-type {\n",
       "        vertical-align: middle;\n",
       "    }\n",
       "\n",
       "    .dataframe tbody tr th {\n",
       "        vertical-align: top;\n",
       "    }\n",
       "\n",
       "    .dataframe thead th {\n",
       "        text-align: right;\n",
       "    }\n",
       "</style>\n",
       "<table border=\"1\" class=\"dataframe\">\n",
       "  <thead>\n",
       "    <tr style=\"text-align: right;\">\n",
       "      <th></th>\n",
       "      <th>AREA SEMBRADA (HA)</th>\n",
       "      <th>AREA COSECHADA(HA)</th>\n",
       "      <th>PRODUCCION(T)</th>\n",
       "      <th>RENDIMIENTO(T/HA)</th>\n",
       "    </tr>\n",
       "  </thead>\n",
       "  <tbody>\n",
       "    <tr>\n",
       "      <th>count</th>\n",
       "      <td>15727.000000</td>\n",
       "      <td>15727.000000</td>\n",
       "      <td>15727.000000</td>\n",
       "      <td>15727.000000</td>\n",
       "    </tr>\n",
       "    <tr>\n",
       "      <th>mean</th>\n",
       "      <td>466.856797</td>\n",
       "      <td>396.268574</td>\n",
       "      <td>2190.196082</td>\n",
       "      <td>6.412599</td>\n",
       "    </tr>\n",
       "    <tr>\n",
       "      <th>std</th>\n",
       "      <td>949.812460</td>\n",
       "      <td>852.309949</td>\n",
       "      <td>6438.652888</td>\n",
       "      <td>7.541657</td>\n",
       "    </tr>\n",
       "    <tr>\n",
       "      <th>min</th>\n",
       "      <td>0.100000</td>\n",
       "      <td>0.000000</td>\n",
       "      <td>0.000000</td>\n",
       "      <td>0.000000</td>\n",
       "    </tr>\n",
       "    <tr>\n",
       "      <th>25%</th>\n",
       "      <td>25.500000</td>\n",
       "      <td>18.000000</td>\n",
       "      <td>75.000000</td>\n",
       "      <td>1.500000</td>\n",
       "    </tr>\n",
       "    <tr>\n",
       "      <th>50%</th>\n",
       "      <td>130.000000</td>\n",
       "      <td>98.000000</td>\n",
       "      <td>390.000000</td>\n",
       "      <td>4.000000</td>\n",
       "    </tr>\n",
       "    <tr>\n",
       "      <th>75%</th>\n",
       "      <td>475.000000</td>\n",
       "      <td>390.000000</td>\n",
       "      <td>1560.000000</td>\n",
       "      <td>9.000000</td>\n",
       "    </tr>\n",
       "    <tr>\n",
       "      <th>max</th>\n",
       "      <td>11950.000000</td>\n",
       "      <td>11950.000000</td>\n",
       "      <td>156260.000000</td>\n",
       "      <td>100.470000</td>\n",
       "    </tr>\n",
       "  </tbody>\n",
       "</table>\n",
       "</div>"
      ],
      "text/plain": [
       "       AREA SEMBRADA (HA)  AREA COSECHADA(HA)  PRODUCCION(T)  \\\n",
       "count        15727.000000        15727.000000   15727.000000   \n",
       "mean           466.856797          396.268574    2190.196082   \n",
       "std            949.812460          852.309949    6438.652888   \n",
       "min              0.100000            0.000000       0.000000   \n",
       "25%             25.500000           18.000000      75.000000   \n",
       "50%            130.000000           98.000000     390.000000   \n",
       "75%            475.000000          390.000000    1560.000000   \n",
       "max          11950.000000        11950.000000  156260.000000   \n",
       "\n",
       "       RENDIMIENTO(T/HA)  \n",
       "count       15727.000000  \n",
       "mean            6.412599  \n",
       "std             7.541657  \n",
       "min             0.000000  \n",
       "25%             1.500000  \n",
       "50%             4.000000  \n",
       "75%             9.000000  \n",
       "max           100.470000  "
      ]
     },
     "execution_count": 155,
     "metadata": {},
     "output_type": "execute_result"
    }
   ],
   "source": [
    "df.describe()"
   ]
  },
  {
   "cell_type": "code",
   "execution_count": 156,
   "metadata": {},
   "outputs": [
    {
     "data": {
      "text/plain": [
       "20"
      ]
     },
     "execution_count": 156,
     "metadata": {},
     "output_type": "execute_result"
    }
   ],
   "source": [
    "# Registros con 'AREA SEMBRADA (HA)' inferior a 1\n",
    "df[df['AREA SEMBRADA (HA)'] < 1].shape[0]"
   ]
  },
  {
   "cell_type": "code",
   "execution_count": 157,
   "metadata": {},
   "outputs": [
    {
     "data": {
      "text/plain": [
       "Index(['CODIGO DANE DEPARTAMENTO', 'DEPARTAMENTO', 'CODIGO DANE MUNICIPIO',\n",
       "       'MUNICIPIO', 'GRUPO CULTIVO', 'SUBGRUPO', 'CULTIVO',\n",
       "       'DESAGREGACION CULTIVO', 'AÑO', 'PERIODO', 'AREA SEMBRADA (HA)',\n",
       "       'AREA COSECHADA(HA)', 'PRODUCCION(T)', 'RENDIMIENTO(T/HA)',\n",
       "       'CICLO DEL CULTIVO'],\n",
       "      dtype='object')"
      ]
     },
     "execution_count": 157,
     "metadata": {},
     "output_type": "execute_result"
    }
   ],
   "source": [
    "df.columns"
   ]
  },
  {
   "cell_type": "code",
   "execution_count": 158,
   "metadata": {},
   "outputs": [],
   "source": [
    "# Poner columnas en minúscula para mayor facilidad\n",
    "data = df.copy()\n",
    "data.columns = data.columns.str.lower()"
   ]
  },
  {
   "cell_type": "code",
   "execution_count": 159,
   "metadata": {},
   "outputs": [],
   "source": [
    "# Renombrar columnas para mayor facilidad\n",
    "data.columns = ['codigo_dane_departamento', 'departamento', 'codigo_dane_municipio',\n",
    "       'municipio', 'grupo_cultivo', 'subgrupo', 'cultivo',\n",
    "       'desagregacion_cultivo', 'año', 'periodo', 'area_sembrada',\n",
    "       'area_cosechada', 'produccion', 'rendimiento',\n",
    "       'ciclo_cultivo']"
   ]
  },
  {
   "cell_type": "code",
   "execution_count": 160,
   "metadata": {},
   "outputs": [
    {
     "data": {
      "text/plain": [
       "Index(['codigo_dane_departamento', 'departamento', 'codigo_dane_municipio',\n",
       "       'municipio', 'grupo_cultivo', 'subgrupo', 'cultivo',\n",
       "       'desagregacion_cultivo', 'año', 'periodo', 'area_sembrada',\n",
       "       'area_cosechada', 'produccion', 'rendimiento', 'ciclo_cultivo'],\n",
       "      dtype='object')"
      ]
     },
     "execution_count": 160,
     "metadata": {},
     "output_type": "execute_result"
    }
   ],
   "source": [
    "data.columns"
   ]
  },
  {
   "cell_type": "code",
   "execution_count": 161,
   "metadata": {},
   "outputs": [
    {
     "data": {
      "text/html": [
       "<div>\n",
       "<style scoped>\n",
       "    .dataframe tbody tr th:only-of-type {\n",
       "        vertical-align: middle;\n",
       "    }\n",
       "\n",
       "    .dataframe tbody tr th {\n",
       "        vertical-align: top;\n",
       "    }\n",
       "\n",
       "    .dataframe thead th {\n",
       "        text-align: right;\n",
       "    }\n",
       "</style>\n",
       "<table border=\"1\" class=\"dataframe\">\n",
       "  <thead>\n",
       "    <tr style=\"text-align: right;\">\n",
       "      <th></th>\n",
       "      <th>codigo_dane_departamento</th>\n",
       "      <th>departamento</th>\n",
       "      <th>codigo_dane_municipio</th>\n",
       "      <th>municipio</th>\n",
       "      <th>grupo_cultivo</th>\n",
       "      <th>subgrupo</th>\n",
       "      <th>cultivo</th>\n",
       "      <th>desagregacion_cultivo</th>\n",
       "      <th>año</th>\n",
       "      <th>periodo</th>\n",
       "      <th>area_sembrada</th>\n",
       "      <th>area_cosechada</th>\n",
       "      <th>produccion</th>\n",
       "      <th>rendimiento</th>\n",
       "      <th>ciclo_cultivo</th>\n",
       "    </tr>\n",
       "  </thead>\n",
       "  <tbody>\n",
       "    <tr>\n",
       "      <th>0</th>\n",
       "      <td>13</td>\n",
       "      <td>Bolívar</td>\n",
       "      <td>13006</td>\n",
       "      <td>Achí</td>\n",
       "      <td>Frutales</td>\n",
       "      <td>Aguacate</td>\n",
       "      <td>Aguacate</td>\n",
       "      <td>Aguacate</td>\n",
       "      <td>2007</td>\n",
       "      <td>2007</td>\n",
       "      <td>80.0</td>\n",
       "      <td>80.0</td>\n",
       "      <td>800.0</td>\n",
       "      <td>10.0</td>\n",
       "      <td>Permanente</td>\n",
       "    </tr>\n",
       "    <tr>\n",
       "      <th>1</th>\n",
       "      <td>13</td>\n",
       "      <td>Bolívar</td>\n",
       "      <td>13006</td>\n",
       "      <td>Achí</td>\n",
       "      <td>Frutales</td>\n",
       "      <td>Aguacate</td>\n",
       "      <td>Aguacate</td>\n",
       "      <td>Aguacate</td>\n",
       "      <td>2008</td>\n",
       "      <td>2008</td>\n",
       "      <td>80.0</td>\n",
       "      <td>80.0</td>\n",
       "      <td>720.0</td>\n",
       "      <td>9.0</td>\n",
       "      <td>Permanente</td>\n",
       "    </tr>\n",
       "    <tr>\n",
       "      <th>2</th>\n",
       "      <td>13</td>\n",
       "      <td>Bolívar</td>\n",
       "      <td>13006</td>\n",
       "      <td>Achí</td>\n",
       "      <td>Frutales</td>\n",
       "      <td>Aguacate</td>\n",
       "      <td>Aguacate</td>\n",
       "      <td>Aguacate</td>\n",
       "      <td>2009</td>\n",
       "      <td>2009</td>\n",
       "      <td>80.0</td>\n",
       "      <td>80.0</td>\n",
       "      <td>800.0</td>\n",
       "      <td>10.0</td>\n",
       "      <td>Permanente</td>\n",
       "    </tr>\n",
       "    <tr>\n",
       "      <th>3</th>\n",
       "      <td>13</td>\n",
       "      <td>Bolívar</td>\n",
       "      <td>13006</td>\n",
       "      <td>Achí</td>\n",
       "      <td>Frutales</td>\n",
       "      <td>Aguacate</td>\n",
       "      <td>Aguacate</td>\n",
       "      <td>Aguacate</td>\n",
       "      <td>2010</td>\n",
       "      <td>2010</td>\n",
       "      <td>80.0</td>\n",
       "      <td>80.0</td>\n",
       "      <td>480.0</td>\n",
       "      <td>6.0</td>\n",
       "      <td>Permanente</td>\n",
       "    </tr>\n",
       "    <tr>\n",
       "      <th>4</th>\n",
       "      <td>13</td>\n",
       "      <td>Bolívar</td>\n",
       "      <td>13006</td>\n",
       "      <td>Achí</td>\n",
       "      <td>Frutales</td>\n",
       "      <td>Aguacate</td>\n",
       "      <td>Aguacate</td>\n",
       "      <td>Aguacate</td>\n",
       "      <td>2011</td>\n",
       "      <td>2011</td>\n",
       "      <td>80.0</td>\n",
       "      <td>80.0</td>\n",
       "      <td>560.0</td>\n",
       "      <td>7.0</td>\n",
       "      <td>Permanente</td>\n",
       "    </tr>\n",
       "  </tbody>\n",
       "</table>\n",
       "</div>"
      ],
      "text/plain": [
       "   codigo_dane_departamento departamento  codigo_dane_municipio municipio  \\\n",
       "0                        13      Bolívar                  13006      Achí   \n",
       "1                        13      Bolívar                  13006      Achí   \n",
       "2                        13      Bolívar                  13006      Achí   \n",
       "3                        13      Bolívar                  13006      Achí   \n",
       "4                        13      Bolívar                  13006      Achí   \n",
       "\n",
       "  grupo_cultivo  subgrupo   cultivo desagregacion_cultivo   año periodo  \\\n",
       "0      Frutales  Aguacate  Aguacate              Aguacate  2007    2007   \n",
       "1      Frutales  Aguacate  Aguacate              Aguacate  2008    2008   \n",
       "2      Frutales  Aguacate  Aguacate              Aguacate  2009    2009   \n",
       "3      Frutales  Aguacate  Aguacate              Aguacate  2010    2010   \n",
       "4      Frutales  Aguacate  Aguacate              Aguacate  2011    2011   \n",
       "\n",
       "   area_sembrada  area_cosechada  produccion  rendimiento ciclo_cultivo  \n",
       "0           80.0            80.0       800.0         10.0    Permanente  \n",
       "1           80.0            80.0       720.0          9.0    Permanente  \n",
       "2           80.0            80.0       800.0         10.0    Permanente  \n",
       "3           80.0            80.0       480.0          6.0    Permanente  \n",
       "4           80.0            80.0       560.0          7.0    Permanente  "
      ]
     },
     "execution_count": 161,
     "metadata": {},
     "output_type": "execute_result"
    }
   ],
   "source": [
    "# Poner el df en formato Título para mejor lectura\n",
    "data = data.map(lambda x: x.title() if isinstance(x, str) else x)\n",
    "data.head()"
   ]
  },
  {
   "cell_type": "markdown",
   "metadata": {},
   "source": [
    "## Guardar df en un nuevo archivo"
   ]
  },
  {
   "cell_type": "code",
   "execution_count": 175,
   "metadata": {},
   "outputs": [
    {
     "data": {
      "text/plain": [
       "array(['Aguacate', 'Ahuyama', 'Arroz', 'Cacao', 'Caña Panelera', 'Coco',\n",
       "       'Guayaba', 'Maíz', 'Mango', 'Patilla', 'Plátano', 'Yuca', 'Zapote',\n",
       "       'Ají', 'Algodón', 'Palma De Aceite', 'Papaya', 'Piña', 'Ñame',\n",
       "       'Frijol', 'Caucho', 'Berenjena', 'Cilantro', 'Ciruela', 'Col',\n",
       "       'Guanábana', 'Hortalizas Varias', 'Melón', 'Sorgo',\n",
       "       'Pepino Cohombro', 'Pimentón', 'Tomate', 'Naranja', 'Habichuela',\n",
       "       'Limón', 'Ajonjolí', 'Tabaco Negro', 'Tabaco Rubio', 'Citricos',\n",
       "       'Jatropha', 'Café', 'Higuerilla', 'Eucalipto Baby Blue',\n",
       "       'Maiz Forrajero', 'Pitahaya', 'Níspero', 'Caña', 'Batata',\n",
       "       'Otras Hortalizas', 'Millo', 'Sacha Inchi', 'Tabaco', 'Mandarina',\n",
       "       'Otros Cítricos', 'Pomelo', 'Achiote', 'Maracuyá', 'Calabaza',\n",
       "       'Marañón', 'Caña Flecha', 'Guandul', 'Mamoncillo',\n",
       "       'Otros Frutales', 'Soya', 'Calabacín, Calabaza',\n",
       "       'Plantas Aromáticas', 'Lima',\n",
       "       'Otros Cultivos Tropicales Tradicionales'], dtype=object)"
      ]
     },
     "execution_count": 175,
     "metadata": {},
     "output_type": "execute_result"
    }
   ],
   "source": [
    "data['cultivo'].unique()"
   ]
  },
  {
   "cell_type": "code",
   "execution_count": 162,
   "metadata": {},
   "outputs": [],
   "source": [
    "data.to_csv('datos.csv', index=False)"
   ]
  },
  {
   "cell_type": "markdown",
   "metadata": {},
   "source": [
    "## Exploración adicional de datos\n",
    "\n",
    "### Registros con producción > 0"
   ]
  },
  {
   "cell_type": "code",
   "execution_count": 163,
   "metadata": {},
   "outputs": [
    {
     "data": {
      "text/plain": [
       "653"
      ]
     },
     "execution_count": 163,
     "metadata": {},
     "output_type": "execute_result"
    }
   ],
   "source": [
    "df1 = df[df['PRODUCCION(T)'] == 0]\n",
    "df1.shape[0]"
   ]
  },
  {
   "cell_type": "code",
   "execution_count": 164,
   "metadata": {},
   "outputs": [
    {
     "data": {
      "text/html": [
       "<div>\n",
       "<style scoped>\n",
       "    .dataframe tbody tr th:only-of-type {\n",
       "        vertical-align: middle;\n",
       "    }\n",
       "\n",
       "    .dataframe tbody tr th {\n",
       "        vertical-align: top;\n",
       "    }\n",
       "\n",
       "    .dataframe thead th {\n",
       "        text-align: right;\n",
       "    }\n",
       "</style>\n",
       "<table border=\"1\" class=\"dataframe\">\n",
       "  <thead>\n",
       "    <tr style=\"text-align: right;\">\n",
       "      <th></th>\n",
       "      <th>CODIGO DANE DEPARTAMENTO</th>\n",
       "      <th>DEPARTAMENTO</th>\n",
       "      <th>CODIGO DANE MUNICIPIO</th>\n",
       "      <th>MUNICIPIO</th>\n",
       "      <th>GRUPO CULTIVO</th>\n",
       "      <th>SUBGRUPO</th>\n",
       "      <th>CULTIVO</th>\n",
       "      <th>DESAGREGACION CULTIVO</th>\n",
       "      <th>AÑO</th>\n",
       "      <th>PERIODO</th>\n",
       "      <th>AREA SEMBRADA (HA)</th>\n",
       "      <th>AREA COSECHADA(HA)</th>\n",
       "      <th>PRODUCCION(T)</th>\n",
       "      <th>RENDIMIENTO(T/HA)</th>\n",
       "      <th>CICLO DEL CULTIVO</th>\n",
       "    </tr>\n",
       "  </thead>\n",
       "  <tbody>\n",
       "    <tr>\n",
       "      <th>11318</th>\n",
       "      <td>23</td>\n",
       "      <td>CÓRDOBA</td>\n",
       "      <td>23570</td>\n",
       "      <td>PUEBLO NUEVO</td>\n",
       "      <td>OTROS PERMANENTES</td>\n",
       "      <td>CACAO</td>\n",
       "      <td>CACAO</td>\n",
       "      <td>CACAO</td>\n",
       "      <td>2009</td>\n",
       "      <td>2009</td>\n",
       "      <td>1.0</td>\n",
       "      <td>1.0</td>\n",
       "      <td>0.0</td>\n",
       "      <td>0.44</td>\n",
       "      <td>PERMANENTE</td>\n",
       "    </tr>\n",
       "  </tbody>\n",
       "</table>\n",
       "</div>"
      ],
      "text/plain": [
       "      CODIGO DANE DEPARTAMENTO DEPARTAMENTO CODIGO DANE MUNICIPIO  \\\n",
       "11318                       23      CÓRDOBA                 23570   \n",
       "\n",
       "          MUNICIPIO      GRUPO CULTIVO SUBGRUPO CULTIVO DESAGREGACION CULTIVO  \\\n",
       "11318  PUEBLO NUEVO  OTROS PERMANENTES    CACAO   CACAO                 CACAO   \n",
       "\n",
       "        AÑO PERIODO  AREA SEMBRADA (HA)  AREA COSECHADA(HA)  PRODUCCION(T)  \\\n",
       "11318  2009    2009                 1.0                 1.0            0.0   \n",
       "\n",
       "       RENDIMIENTO(T/HA) CICLO DEL CULTIVO  \n",
       "11318               0.44        PERMANENTE  "
      ]
     },
     "execution_count": 164,
     "metadata": {},
     "output_type": "execute_result"
    }
   ],
   "source": [
    "df1[df1['RENDIMIENTO(T/HA)'] != 0]"
   ]
  },
  {
   "cell_type": "markdown",
   "metadata": {},
   "source": [
    "### Revisar si la columna rendimiento cumple con la condición t/ha"
   ]
  },
  {
   "cell_type": "code",
   "execution_count": 165,
   "metadata": {},
   "outputs": [],
   "source": [
    "# Nueva columna con la formula\n",
    "df1 = df.copy()\n",
    "df1['REND'] = (df1['PRODUCCION(T)'] / df1['AREA COSECHADA(HA)']).round(2)"
   ]
  },
  {
   "cell_type": "code",
   "execution_count": 166,
   "metadata": {},
   "outputs": [],
   "source": [
    "# Rellenar valores NaN de la nueva columna con 0\n",
    "df1['REND']=df1['REND'].fillna(0)"
   ]
  },
  {
   "cell_type": "code",
   "execution_count": 167,
   "metadata": {},
   "outputs": [
    {
     "data": {
      "text/html": [
       "<div>\n",
       "<style scoped>\n",
       "    .dataframe tbody tr th:only-of-type {\n",
       "        vertical-align: middle;\n",
       "    }\n",
       "\n",
       "    .dataframe tbody tr th {\n",
       "        vertical-align: top;\n",
       "    }\n",
       "\n",
       "    .dataframe thead th {\n",
       "        text-align: right;\n",
       "    }\n",
       "</style>\n",
       "<table border=\"1\" class=\"dataframe\">\n",
       "  <thead>\n",
       "    <tr style=\"text-align: right;\">\n",
       "      <th></th>\n",
       "      <th>CODIGO DANE DEPARTAMENTO</th>\n",
       "      <th>DEPARTAMENTO</th>\n",
       "      <th>CODIGO DANE MUNICIPIO</th>\n",
       "      <th>MUNICIPIO</th>\n",
       "      <th>GRUPO CULTIVO</th>\n",
       "      <th>SUBGRUPO</th>\n",
       "      <th>CULTIVO</th>\n",
       "      <th>DESAGREGACION CULTIVO</th>\n",
       "      <th>AÑO</th>\n",
       "      <th>PERIODO</th>\n",
       "      <th>AREA SEMBRADA (HA)</th>\n",
       "      <th>AREA COSECHADA(HA)</th>\n",
       "      <th>PRODUCCION(T)</th>\n",
       "      <th>RENDIMIENTO(T/HA)</th>\n",
       "      <th>CICLO DEL CULTIVO</th>\n",
       "      <th>REND</th>\n",
       "      <th>cumple</th>\n",
       "    </tr>\n",
       "  </thead>\n",
       "  <tbody>\n",
       "    <tr>\n",
       "      <th>0</th>\n",
       "      <td>13</td>\n",
       "      <td>BOLÍVAR</td>\n",
       "      <td>13006</td>\n",
       "      <td>ACHÍ</td>\n",
       "      <td>FRUTALES</td>\n",
       "      <td>AGUACATE</td>\n",
       "      <td>AGUACATE</td>\n",
       "      <td>AGUACATE</td>\n",
       "      <td>2007</td>\n",
       "      <td>2007</td>\n",
       "      <td>80.0</td>\n",
       "      <td>80.0</td>\n",
       "      <td>800.0</td>\n",
       "      <td>10.0</td>\n",
       "      <td>PERMANENTE</td>\n",
       "      <td>10.0</td>\n",
       "      <td>si</td>\n",
       "    </tr>\n",
       "    <tr>\n",
       "      <th>1</th>\n",
       "      <td>13</td>\n",
       "      <td>BOLÍVAR</td>\n",
       "      <td>13006</td>\n",
       "      <td>ACHÍ</td>\n",
       "      <td>FRUTALES</td>\n",
       "      <td>AGUACATE</td>\n",
       "      <td>AGUACATE</td>\n",
       "      <td>AGUACATE</td>\n",
       "      <td>2008</td>\n",
       "      <td>2008</td>\n",
       "      <td>80.0</td>\n",
       "      <td>80.0</td>\n",
       "      <td>720.0</td>\n",
       "      <td>9.0</td>\n",
       "      <td>PERMANENTE</td>\n",
       "      <td>9.0</td>\n",
       "      <td>si</td>\n",
       "    </tr>\n",
       "    <tr>\n",
       "      <th>2</th>\n",
       "      <td>13</td>\n",
       "      <td>BOLÍVAR</td>\n",
       "      <td>13006</td>\n",
       "      <td>ACHÍ</td>\n",
       "      <td>FRUTALES</td>\n",
       "      <td>AGUACATE</td>\n",
       "      <td>AGUACATE</td>\n",
       "      <td>AGUACATE</td>\n",
       "      <td>2009</td>\n",
       "      <td>2009</td>\n",
       "      <td>80.0</td>\n",
       "      <td>80.0</td>\n",
       "      <td>800.0</td>\n",
       "      <td>10.0</td>\n",
       "      <td>PERMANENTE</td>\n",
       "      <td>10.0</td>\n",
       "      <td>si</td>\n",
       "    </tr>\n",
       "    <tr>\n",
       "      <th>3</th>\n",
       "      <td>13</td>\n",
       "      <td>BOLÍVAR</td>\n",
       "      <td>13006</td>\n",
       "      <td>ACHÍ</td>\n",
       "      <td>FRUTALES</td>\n",
       "      <td>AGUACATE</td>\n",
       "      <td>AGUACATE</td>\n",
       "      <td>AGUACATE</td>\n",
       "      <td>2010</td>\n",
       "      <td>2010</td>\n",
       "      <td>80.0</td>\n",
       "      <td>80.0</td>\n",
       "      <td>480.0</td>\n",
       "      <td>6.0</td>\n",
       "      <td>PERMANENTE</td>\n",
       "      <td>6.0</td>\n",
       "      <td>si</td>\n",
       "    </tr>\n",
       "    <tr>\n",
       "      <th>4</th>\n",
       "      <td>13</td>\n",
       "      <td>BOLÍVAR</td>\n",
       "      <td>13006</td>\n",
       "      <td>ACHÍ</td>\n",
       "      <td>FRUTALES</td>\n",
       "      <td>AGUACATE</td>\n",
       "      <td>AGUACATE</td>\n",
       "      <td>AGUACATE</td>\n",
       "      <td>2011</td>\n",
       "      <td>2011</td>\n",
       "      <td>80.0</td>\n",
       "      <td>80.0</td>\n",
       "      <td>560.0</td>\n",
       "      <td>7.0</td>\n",
       "      <td>PERMANENTE</td>\n",
       "      <td>7.0</td>\n",
       "      <td>si</td>\n",
       "    </tr>\n",
       "  </tbody>\n",
       "</table>\n",
       "</div>"
      ],
      "text/plain": [
       "  CODIGO DANE DEPARTAMENTO DEPARTAMENTO CODIGO DANE MUNICIPIO MUNICIPIO  \\\n",
       "0                       13      BOLÍVAR                 13006      ACHÍ   \n",
       "1                       13      BOLÍVAR                 13006      ACHÍ   \n",
       "2                       13      BOLÍVAR                 13006      ACHÍ   \n",
       "3                       13      BOLÍVAR                 13006      ACHÍ   \n",
       "4                       13      BOLÍVAR                 13006      ACHÍ   \n",
       "\n",
       "  GRUPO CULTIVO  SUBGRUPO   CULTIVO DESAGREGACION CULTIVO   AÑO PERIODO  \\\n",
       "0      FRUTALES  AGUACATE  AGUACATE              AGUACATE  2007    2007   \n",
       "1      FRUTALES  AGUACATE  AGUACATE              AGUACATE  2008    2008   \n",
       "2      FRUTALES  AGUACATE  AGUACATE              AGUACATE  2009    2009   \n",
       "3      FRUTALES  AGUACATE  AGUACATE              AGUACATE  2010    2010   \n",
       "4      FRUTALES  AGUACATE  AGUACATE              AGUACATE  2011    2011   \n",
       "\n",
       "   AREA SEMBRADA (HA)  AREA COSECHADA(HA)  PRODUCCION(T)  RENDIMIENTO(T/HA)  \\\n",
       "0                80.0                80.0          800.0               10.0   \n",
       "1                80.0                80.0          720.0                9.0   \n",
       "2                80.0                80.0          800.0               10.0   \n",
       "3                80.0                80.0          480.0                6.0   \n",
       "4                80.0                80.0          560.0                7.0   \n",
       "\n",
       "  CICLO DEL CULTIVO  REND cumple  \n",
       "0        PERMANENTE  10.0     si  \n",
       "1        PERMANENTE   9.0     si  \n",
       "2        PERMANENTE  10.0     si  \n",
       "3        PERMANENTE   6.0     si  \n",
       "4        PERMANENTE   7.0     si  "
      ]
     },
     "execution_count": 167,
     "metadata": {},
     "output_type": "execute_result"
    }
   ],
   "source": [
    "# Nueva columna que indica si 'RENDIMIENTO(T/HA)' cumple con la condición t/ha_cosechadas \n",
    "df1['cumple'] = df1.apply(lambda x: 'si' if x['REND'] == x['RENDIMIENTO(T/HA)'] else 'no', axis=1) # Se usa apply porque es por columnas no por elemento\n",
    "df1.head()"
   ]
  },
  {
   "cell_type": "code",
   "execution_count": 168,
   "metadata": {},
   "outputs": [
    {
     "data": {
      "text/plain": [
       "(15727, 17)"
      ]
     },
     "execution_count": 168,
     "metadata": {},
     "output_type": "execute_result"
    }
   ],
   "source": [
    "df1.shape"
   ]
  },
  {
   "cell_type": "code",
   "execution_count": 169,
   "metadata": {},
   "outputs": [
    {
     "data": {
      "text/plain": [
       "870"
      ]
     },
     "execution_count": 169,
     "metadata": {},
     "output_type": "execute_result"
    }
   ],
   "source": [
    "df1[df1['cumple'] == 'no'].shape[0]"
   ]
  },
  {
   "cell_type": "markdown",
   "metadata": {},
   "source": [
    "Se tienen 870 registros que no cumplen con la condición  t/ha_cosechadas\n",
    "\n",
    "### Revisión profunda de los registros que no cumplen la condición"
   ]
  },
  {
   "cell_type": "code",
   "execution_count": 170,
   "metadata": {},
   "outputs": [],
   "source": [
    "df2 = df1[df1['cumple'] == 'no'].copy()"
   ]
  },
  {
   "cell_type": "code",
   "execution_count": 171,
   "metadata": {},
   "outputs": [],
   "source": [
    "# Nueva columna que indica la diferencia entre el rendimiento que está en el df original y el rendimiento calculado con la formula\n",
    "df2['dif'] = df2['REND'] - df2['RENDIMIENTO(T/HA)']"
   ]
  },
  {
   "cell_type": "code",
   "execution_count": 172,
   "metadata": {},
   "outputs": [
    {
     "data": {
      "text/html": [
       "<div>\n",
       "<style scoped>\n",
       "    .dataframe tbody tr th:only-of-type {\n",
       "        vertical-align: middle;\n",
       "    }\n",
       "\n",
       "    .dataframe tbody tr th {\n",
       "        vertical-align: top;\n",
       "    }\n",
       "\n",
       "    .dataframe thead th {\n",
       "        text-align: right;\n",
       "    }\n",
       "</style>\n",
       "<table border=\"1\" class=\"dataframe\">\n",
       "  <thead>\n",
       "    <tr style=\"text-align: right;\">\n",
       "      <th></th>\n",
       "      <th>CODIGO DANE DEPARTAMENTO</th>\n",
       "      <th>DEPARTAMENTO</th>\n",
       "      <th>CODIGO DANE MUNICIPIO</th>\n",
       "      <th>MUNICIPIO</th>\n",
       "      <th>GRUPO CULTIVO</th>\n",
       "      <th>SUBGRUPO</th>\n",
       "      <th>CULTIVO</th>\n",
       "      <th>DESAGREGACION CULTIVO</th>\n",
       "      <th>AÑO</th>\n",
       "      <th>PERIODO</th>\n",
       "      <th>AREA SEMBRADA (HA)</th>\n",
       "      <th>AREA COSECHADA(HA)</th>\n",
       "      <th>PRODUCCION(T)</th>\n",
       "      <th>RENDIMIENTO(T/HA)</th>\n",
       "      <th>CICLO DEL CULTIVO</th>\n",
       "      <th>REND</th>\n",
       "      <th>cumple</th>\n",
       "      <th>dif</th>\n",
       "    </tr>\n",
       "  </thead>\n",
       "  <tbody>\n",
       "    <tr>\n",
       "      <th>18</th>\n",
       "      <td>13</td>\n",
       "      <td>BOLÍVAR</td>\n",
       "      <td>13006</td>\n",
       "      <td>ACHÍ</td>\n",
       "      <td>CEREALES</td>\n",
       "      <td>ARROZ</td>\n",
       "      <td>ARROZ</td>\n",
       "      <td>ARROZ RIEGO</td>\n",
       "      <td>2016</td>\n",
       "      <td>2016B</td>\n",
       "      <td>387.0</td>\n",
       "      <td>387.0</td>\n",
       "      <td>1503.0</td>\n",
       "      <td>3.89</td>\n",
       "      <td>TRANSITORIO</td>\n",
       "      <td>3.88</td>\n",
       "      <td>no</td>\n",
       "      <td>-0.01</td>\n",
       "    </tr>\n",
       "    <tr>\n",
       "      <th>79</th>\n",
       "      <td>13</td>\n",
       "      <td>BOLÍVAR</td>\n",
       "      <td>13006</td>\n",
       "      <td>ACHÍ</td>\n",
       "      <td>OTROS PERMANENTES</td>\n",
       "      <td>CACAO</td>\n",
       "      <td>CACAO</td>\n",
       "      <td>CACAO</td>\n",
       "      <td>2016</td>\n",
       "      <td>2016</td>\n",
       "      <td>35.0</td>\n",
       "      <td>35.0</td>\n",
       "      <td>18.0</td>\n",
       "      <td>0.50</td>\n",
       "      <td>PERMANENTE</td>\n",
       "      <td>0.51</td>\n",
       "      <td>no</td>\n",
       "      <td>0.01</td>\n",
       "    </tr>\n",
       "    <tr>\n",
       "      <th>111</th>\n",
       "      <td>13</td>\n",
       "      <td>BOLÍVAR</td>\n",
       "      <td>13006</td>\n",
       "      <td>ACHÍ</td>\n",
       "      <td>FRUTALES</td>\n",
       "      <td>GUAYABA</td>\n",
       "      <td>GUAYABA</td>\n",
       "      <td>GUAYABA</td>\n",
       "      <td>2013</td>\n",
       "      <td>2013</td>\n",
       "      <td>13.0</td>\n",
       "      <td>13.0</td>\n",
       "      <td>72.0</td>\n",
       "      <td>5.50</td>\n",
       "      <td>PERMANENTE</td>\n",
       "      <td>5.54</td>\n",
       "      <td>no</td>\n",
       "      <td>0.04</td>\n",
       "    </tr>\n",
       "    <tr>\n",
       "      <th>112</th>\n",
       "      <td>13</td>\n",
       "      <td>BOLÍVAR</td>\n",
       "      <td>13006</td>\n",
       "      <td>ACHÍ</td>\n",
       "      <td>FRUTALES</td>\n",
       "      <td>GUAYABA</td>\n",
       "      <td>GUAYABA</td>\n",
       "      <td>GUAYABA</td>\n",
       "      <td>2014</td>\n",
       "      <td>2014</td>\n",
       "      <td>13.0</td>\n",
       "      <td>13.0</td>\n",
       "      <td>72.0</td>\n",
       "      <td>5.50</td>\n",
       "      <td>PERMANENTE</td>\n",
       "      <td>5.54</td>\n",
       "      <td>no</td>\n",
       "      <td>0.04</td>\n",
       "    </tr>\n",
       "    <tr>\n",
       "      <th>213</th>\n",
       "      <td>13</td>\n",
       "      <td>BOLÍVAR</td>\n",
       "      <td>13030</td>\n",
       "      <td>ALTOS DEL ROSARIO</td>\n",
       "      <td>CEREALES</td>\n",
       "      <td>ARROZ</td>\n",
       "      <td>ARROZ</td>\n",
       "      <td>ARROZ SECANO MANUAL</td>\n",
       "      <td>2014</td>\n",
       "      <td>2014B</td>\n",
       "      <td>60.0</td>\n",
       "      <td>55.0</td>\n",
       "      <td>83.0</td>\n",
       "      <td>1.50</td>\n",
       "      <td>TRANSITORIO</td>\n",
       "      <td>1.51</td>\n",
       "      <td>no</td>\n",
       "      <td>0.01</td>\n",
       "    </tr>\n",
       "  </tbody>\n",
       "</table>\n",
       "</div>"
      ],
      "text/plain": [
       "    CODIGO DANE DEPARTAMENTO DEPARTAMENTO CODIGO DANE MUNICIPIO  \\\n",
       "18                        13      BOLÍVAR                 13006   \n",
       "79                        13      BOLÍVAR                 13006   \n",
       "111                       13      BOLÍVAR                 13006   \n",
       "112                       13      BOLÍVAR                 13006   \n",
       "213                       13      BOLÍVAR                 13030   \n",
       "\n",
       "             MUNICIPIO      GRUPO CULTIVO SUBGRUPO  CULTIVO  \\\n",
       "18                ACHÍ           CEREALES    ARROZ    ARROZ   \n",
       "79                ACHÍ  OTROS PERMANENTES    CACAO    CACAO   \n",
       "111               ACHÍ           FRUTALES  GUAYABA  GUAYABA   \n",
       "112               ACHÍ           FRUTALES  GUAYABA  GUAYABA   \n",
       "213  ALTOS DEL ROSARIO           CEREALES    ARROZ    ARROZ   \n",
       "\n",
       "    DESAGREGACION CULTIVO   AÑO PERIODO  AREA SEMBRADA (HA)  \\\n",
       "18            ARROZ RIEGO  2016   2016B               387.0   \n",
       "79                  CACAO  2016    2016                35.0   \n",
       "111               GUAYABA  2013    2013                13.0   \n",
       "112               GUAYABA  2014    2014                13.0   \n",
       "213   ARROZ SECANO MANUAL  2014   2014B                60.0   \n",
       "\n",
       "     AREA COSECHADA(HA)  PRODUCCION(T)  RENDIMIENTO(T/HA) CICLO DEL CULTIVO  \\\n",
       "18                387.0         1503.0               3.89       TRANSITORIO   \n",
       "79                 35.0           18.0               0.50        PERMANENTE   \n",
       "111                13.0           72.0               5.50        PERMANENTE   \n",
       "112                13.0           72.0               5.50        PERMANENTE   \n",
       "213                55.0           83.0               1.50       TRANSITORIO   \n",
       "\n",
       "     REND cumple   dif  \n",
       "18   3.88     no -0.01  \n",
       "79   0.51     no  0.01  \n",
       "111  5.54     no  0.04  \n",
       "112  5.54     no  0.04  \n",
       "213  1.51     no  0.01  "
      ]
     },
     "execution_count": 172,
     "metadata": {},
     "output_type": "execute_result"
    }
   ],
   "source": [
    "df2.head()"
   ]
  },
  {
   "cell_type": "code",
   "execution_count": 173,
   "metadata": {},
   "outputs": [
    {
     "data": {
      "text/plain": [
       "50"
      ]
     },
     "execution_count": 173,
     "metadata": {},
     "output_type": "execute_result"
    }
   ],
   "source": [
    "# Número de registros que tienen una diferencia superior a 1\n",
    "df2[abs(df2['dif'])>1].shape[0]"
   ]
  },
  {
   "cell_type": "markdown",
   "metadata": {},
   "source": [
    "# Extraer el nombre de los archivos de una carpeta \n",
    "## zip"
   ]
  },
  {
   "cell_type": "markdown",
   "metadata": {},
   "source": [
    "```python\n",
    "import zipfile\n",
    "\n",
    "# Ruta al archivo ZIP\n",
    "ruta_zip = r'C:\\Users\\EMMY\\Desktop\\Proyecto\\DB Original\\Subregiones_-_Provincias_de_Colombia.zip'\n",
    "\n",
    "# Abrir el archivo ZIP y listar los nombres\n",
    "with zipfile.ZipFile(ruta_zip, 'r') as archivo_zip:\n",
    "    nombres_archivos = archivo_zip.namelist()\n",
    "\n",
    "# Imprimir los nombres de los archivos\n",
    "for nombre in nombres_archivos:\n",
    "    print(nombre)\n"
   ]
  },
  {
   "cell_type": "markdown",
   "metadata": {},
   "source": [
    "## Carpeta normal"
   ]
  },
  {
   "cell_type": "code",
   "execution_count": 174,
   "metadata": {},
   "outputs": [
    {
     "name": "stdout",
     "output_type": "stream",
     "text": [
      "Evaluaciones_Agropecuarias_Municipales_EVA_2006-2018.csv\n",
      "Evaluaciones_Agropecuarias_Municipales___EVA._2019_-_2023._Base_Agr_cola_20240930 copy.csv\n",
      "mapa.cpg\n",
      "mapa.dbf\n",
      "mapa.prj\n",
      "mapa.shp\n",
      "mapa.shx\n",
      "mapas.ipynb\n",
      "subregiones.pdf\n",
      "Subregiones_-_Provincias_de_Colombia.csv\n",
      "Subregiones_-_Provincias_de_Colombia.geojson\n"
     ]
    }
   ],
   "source": [
    "import os\n",
    "\n",
    "# Ruta a la carpeta\n",
    "ruta_carpeta = r'C:\\Users\\EMMY\\Desktop\\Proyecto\\DB Original'\n",
    "\n",
    "# Listar solo archivos (excluyendo carpetas)\n",
    "archivos = [archivo for archivo in os.listdir(ruta_carpeta) if os.path.isfile(os.path.join(ruta_carpeta, archivo))]\n",
    "\n",
    "# Imprimir los nombres de los archivos\n",
    "for archivo in archivos:\n",
    "    print(archivo)\n"
   ]
  },
  {
   "cell_type": "markdown",
   "metadata": {},
   "source": [
    "### Transformar .shp a .json"
   ]
  },
  {
   "cell_type": "markdown",
   "metadata": {},
   "source": [
    "```python\n",
    "# Cargar el Shapefile\n",
    "shapefile = r'C:\\Users\\EMMY\\Desktop\\Proyecto\\DB Original\\Subregiones_-_Provincias_de_Colombia\\Subregiones_-_Provincias_de_Colombia.shp'\n",
    "data = gpd.read_file(shapefile)\n",
    "\n",
    "# Exportar a GeoJSON\n",
    "data.to_file(\"Subregiones_Colombia.json\", driver=\"GeoJSON\")"
   ]
  }
 ],
 "metadata": {
  "kernelspec": {
   "display_name": ".venv",
   "language": "python",
   "name": "python3"
  },
  "language_info": {
   "codemirror_mode": {
    "name": "ipython",
    "version": 3
   },
   "file_extension": ".py",
   "mimetype": "text/x-python",
   "name": "python",
   "nbconvert_exporter": "python",
   "pygments_lexer": "ipython3",
   "version": "3.13.0"
  }
 },
 "nbformat": 4,
 "nbformat_minor": 2
}
