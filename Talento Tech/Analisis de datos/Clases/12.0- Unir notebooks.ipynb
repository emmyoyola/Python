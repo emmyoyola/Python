{
 "cells": [
  {
   "cell_type": "markdown",
   "metadata": {},
   "source": [
    "# Unir Notebooks\n",
    "pip install nbmerge"
   ]
  },
  {
   "cell_type": "code",
   "execution_count": 1,
   "metadata": {},
   "outputs": [
    {
     "name": "stdout",
     "output_type": "stream",
     "text": [
      "1- Python basics.ipynb\n",
      "10- Normalización y Escalado de Datos.ipynb\n",
      "11- Exploratory Data Analysis EDA.ipynb\n",
      "12- Ejercicios.ipynb\n",
      "12.0- Unir notebooks.ipynb\n",
      "2- Análisis de Medidas Estadísticas.ipynb\n",
      "3- Análisis Gráfico.ipynb\n",
      "4- Data Cleaning and Preparation.ipynb\n",
      "5- Categorical Data.ipynb\n",
      "6- Plotting and visualization.ipynb\n",
      "7- Plotting and visualization 2.ipynb\n",
      "8- Read Files.ipynb\n",
      "9- Aplanar df.ipynb\n",
      "EDA Formato.ipynb\n",
      "Exploración copia.ipynb\n",
      "probando_entorno.py\n",
      "unir_notebooks.py\n",
      "Vizualizacion.ipynb\n"
     ]
    }
   ],
   "source": [
    "# Obtener archivos de la carpeta\n",
    "import os\n",
    "\n",
    "# Ruta de la carpeta\n",
    "folder_path = r'C:\\Users\\EMMY\\Desktop\\Talento Tech\\Analisis de datos\\Clases\\Clases'\n",
    "\n",
    "# Obtener todos los nombres de archivos en la carpeta\n",
    "for f in os.listdir(folder_path):\n",
    "    if os.path.isfile(os.path.join(folder_path, f)):\n",
    "        print(f)"
   ]
  },
  {
   "cell_type": "code",
   "execution_count": 2,
   "metadata": {},
   "outputs": [
    {
     "name": "stdout",
     "output_type": "stream",
     "text": [
      "'1- Python basics.ipynb' '10- Normalización y Escalado de Datos.ipynb' '11- Exploratory Data Analysis EDA.ipynb' '12- Ejercicios.ipynb' '12.0- Unir notebooks.ipynb' '2- Análisis de Medidas Estadísticas.ipynb' '3- Análisis Gráfico.ipynb' '4- Data Cleaning and Preparation.ipynb' '5- Categorical Data.ipynb' '6- Plotting and visualization.ipynb' '7- Plotting and visualization 2.ipynb' '8- Read Files.ipynb' '9- Aplanar df.ipynb' 'EDA Formato.ipynb' 'Exploración copia.ipynb' 'probando_entorno.py' 'unir_notebooks.py' 'Vizualizacion.ipynb'\n"
     ]
    }
   ],
   "source": [
    "# Obtener todos los nombres de archivos en la carpeta\n",
    "files = [f for f in os.listdir(folder_path) if os.path.isfile(os.path.join(folder_path, f))]\n",
    "\n",
    "# Mostrar los nombres de los archivos rodeados por comillas simples\n",
    "print(*[f\"'{file}'\" for file in files])"
   ]
  },
  {
   "cell_type": "markdown",
   "metadata": {},
   "source": [
    "**Ordenar los archivos** <br>\n",
    "'1- Python basics.ipynb' '2- Análisis de Medidas Estadísticas.ipynb' '3- Análisis Gráfico.ipynb' '4- Data Cleaning and Preparation.ipynb' '5- Categorical Data.ipynb' '6- Plotting and visualization.ipynb' '7- Plotting and visualization 2.ipynb' '8- Read Files.ipynb' '9- Aplanar df.ipynb' '10- Normalización y Escalado de Datos.ipynb' '11- Exploratory Data Analysis EDA.ipynb' '12.0- Unir notebooks.ipynb' '12- Ejercicios.ipynb'\n",
    "\n",
    "**Cambiar de ruta en la terminal**<br>\n",
    "cd `\"C:\\Users\\EMMY\\Desktop\\Talento Tech\\Analisis de datos\\Clases\\Clases\"`\n",
    "\n",
    "**En la terminal**<br>\n",
    "nbmerge '1- Python basics.ipynb' '2- Análisis de Medidas Estadísticas.ipynb' '3- Análisis Gráfico.ipynb' '4- Data Cleaning and Preparation.ipynb' '5- Categorical Data.ipynb' '6- Plotting and visualization.ipynb' '7- Plotting and visualization 2.ipynb' '8- Read Files.ipynb' '9- Aplanar df.ipynb' '10- Normalización y Escalado de Datos.ipynb' '11- Exploratory Data Analysis EDA.ipynb' '12.0- Unir notebooks.ipynb' '12- Ejercicios.ipynb' > notebook_combinado.ipynb\n",
    "\n",
    "**En un archivo.py**\n",
    "```python\n",
    "import subprocess\n",
    "\n",
    "# Definir el comando para unir los notebooks\n",
    "command = [\n",
    "    'nbmerge',\n",
    "    '1- Python basics.ipynb', '2- Análisis de Medidas Estadísticas.ipynb'\n",
    "]\n",
    "\n",
    "# Redirigir la salida a un archivo con codificación UTF-8\n",
    "with open('notebook_combinado.ipynb', 'w', encoding='utf-8') as output_file:\n",
    "    # Ejecutar el comando\n",
    "    subprocess.run(command, stdout=output_file, stderr=subprocess.PIPE, text=True)\n"
   ]
  }
 ],
 "metadata": {
  "kernelspec": {
   "display_name": "venv",
   "language": "python",
   "name": "python3"
  },
  "language_info": {
   "codemirror_mode": {
    "name": "ipython",
    "version": 3
   },
   "file_extension": ".py",
   "mimetype": "text/x-python",
   "name": "python",
   "nbconvert_exporter": "python",
   "pygments_lexer": "ipython3",
   "version": "3.13.0"
  }
 },
 "nbformat": 4,
 "nbformat_minor": 2
}
