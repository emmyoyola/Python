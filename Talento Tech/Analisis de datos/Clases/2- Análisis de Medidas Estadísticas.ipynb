{
 "cells": [
  {
   "cell_type": "markdown",
   "metadata": {},
   "source": [
    "https://colab.research.google.com/drive/109RHzqMF2zmI3mFMiXsHFU1Z-Bme7Gtw?usp=sharing"
   ]
  },
  {
   "cell_type": "markdown",
   "metadata": {
    "id": "xVHVZUb_y8nn"
   },
   "source": [
    "# Análisis de Medidas Estadísticas con Python\n",
    "\n",
    "**Introducción**\n",
    "\n",
    "Este documento describe las medidas estadísticas implementadas en Python, abordando las **medidas de tendencia central**, **medidas de dispersión**, **medidas de localización** y **medidas de forma**. Se utilizarán bibliotecas como `numpy`, `scipy` y `pandas`.\n",
    "\n",
    "---"
   ]
  },
  {
   "cell_type": "code",
   "execution_count": 33,
   "metadata": {},
   "outputs": [],
   "source": [
    "import numpy as np \n",
    "import pandas as pd \n",
    "import matplotlib.pyplot as plt\n",
    "import scipy\n",
    "from scipy import stats"
   ]
  },
  {
   "cell_type": "code",
   "execution_count": 34,
   "metadata": {},
   "outputs": [],
   "source": [
    "# Datos de ejemplo\n",
    "Edad = [2, 4, 6, 8, 10, 4]\n",
    "Genero = ['M', 'F', 'M', 'F', 'M', 'F']\n",
    "Peso = [45, 35, 86, 57, 59, 43]\n",
    "\n",
    "df = pd.DataFrame({'Edad': Edad, 'Genero': Genero, 'Peso': Peso})\n",
    "df.head()\n",
    "\n",
    "# Datos de ejemplo\n",
    "data = [2, 4, 6, 8, 10, 4]"
   ]
  },
  {
   "cell_type": "markdown",
   "metadata": {},
   "source": [
    "\n",
    "## Medidas de Tendencia Central\n",
    "### Media\n",
    "\n",
    "La **media** es el promedio aritmético de los datos.\n",
    "\n",
    "**Fórmula**:\n",
    "$$\n",
    "\\bar{x} = \\frac{1}{n} \\sum_{i=1}^{n} x_i\n",
    "$$\n",
    "\n",
    "**Ejemplo en Python**:"
   ]
  },
  {
   "cell_type": "code",
   "execution_count": 35,
   "metadata": {
    "colab": {
     "base_uri": "https://localhost:8080/"
    },
    "id": "DoK6eSCf4cAo",
    "outputId": "f9d0e01a-22bf-433f-b030-20895ddd8303"
   },
   "outputs": [
    {
     "name": "stdout",
     "output_type": "stream",
     "text": [
      "La promedio del conjunto de datos es: 5.666666666666667\n"
     ]
    }
   ],
   "source": [
    "# Calcular la media con numpy\n",
    "media = np.mean(data)\n",
    "\n",
    "print(f'La promedio del conjunto de datos es: {media}')"
   ]
  },
  {
   "cell_type": "code",
   "execution_count": 36,
   "metadata": {},
   "outputs": [
    {
     "data": {
      "text/plain": [
       "5.666666666666667"
      ]
     },
     "execution_count": 36,
     "metadata": {},
     "output_type": "execute_result"
    }
   ],
   "source": [
    "# Con pandas\n",
    "df['Edad'].mean()"
   ]
  },
  {
   "cell_type": "code",
   "execution_count": 37,
   "metadata": {},
   "outputs": [
    {
     "data": {
      "text/plain": [
       "5.666666666666667"
      ]
     },
     "execution_count": 37,
     "metadata": {},
     "output_type": "execute_result"
    }
   ],
   "source": [
    "# Con stats scipy\n",
    "stats.tmean(df['Edad'])"
   ]
  },
  {
   "cell_type": "markdown",
   "metadata": {
    "id": "ObdI76Dc5RXQ"
   },
   "source": [
    "### Mediana\n",
    "\n",
    "La **mediana** es el valor central en un conjunto de datos ordenados.\n",
    "\n",
    "**Fórmula**:\n",
    "\n",
    "Si \\(n\\) es impar, la mediana es el valor medio. Si \\(n\\) es par, es el promedio de los dos valores centrales.\n",
    "\n",
    "**Ejemplo en Python**:"
   ]
  },
  {
   "cell_type": "code",
   "execution_count": 38,
   "metadata": {
    "colab": {
     "base_uri": "https://localhost:8080/"
    },
    "id": "qB-gkLvv5fmI",
    "outputId": "cc9e7793-db97-497e-e329-7677be603be9"
   },
   "outputs": [
    {
     "name": "stdout",
     "output_type": "stream",
     "text": [
      "La mediana del conjunto de datos es: 5.0\n"
     ]
    }
   ],
   "source": [
    "# Calcular la mediana con numpy\n",
    "mediana = np.median(data)\n",
    "\n",
    "print(f'La mediana del conjunto de datos es: {mediana}')\n"
   ]
  },
  {
   "cell_type": "code",
   "execution_count": 39,
   "metadata": {},
   "outputs": [
    {
     "data": {
      "text/plain": [
       "5.0"
      ]
     },
     "execution_count": 39,
     "metadata": {},
     "output_type": "execute_result"
    }
   ],
   "source": [
    "# Con pandas\n",
    "df['Edad'].median()"
   ]
  },
  {
   "cell_type": "code",
   "execution_count": 40,
   "metadata": {},
   "outputs": [
    {
     "data": {
      "text/plain": [
       "5.0"
      ]
     },
     "execution_count": 40,
     "metadata": {},
     "output_type": "execute_result"
    }
   ],
   "source": [
    "# Con stats scipy\n",
    "stats.scoreatpercentile(df['Edad'], 50)"
   ]
  },
  {
   "cell_type": "markdown",
   "metadata": {
    "id": "c0py5iCl5vII"
   },
   "source": [
    "### Moda\n",
    "La **moda** es el valor que aparece con mayor frecuencia en un conjunto de datos.\n",
    "\n",
    "**Ejemplo en Python**:\n"
   ]
  },
  {
   "cell_type": "code",
   "execution_count": 41,
   "metadata": {},
   "outputs": [
    {
     "data": {
      "text/plain": [
       "0    4\n",
       "Name: Edad, dtype: int64"
      ]
     },
     "execution_count": 41,
     "metadata": {},
     "output_type": "execute_result"
    }
   ],
   "source": [
    "# Con pandas\n",
    "df['Edad'].mode()"
   ]
  },
  {
   "cell_type": "code",
   "execution_count": 42,
   "metadata": {
    "colab": {
     "base_uri": "https://localhost:8080/"
    },
    "id": "owh2SBZO5zFh",
    "outputId": "b8b0be1a-b6c3-4718-a7b8-5ead46c677bf"
   },
   "outputs": [
    {
     "name": "stdout",
     "output_type": "stream",
     "text": [
      "Moda: 4\n"
     ]
    }
   ],
   "source": [
    "moda = stats.mode(data)\n",
    "print(f'Moda: {moda.mode}')"
   ]
  },
  {
   "cell_type": "code",
   "execution_count": 43,
   "metadata": {},
   "outputs": [
    {
     "data": {
      "text/plain": [
       "<function ndarray.argmax>"
      ]
     },
     "execution_count": 43,
     "metadata": {},
     "output_type": "execute_result"
    }
   ],
   "source": [
    "# Con numpy (Sólo funciona con int)\n",
    "np.bincount(df['Edad']).argmax"
   ]
  },
  {
   "cell_type": "markdown",
   "metadata": {
    "id": "Fx-1kmcm65M_"
   },
   "source": [
    "## Medidas de Dispersión\n",
    "\n",
    "### Varianza\n",
    "La **varianza** mide la dispersión de los datos respecto a la media.\n",
    "\n",
    "**Fórmula**:\n",
    "\n",
    "$$\n",
    "\\sigma^2 = \\frac{1}{n} \\sum_{i=1}^{n} (x_i - \\mu)^2\n",
    "$$\n",
    "\n",
    "$$\n",
    "s^2 = \\frac{1}{n - 1} \\sum_{i=1}^{n} (x_i - \\bar{x})^2\n",
    "$$\n",
    "\n",
    "**Ejemplo en Python**:"
   ]
  },
  {
   "cell_type": "code",
   "execution_count": 44,
   "metadata": {
    "colab": {
     "base_uri": "https://localhost:8080/"
    },
    "id": "nK-9SU1c9DwV",
    "outputId": "1f97c0dc-7b0d-4122-df42-fd85d2da6266"
   },
   "outputs": [
    {
     "name": "stdout",
     "output_type": "stream",
     "text": [
      "Varianza: 7.222222222222222\n"
     ]
    }
   ],
   "source": [
    "# Con numpy (Varianza poblacional (divisor 𝑁))\n",
    "varianza = np.var(data)\n",
    "print(f'Varianza: {varianza}')\n"
   ]
  },
  {
   "cell_type": "code",
   "execution_count": 45,
   "metadata": {},
   "outputs": [
    {
     "data": {
      "text/plain": [
       "8.666666666666668"
      ]
     },
     "execution_count": 45,
     "metadata": {},
     "output_type": "execute_result"
    }
   ],
   "source": [
    "# Con munpy ((Varianza muestral(Divisor N-1)))\n",
    "np.var(df['Edad'], ddof=1)"
   ]
  },
  {
   "cell_type": "code",
   "execution_count": 46,
   "metadata": {},
   "outputs": [
    {
     "data": {
      "text/plain": [
       "8.666666666666668"
      ]
     },
     "execution_count": 46,
     "metadata": {},
     "output_type": "execute_result"
    }
   ],
   "source": [
    "# Con pandas (Varianza muestral(Divisor N-1))\n",
    "df['Edad'].var()"
   ]
  },
  {
   "cell_type": "markdown",
   "metadata": {
    "id": "uT-xPPNT9KT7"
   },
   "source": [
    "### Desviación Estándar\n",
    "La **desviación estándar** es la raíz cuadrada de la varianza.\n",
    "\n",
    "**Fórmula**:\n",
    "\n",
    "$$\n",
    "\\sigma = \\sqrt{\\frac{1}{n} \\sum_{i=1}^{n} (x_i - \\mu)^2}\n",
    "$$\n",
    "\n",
    "**Ejemplo en Python**:\n"
   ]
  },
  {
   "cell_type": "code",
   "execution_count": 47,
   "metadata": {
    "colab": {
     "base_uri": "https://localhost:8080/"
    },
    "id": "lfVyoAvg9PNa",
    "outputId": "7a4750c8-69d9-45e3-e629-15ce7f6ccd09"
   },
   "outputs": [
    {
     "name": "stdout",
     "output_type": "stream",
     "text": [
      "Desviación Estándar: 2.6874192494328497\n"
     ]
    }
   ],
   "source": [
    "# Con numpy (std poblacional (divisor 𝑁))\n",
    "sd = np.std(data)\n",
    "print(f'Desviación Estándar: {sd}')\n"
   ]
  },
  {
   "cell_type": "code",
   "execution_count": 48,
   "metadata": {},
   "outputs": [
    {
     "data": {
      "text/plain": [
       "2.9439202887759492"
      ]
     },
     "execution_count": 48,
     "metadata": {},
     "output_type": "execute_result"
    }
   ],
   "source": [
    "# Con munpy ((std muestral(Divisor N-1)))\n",
    "np.std(df['Edad'], ddof=1)"
   ]
  },
  {
   "cell_type": "code",
   "execution_count": 49,
   "metadata": {},
   "outputs": [
    {
     "data": {
      "text/plain": [
       "2.9439202887759492"
      ]
     },
     "execution_count": 49,
     "metadata": {},
     "output_type": "execute_result"
    }
   ],
   "source": [
    "# Con pandas (std muestral(Divisor N-1))\n",
    "df['Edad'].std()"
   ]
  },
  {
   "cell_type": "markdown",
   "metadata": {
    "id": "x6nSyHT79X-D"
   },
   "source": [
    "### Rango\n",
    "El **rango** es la diferencia entre el valor máximo y el mínimo.\n",
    "\n",
    "**Fórmula**:\n",
    "\n",
    "$$\n",
    "Rango = x_{\\text{max}} - x_{\\text{min}}\n",
    "$$\n",
    "\n",
    "**Ejemplo en Python**:\n"
   ]
  },
  {
   "cell_type": "code",
   "execution_count": 50,
   "metadata": {
    "colab": {
     "base_uri": "https://localhost:8080/"
    },
    "id": "1p026IlU9fvw",
    "outputId": "ccf2dadb-15f6-4f4b-d5bb-24278ddd2408"
   },
   "outputs": [
    {
     "name": "stdout",
     "output_type": "stream",
     "text": [
      "Rango: 8\n"
     ]
    }
   ],
   "source": [
    "# Calcular el rango\n",
    "rango = np.ptp(data)\n",
    "print(f'Rango: {rango}')\n"
   ]
  },
  {
   "cell_type": "markdown",
   "metadata": {
    "id": "5jc6_o359h35"
   },
   "source": [
    "## Medidas de Localización\n",
    "\n",
    "### Percentiles\n",
    "Los **percentiles** dividen los datos en 100 partes iguales.\n",
    "\n",
    "**Fórmula**:\n",
    "El percentil \\(P_k\\) es el valor debajo del cual cae el \\(k\\)% de los datos.\n",
    "\n",
    "**Ejemplo en Python**:\n"
   ]
  },
  {
   "cell_type": "code",
   "execution_count": 51,
   "metadata": {
    "colab": {
     "base_uri": "https://localhost:8080/"
    },
    "id": "59534YF79pEB",
    "outputId": "b6233725-7ddd-4245-d773-ca29536b022a"
   },
   "outputs": [
    {
     "name": "stdout",
     "output_type": "stream",
     "text": [
      "Percentil 25: 4.0, Percentil 50: 5.0, Percentil 75: 7.5,  Percentil 90: 9.0\n"
     ]
    }
   ],
   "source": [
    "# Calcular el percentil 25, 50 y 75 con numpy\n",
    "percentil_25 = np.percentile(data, 25)\n",
    "percentil_50 = np.percentile(data, 50)\n",
    "percentil_75 = np.percentile(data, 75)\n",
    "percentil_90 = np.percentile(data, 90)\n",
    "print(f'Percentil 25: {percentil_25}, Percentil 50: {percentil_50}, Percentil 75: {percentil_75},  Percentil 90: {percentil_90}')\n"
   ]
  },
  {
   "cell_type": "code",
   "execution_count": 52,
   "metadata": {},
   "outputs": [
    {
     "data": {
      "text/plain": [
       "5.0"
      ]
     },
     "execution_count": 52,
     "metadata": {},
     "output_type": "execute_result"
    }
   ],
   "source": [
    "# Con pandas\n",
    "df['Edad'].quantile(0.5)"
   ]
  },
  {
   "cell_type": "markdown",
   "metadata": {
    "id": "z2OUgh1R-VG4"
   },
   "source": [
    "### Cuartiles\n",
    "Los **cuartiles** dividen los datos en cuatro partes iguales.\n",
    "\n",
    "**Ejemplo en Python**:"
   ]
  },
  {
   "cell_type": "code",
   "execution_count": 53,
   "metadata": {
    "colab": {
     "base_uri": "https://localhost:8080/"
    },
    "id": "EXeCv1xW-mFw",
    "outputId": "098488e7-2ea1-4992-c4c2-f2fe04b18e15"
   },
   "outputs": [
    {
     "name": "stdout",
     "output_type": "stream",
     "text": [
      "Cuartiles: [4.  5.  7.5]\n"
     ]
    }
   ],
   "source": [
    "# Calcular los cuartiles con numpy\n",
    "cuartiles = np.percentile(data, [25, 50, 75])\n",
    "print(f'Cuartiles: {cuartiles}')"
   ]
  },
  {
   "cell_type": "code",
   "execution_count": 54,
   "metadata": {},
   "outputs": [
    {
     "data": {
      "text/plain": [
       "0.25    4.0\n",
       "0.50    5.0\n",
       "0.75    7.5\n",
       "Name: Edad, dtype: float64"
      ]
     },
     "execution_count": 54,
     "metadata": {},
     "output_type": "execute_result"
    }
   ],
   "source": [
    "# Con pandas\n",
    "df['Edad'].quantile([0.25, 0.5, 0.75])"
   ]
  },
  {
   "cell_type": "markdown",
   "metadata": {
    "id": "SOWdvO-x-x-2"
   },
   "source": [
    "## Medidas de Forma\n",
    "\n",
    "### Asimetría\n",
    "La **asimetría** mide la falta de simetría en los datos.\n",
    "\n",
    "**Fórmula**:\n",
    "\n",
    "$$\n",
    "Asimetría = \\frac{1}{n} \\sum_{i=1}^{n} \\left( \\frac{x_i - \\mu}{\\sigma} \\right)^3\n",
    "$$\n",
    "\n",
    "**Ejemplo en Python**:"
   ]
  },
  {
   "cell_type": "code",
   "execution_count": 55,
   "metadata": {
    "colab": {
     "base_uri": "https://localhost:8080/"
    },
    "id": "aWOnLaOr-31a",
    "outputId": "f3261798-b78e-4741-9a84-d1a8b0d09a24"
   },
   "outputs": [
    {
     "name": "stdout",
     "output_type": "stream",
     "text": [
      "Asimetría: 0.30531626975805126\n"
     ]
    }
   ],
   "source": [
    "# Calcular la asimetría\n",
    "asimetria = stats.skew(data)\n",
    "print(f'Asimetría: {asimetria}')"
   ]
  },
  {
   "cell_type": "markdown",
   "metadata": {
    "id": "hx2wqElmBCvR"
   },
   "source": [
    "### Curtosis\n",
    "La **curtosis** mide la concentración de los datos en torno a la media.\n",
    "\n",
    "**Fórmula**:\n",
    "\n",
    "$$\n",
    "Curtosis = \\frac{1}{n} \\sum_{i=1}^{n} \\left( \\frac{x_i - \\mu}{\\sigma} \\right)^4 - 3\n",
    "$$\n",
    "\n",
    "**Ejemplo en Python**:"
   ]
  },
  {
   "cell_type": "code",
   "execution_count": 56,
   "metadata": {
    "colab": {
     "base_uri": "https://localhost:8080/"
    },
    "id": "b3kijh_C_IMv",
    "outputId": "5f6453d9-4bc5-4576-82b5-b095c45e0299"
   },
   "outputs": [
    {
     "name": "stdout",
     "output_type": "stream",
     "text": [
      "Curtosis: -1.151715976331361\n",
      "La media de la edad es 5.666666666666667 cm y la mediana es 5.0 cm.\n"
     ]
    }
   ],
   "source": [
    "# Calcular la curtosis\n",
    "k = stats.kurtosis(data)\n",
    "print(f'Curtosis: {k}')\n",
    "\n",
    "print(\"La media de la edad es\", media, \"cm y la mediana es\",mediana,\"cm.\" )"
   ]
  },
  {
   "cell_type": "markdown",
   "metadata": {},
   "source": [
    "## Rango intercuartílico\n",
    "Es una medida de dispersión que indica la amplitud del rango central de una distribución de datos. Representa la diferencia entre el tercer cuartil (Q3) y el primer cuartil (Q1), abarcando el 50% central de los datos.\n",
    "\n",
    "$$IQR = Q3 - Q1$$\n",
    "\n",
    "### Uso del IQR para detectar valores atípicos\n",
    "Los valores que se encuentran a más de 1.5 veces el IQR por debajo de Q1 o por encima de Q3 suelen considerarse valores atípicos (outliers):\n",
    "\n",
    "$$Límite inferior=Q3-1.5×IQR$$\n",
    "$$Límite superior=Q3+1.5×IQR$$\n",
    "\n",
    "Cualquier valor fuera de estos límites podría considerarse un valor atípico y puede analizarse para determinar su impacto en los resultados."
   ]
  }
 ],
 "metadata": {
  "colab": {
   "provenance": []
  },
  "kernelspec": {
   "display_name": "venv",
   "language": "python",
   "name": "python3"
  },
  "language_info": {
   "codemirror_mode": {
    "name": "ipython",
    "version": 3
   },
   "file_extension": ".py",
   "mimetype": "text/x-python",
   "name": "python",
   "nbconvert_exporter": "python",
   "pygments_lexer": "ipython3",
   "version": "3.13.0"
  }
 },
 "nbformat": 4,
 "nbformat_minor": 0
}
