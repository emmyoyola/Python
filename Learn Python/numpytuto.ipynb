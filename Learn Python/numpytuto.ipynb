{
 "cells": [
  {
   "cell_type": "code",
   "execution_count": 13,
   "metadata": {},
   "outputs": [],
   "source": [
    "import numpy as np"
   ]
  },
  {
   "cell_type": "code",
   "execution_count": 14,
   "metadata": {},
   "outputs": [
    {
     "name": "stdout",
     "output_type": "stream",
     "text": [
      "int32\n",
      "[12.  3.  4.  5.]\n",
      "float64\n",
      "[60.0, 15.0, 20.0, 25.0]\n"
     ]
    }
   ],
   "source": [
    "a = np.array([1,2,3,4])\n",
    "a[::2]\n",
    "a[:2]\n",
    "print(a.dtype)\n",
    "a = np.array([12,3,4,5], dtype = float)\n",
    "print(a)\n",
    "print(a.dtype)\n",
    "print([i * 5 for i in a])"
   ]
  },
  {
   "cell_type": "code",
   "execution_count": 9,
   "metadata": {},
   "outputs": [
    {
     "name": "stdout",
     "output_type": "stream",
     "text": [
      "(3, 2, 4)\n",
      "3\n",
      "24\n",
      "5\n",
      "2\n",
      "[[[1 2 3 4]\n",
      "  [1 2 5 6]]\n",
      "\n",
      " [[3 4 6 7]\n",
      "  [1 3 6 7]]]\n",
      "[[1 2 3 4]\n",
      " [3 4 6 7]\n",
      " [1 2 3 4]]\n",
      "Here\n",
      "[[10 14]\n",
      " [20 17]\n",
      " [10 13]]\n"
     ]
    }
   ],
   "source": [
    "b = np.array([\n",
    "    [[1,2,3,4],\n",
    "     [1,2,5,6]],\n",
    "    \n",
    "    [[3,4,6,7],\n",
    "     [1,3,6,7]],\n",
    "    \n",
    "    [[1,2,3,4],\n",
    "     [1,3,4,5]]\n",
    "    ])\n",
    "print(b.shape)\n",
    "print(b.ndim)\n",
    "print(b.size)\n",
    "print(b[2][1][3])   #dim:2, fil:1, col:3\n",
    "print(b[0, 1, 1])   #dim:0, fil:1, col:1\n",
    "print(b[0:2])       #dim:0 y 1\n",
    "print(b[:,0,:])     # de todas las dimensiones traer la fila 0 con todas sis columnas\n",
    "print(\"Here\")\n",
    "print(b.sum(axis=2))"
   ]
  },
  {
   "cell_type": "code",
   "execution_count": 10,
   "metadata": {},
   "outputs": [
    {
     "name": "stdout",
     "output_type": "stream",
     "text": [
      "52\n",
      "4.333333333333333\n",
      "2.3570226039551585\n",
      "5.555555555555556\n",
      "[ 9 13 16 14]\n"
     ]
    }
   ],
   "source": [
    "c = np.array([\n",
    "    [1,2,3,4],\n",
    "    [2,3,4,6],\n",
    "    [6,8,9,4]\n",
    "    ])\n",
    "\n",
    "print(c.sum())\n",
    "print(c.mean())\n",
    "print(c.std())\n",
    "print(c.var())\n",
    "print(c.sum(axis=0))"
   ]
  },
  {
   "cell_type": "code",
   "execution_count": 11,
   "metadata": {},
   "outputs": [
    {
     "name": "stdout",
     "output_type": "stream",
     "text": [
      "[0 1 2 3]\n",
      "[10 11 12 13]\n",
      "[0 2 4 6]\n",
      "[10 11 12 13]\n"
     ]
    }
   ],
   "source": [
    "d = np.arange(4)\n",
    "print(d)\n",
    "print(d + 10)\n",
    "print(d * 2)\n",
    "d += 10\n",
    "print(d)"
   ]
  },
  {
   "cell_type": "code",
   "execution_count": 15,
   "metadata": {},
   "outputs": [
    {
     "name": "stdout",
     "output_type": "stream",
     "text": [
      "[ 3 48  8 80]\n"
     ]
    }
   ],
   "source": [
    "e = np.array([1,45,4,75])\n",
    "f = np.arange(2,6)\n",
    "print(e+f)"
   ]
  },
  {
   "cell_type": "code",
   "execution_count": 25,
   "metadata": {},
   "outputs": [
    {
     "name": "stdout",
     "output_type": "stream",
     "text": [
      "[0 1 2 3]\n",
      "0 3\n",
      "[0 3]\n",
      "[0 3]\n",
      "[False False  True  True]\n",
      "[2 3]\n",
      "[2 3]\n",
      "[0 1]\n",
      "[0 3]\n",
      "[0 2]\n"
     ]
    }
   ],
   "source": [
    "g = np.arange(4)\n",
    "print(g)\n",
    "print(g[0], g[-1])\n",
    "print(g[[0,-1]])\n",
    "print(g[[True,False,False,True]])\n",
    "print(g >=2)\n",
    "print(g[g >=2])\n",
    "print(g[g > g.mean()])\n",
    "print(g[~(g > g.mean())])\n",
    "print(g[(g == 0) | ( g == 3)])\n",
    "print(g[(g <= 2) & ( g % 2 == 0)])\n"
   ]
  },
  {
   "cell_type": "code",
   "execution_count": 32,
   "metadata": {},
   "outputs": [
    {
     "name": "stdout",
     "output_type": "stream",
     "text": [
      "[[21 43 72]\n",
      " [43 91 82]\n",
      " [39 94 40]]\n",
      "[21 72 91 82 39 94]\n",
      "[[False  True  True]\n",
      " [ True  True  True]\n",
      " [ True  True  True]]\n"
     ]
    }
   ],
   "source": [
    "h = np.random.randint(100, size=(3,3))\n",
    "print(h)\n",
    "print(h[np.array([\n",
    "    [True, False, True],\n",
    "    [False, True, True],\n",
    "    [True, True, False]\n",
    "    ])])\n",
    "print(h > 30)\n"
   ]
  },
  {
   "cell_type": "code",
   "execution_count": null,
   "metadata": {},
   "outputs": [],
   "source": [
    "i = np.random.randint(100, size=(3,3))\n",
    "print(i)\n",
    "j = np.random.randint(100, size=(3,2))\n",
    "print(j)\n",
    "print(i.dot(j))\n",
    "print(i @ j)\n",
    "print(j.T)"
   ]
  }
 ],
 "metadata": {
  "kernelspec": {
   "display_name": "tuto",
   "language": "python",
   "name": "python3"
  },
  "language_info": {
   "codemirror_mode": {
    "name": "ipython",
    "version": 3
   },
   "file_extension": ".py",
   "mimetype": "text/x-python",
   "name": "python",
   "nbconvert_exporter": "python",
   "pygments_lexer": "ipython3",
   "version": "3.10.5"
  },
  "orig_nbformat": 4,
  "vscode": {
   "interpreter": {
    "hash": "2efce106904f5f2f0dad8959c36b269fdcae3313423d12a4436fa799678fca58"
   }
  }
 },
 "nbformat": 4,
 "nbformat_minor": 2
}
